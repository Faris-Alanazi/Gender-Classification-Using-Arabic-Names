{
 "cells": [
  {
   "cell_type": "code",
   "execution_count": 337,
   "metadata": {},
   "outputs": [],
   "source": [
    "# python=3.8\n",
    "# conda env name : gender_pred_env"
   ]
  },
  {
   "cell_type": "markdown",
   "metadata": {},
   "source": [
    "# Packges"
   ]
  },
  {
   "cell_type": "code",
   "execution_count": 338,
   "metadata": {},
   "outputs": [],
   "source": [
    "# python=3.8\n",
    "# conda env name: gender_pred_env\n",
    "# Packages\n",
    "import joblib\n",
    "import numpy as np\n",
    "import pandas as pd\n",
    "import warnings\n",
    "import xgboost as xgb\n",
    "import mlflow\n",
    "import optuna\n",
    "import matplotlib.pyplot as plt\n",
    "from optuna.integration import XGBoostPruningCallback\n",
    "from tensorflow.keras.preprocessing.sequence import pad_sequences\n",
    "from tensorflow.keras.preprocessing.text import Tokenizer\n",
    "from tensorflow.keras.regularizers import l2\n",
    "from sklearn.model_selection import train_test_split\n",
    "from sklearn.metrics import accuracy_score, f1_score, confusion_matrix, precision_score, recall_score, roc_curve, auc, log_loss\n",
    "import seaborn as sns\n",
    "\n",
    "warnings.filterwarnings('ignore')"
   ]
  },
  {
   "cell_type": "code",
   "execution_count": 339,
   "metadata": {},
   "outputs": [
    {
     "data": {
      "text/html": [
       "<div>\n",
       "<style scoped>\n",
       "    .dataframe tbody tr th:only-of-type {\n",
       "        vertical-align: middle;\n",
       "    }\n",
       "\n",
       "    .dataframe tbody tr th {\n",
       "        vertical-align: top;\n",
       "    }\n",
       "\n",
       "    .dataframe thead th {\n",
       "        text-align: right;\n",
       "    }\n",
       "</style>\n",
       "<table border=\"1\" class=\"dataframe\">\n",
       "  <thead>\n",
       "    <tr style=\"text-align: right;\">\n",
       "      <th></th>\n",
       "      <th>name</th>\n",
       "      <th>sex</th>\n",
       "      <th>name_length</th>\n",
       "      <th>last_letter</th>\n",
       "      <th>first_letter</th>\n",
       "    </tr>\n",
       "  </thead>\n",
       "  <tbody>\n",
       "    <tr>\n",
       "      <th>0</th>\n",
       "      <td>ابتسام</td>\n",
       "      <td>0</td>\n",
       "      <td>6</td>\n",
       "      <td>م</td>\n",
       "      <td>ا</td>\n",
       "    </tr>\n",
       "    <tr>\n",
       "      <th>1</th>\n",
       "      <td>ابتهاج</td>\n",
       "      <td>0</td>\n",
       "      <td>6</td>\n",
       "      <td>ج</td>\n",
       "      <td>ا</td>\n",
       "    </tr>\n",
       "    <tr>\n",
       "      <th>2</th>\n",
       "      <td>ابتهال</td>\n",
       "      <td>0</td>\n",
       "      <td>6</td>\n",
       "      <td>ل</td>\n",
       "      <td>ا</td>\n",
       "    </tr>\n",
       "    <tr>\n",
       "      <th>3</th>\n",
       "      <td>اجتهاد</td>\n",
       "      <td>0</td>\n",
       "      <td>6</td>\n",
       "      <td>د</td>\n",
       "      <td>ا</td>\n",
       "    </tr>\n",
       "    <tr>\n",
       "      <th>4</th>\n",
       "      <td>ازدهار</td>\n",
       "      <td>0</td>\n",
       "      <td>6</td>\n",
       "      <td>ر</td>\n",
       "      <td>ا</td>\n",
       "    </tr>\n",
       "  </tbody>\n",
       "</table>\n",
       "</div>"
      ],
      "text/plain": [
       "     name  sex  name_length last_letter first_letter\n",
       "0  ابتسام    0            6           م            ا\n",
       "1  ابتهاج    0            6           ج            ا\n",
       "2  ابتهال    0            6           ل            ا\n",
       "3  اجتهاد    0            6           د            ا\n",
       "4  ازدهار    0            6           ر            ا"
      ]
     },
     "execution_count": 339,
     "metadata": {},
     "output_type": "execute_result"
    }
   ],
   "source": [
    "# Load Data\n",
    "df = pd.read_pickle('data/dataset_after_preporcessing.pkl')\n",
    "df.head()"
   ]
  },
  {
   "cell_type": "code",
   "execution_count": 340,
   "metadata": {},
   "outputs": [
    {
     "data": {
      "text/plain": [
       "(array([ 0,  0,  0,  0,  0,  0,  0,  0,  0,  0,  0,  1,  9, 17, 10,  1,  4]),\n",
       " array([ 4,  1, 10, 17,  9,  1,  0,  0,  0,  0,  0,  0,  0,  0,  0,  0,  0]))"
      ]
     },
     "execution_count": 340,
     "metadata": {},
     "output_type": "execute_result"
    }
   ],
   "source": [
    "max_name_length = max(df['name'].apply(len))\n",
    "unique_chars = set(''.join(df['name']))  \n",
    "vocab_size = len(unique_chars) + 1  \n",
    "\n",
    "tokenizer = Tokenizer(num_words=vocab_size, char_level=True)  # char_level=True for character tokenization\n",
    "tokenizer.fit_on_texts(df['name'])\n",
    "sequences = tokenizer.texts_to_sequences(df['name'])\n",
    "padded_sequences = pad_sequences(sequences, maxlen=max_name_length)\n",
    "name_reversed = np.array([seq[::-1] for seq in padded_sequences])\n",
    "padded_sequences[0], name_reversed[0]"
   ]
  },
  {
   "cell_type": "code",
   "execution_count": 341,
   "metadata": {},
   "outputs": [],
   "source": [
    "first_letter = df['name'].apply(lambda x: x[0])\n",
    "last_letter = df['name'].apply(lambda x: x[-1])\n",
    "\n",
    "first_letter_encoded = np.array([ord(char) for char in first_letter])\n",
    "last_letter_encoded = np.array([ord(char) for char in last_letter])"
   ]
  },
  {
   "cell_type": "code",
   "execution_count": 342,
   "metadata": {},
   "outputs": [],
   "source": [
    "# Load the scaler models\n",
    "scaler_first = joblib.load('saved_models/scaler_models/scaler_first_letter.pkl')\n",
    "scaler_last = joblib.load('saved_models/scaler_models/scaler_last_letter.pkl')\n",
    "\n",
    "# Transform the new data using the loaded scalers\n",
    "first_letter_encoded_scaled = scaler_first.transform(first_letter_encoded.reshape(-1, 1))\n",
    "last_letter_encoded_scaled = scaler_last.transform(last_letter_encoded.reshape(-1, 1))"
   ]
  },
  {
   "cell_type": "code",
   "execution_count": 343,
   "metadata": {},
   "outputs": [],
   "source": [
    "# y = df['sex'].values\n",
    "# name_length = df['name_length'].values\n",
    "# X = list(zip(padded_sequences, name_reversed, first_letter_encoded_scaled, last_letter_encoded_scaled, name_length))\n",
    "\n",
    "# # Define the size for the test and validation sets as percentages\n",
    "# test_size_percentage = 0.1\n",
    "# validation_size_percentage = 0.1\n",
    "\n",
    "# # Calculate the actual sizes for the test and validation sets\n",
    "# total_size = test_size_percentage + validation_size_percentage\n",
    "# test_size_actual = test_size_percentage / total_size\n",
    "# validation_size_actual = validation_size_percentage / total_size\n",
    "\n",
    "# train_size_percentage = 1 - total_size\n",
    "\n",
    "# # First split: Separate out the training data and the remaining data\n",
    "# X_train, X_remaining, y_train, y_remaining = train_test_split(X, y, test_size=total_size, random_state=11)\n",
    "\n",
    "# # Second split: Separate the remaining data into validation and test sets\n",
    "# X_val, X_test, y_val, y_test = train_test_split(X_remaining, y_remaining, test_size=test_size_actual, random_state=11)\n",
    "\n",
    "# # Print the number of samples in the training, validation, and test sets\n",
    "# print(f\"Training set size: {len(X_train)}, Labels: {len(y_train)}\")\n",
    "# print(f\"Validation set size: {len(X_val)}, Labels: {len(y_val)}\")\n",
    "# print(f\"Test set size: {len(X_test)}, Labels: {len(y_test)}\")\n",
    "\n",
    "# # Unpack the training data into separate arrays for each input\n",
    "# name_train, name_reversed_train, first_letter_train, last_letter_train, length_train = zip(*X_train)\n",
    "# name_val, name_reversed_val, first_letter_val, last_letter_val, length_val = zip(*X_val)\n",
    "# name_test, name_reversed_test, first_letter_test, last_letter_test, length_test = zip(*X_test)\n",
    "\n",
    "# # Convert tuples to numpy arrays\n",
    "# name_train = np.array(name_train)\n",
    "# name_reversed_train = np.array(name_reversed_train)\n",
    "# first_letter_train = np.array(first_letter_train)\n",
    "# last_letter_train = np.array(last_letter_train)\n",
    "# length_train = np.array(length_train)\n",
    "\n",
    "# name_val = np.array(name_val)\n",
    "# name_reversed_val = np.array(name_reversed_val)\n",
    "# first_letter_val = np.array(first_letter_val)\n",
    "# last_letter_val = np.array(last_letter_val)\n",
    "# length_val = np.array(length_val)\n",
    "\n",
    "# name_test = np.array(name_test)\n",
    "# name_reversed_test = np.array(name_reversed_test)\n",
    "# first_letter_test = np.array(first_letter_test)\n",
    "# last_letter_test = np.array(last_letter_test)\n",
    "# length_test = np.array(length_test)\n",
    "\n",
    "# # Reshape the length arrays to have two dimensions\n",
    "# length_train = length_train.reshape(-1, 1)\n",
    "# length_val = length_val.reshape(-1, 1)\n",
    "# length_test = length_test.reshape(-1, 1)\n",
    "\n",
    "# # Concatenate the features\n",
    "# X_train = np.concatenate([name_train, name_reversed_train, first_letter_train, last_letter_train, length_train], axis=1)\n",
    "# X_val = np.concatenate([name_val, name_reversed_val, first_letter_val, last_letter_val, length_val], axis=1)\n",
    "# X_test = np.concatenate([name_test,name_reversed_test ,first_letter_test, last_letter_test, length_test], axis=1)"
   ]
  },
  {
   "cell_type": "code",
   "execution_count": 344,
   "metadata": {},
   "outputs": [
    {
     "name": "stdout",
     "output_type": "stream",
     "text": [
      "Training set size: 7275, Labels: 7275\n",
      "Validation set size: 909, Labels: 909\n",
      "Test set size: 910, Labels: 910\n"
     ]
    }
   ],
   "source": [
    "y = df['sex'].values\n",
    "name_length = df['name_length'].values\n",
    "X = list(zip(padded_sequences, first_letter_encoded_scaled, last_letter_encoded_scaled, name_length))\n",
    "\n",
    "# Define the size for the test and validation sets as percentages\n",
    "test_size_percentage = 0.1\n",
    "validation_size_percentage = 0.1\n",
    "\n",
    "# Calculate the actual sizes for the test and validation sets\n",
    "total_size = test_size_percentage + validation_size_percentage\n",
    "test_size_actual = test_size_percentage / total_size\n",
    "validation_size_actual = validation_size_percentage / total_size\n",
    "\n",
    "train_size_percentage = 1 - total_size\n",
    "\n",
    "# First split: Separate out the training data and the remaining data\n",
    "X_train, X_remaining, y_train, y_remaining = train_test_split(X, y, test_size=total_size, random_state=11)\n",
    "\n",
    "# Second split: Separate the remaining data into validation and test sets\n",
    "X_val, X_test, y_val, y_test = train_test_split(X_remaining, y_remaining, test_size=test_size_actual, random_state=11)\n",
    "\n",
    "# Print the number of samples in the training, validation, and test sets\n",
    "print(f\"Training set size: {len(X_train)}, Labels: {len(y_train)}\")\n",
    "print(f\"Validation set size: {len(X_val)}, Labels: {len(y_val)}\")\n",
    "print(f\"Test set size: {len(X_test)}, Labels: {len(y_test)}\")\n",
    "\n",
    "# Unpack the training data into separate arrays for each input\n",
    "name_train, first_letter_train, last_letter_train, length_train = zip(*X_train)\n",
    "name_val, first_letter_val, last_letter_val, length_val = zip(*X_val)\n",
    "name_test, first_letter_test, last_letter_test, length_test = zip(*X_test)\n",
    "\n",
    "# Convert tuples to numpy arrays\n",
    "name_train = np.array(name_train)\n",
    "first_letter_train = np.array(first_letter_train)\n",
    "last_letter_train = np.array(last_letter_train)\n",
    "length_train = np.array(length_train)\n",
    "\n",
    "name_val = np.array(name_val)\n",
    "first_letter_val = np.array(first_letter_val)\n",
    "last_letter_val = np.array(last_letter_val)\n",
    "length_val = np.array(length_val)\n",
    "\n",
    "name_test = np.array(name_test)\n",
    "first_letter_test = np.array(first_letter_test)\n",
    "last_letter_test = np.array(last_letter_test)\n",
    "length_test = np.array(length_test)\n",
    "\n",
    "# Reshape the length arrays to have two dimensions\n",
    "length_train = length_train.reshape(-1, 1)\n",
    "length_val = length_val.reshape(-1, 1)\n",
    "length_test = length_test.reshape(-1, 1)\n",
    "\n",
    "# Concatenate the features\n",
    "X_train = np.concatenate([name_train, first_letter_train, last_letter_train, length_train], axis=1)\n",
    "X_val = np.concatenate([name_val, first_letter_val, last_letter_val, length_val], axis=1)\n",
    "X_test = np.concatenate([name_test, first_letter_test, last_letter_test, length_test], axis=1)"
   ]
  },
  {
   "cell_type": "code",
   "execution_count": 345,
   "metadata": {},
   "outputs": [],
   "source": [
    "def objective(trial):\n",
    "    # Hyperparameters to be tuned by Optuna\n",
    "    param = {\n",
    "        'objective': 'binary:logistic',\n",
    "        'eval_metric': 'logloss',\n",
    "        'use_label_encoder': False,\n",
    "        'lambda': trial.suggest_loguniform('lambda', 1e-8, 10.0),\n",
    "        'alpha': trial.suggest_loguniform('alpha', 1e-8, 10.0),\n",
    "        'colsample_bytree': trial.suggest_int('colsample_bytree',0.1, 1.0),\n",
    "        'subsample': trial.suggest_int('subsample', 0.1, 1.0),\n",
    "        'learning_rate': trial.suggest_float('learning_rate', 0.001,0.1),\n",
    "        'n_estimators': trial.suggest_int('n_estimators', 30,1000),\n",
    "        'max_depth': trial.suggest_int('max_depth', 5,30),\n",
    "        'min_child_weight': trial.suggest_int('min_child_weight', 1, 300),\n",
    "        'gamma': trial.suggest_loguniform('gamma', 1e-8, 1.0),\n",
    "        'scale_pos_weight': trial.suggest_float('scale_pos_weight', 1, 100),\n",
    "        'early_stopping_rounds':trial.suggest_int('early_stopping_rounds', 10, 100)\n",
    "    }\n",
    "\n",
    "   \n",
    " # Initialize XGBoost with hyperparameters\n",
    "    xgb_model = xgb.XGBClassifier(**param)\n",
    "\n",
    "    # Train the model with dynamic early stopping rounds\n",
    "    xgb_model.fit(X_train, y_train, eval_set=[(X_val, y_val)], \n",
    "                  verbose=False, \n",
    "                  callbacks=[XGBoostPruningCallback(trial, \"validation_0-logloss\")])\n",
    "\n",
    "    # Prediction and evaluation\n",
    "    preds = xgb_model.predict_proba(X_val)[:, 1]\n",
    "    log_loss_val = log_loss(y_val, preds)\n",
    "\n",
    "    return log_loss_val"
   ]
  },
  {
   "cell_type": "code",
   "execution_count": 346,
   "metadata": {},
   "outputs": [],
   "source": [
    "# # Create a study object and optimize the objective function\n",
    "# study = optuna.create_study(direction='minimize')\n",
    "# study.optimize(objective, n_trials=500);"
   ]
  },
  {
   "cell_type": "code",
   "execution_count": 347,
   "metadata": {},
   "outputs": [],
   "source": [
    "# # Best hyperparameters\n",
    "# print('Number of finished trials:', len(study.trials))\n",
    "# print('Best trial:', study.best_trial.params)\n",
    "# best_params =  study.best_trial.params"
   ]
  },
  {
   "cell_type": "code",
   "execution_count": 348,
   "metadata": {},
   "outputs": [],
   "source": [
    "best_params = {\n",
    "    \"alpha\": 0.00012080907326238165,\n",
    "    \"colsample_bytree\": 0.6,\n",
    "    \"early_stopping_rounds\": 36,\n",
    "    \"gamma\": 3.676299004390142e-08,\n",
    "    \"lambda\": 5.014434079040542e-06,\n",
    "    \"learning_rate\": 0.1,\n",
    "    \"max_depth\": 13,\n",
    "    \"min_child_weight\": 1,\n",
    "    \"n_estimators\": 100,\n",
    "    \"scale_pos_weight\": 1.0382300011591978,\n",
    "    \"subsample\": 0.7\n",
    "}"
   ]
  },
  {
   "cell_type": "code",
   "execution_count": 349,
   "metadata": {},
   "outputs": [
    {
     "data": {
      "text/plain": [
       "<Experiment: artifact_location='mlflow-artifacts:/461486716067717122', creation_time=1705996741401, experiment_id='461486716067717122', last_update_time=1705996741401, lifecycle_stage='active', name='Gender Prediction Models Tracking', tags={}>"
      ]
     },
     "execution_count": 349,
     "metadata": {},
     "output_type": "execute_result"
    }
   ],
   "source": [
    "# MLflow setup\n",
    "mlflow.set_tracking_uri(\"http://127.0.0.1:5000\")\n",
    "mlflow.set_experiment(\"Gender Prediction Models Tracking\")"
   ]
  },
  {
   "cell_type": "code",
   "execution_count": 350,
   "metadata": {},
   "outputs": [
    {
     "name": "stdout",
     "output_type": "stream",
     "text": [
      "[0]\tvalidation_0-logloss:0.58353\n",
      "[1]\tvalidation_0-logloss:0.54433\n",
      "[2]\tvalidation_0-logloss:0.51359\n",
      "[3]\tvalidation_0-logloss:0.49000\n",
      "[4]\tvalidation_0-logloss:0.46967\n",
      "[5]\tvalidation_0-logloss:0.45314\n",
      "[6]\tvalidation_0-logloss:0.43823\n",
      "[7]\tvalidation_0-logloss:0.42322\n",
      "[8]\tvalidation_0-logloss:0.41581\n",
      "[9]\tvalidation_0-logloss:0.40343\n",
      "[10]\tvalidation_0-logloss:0.39290\n",
      "[11]\tvalidation_0-logloss:0.38559\n",
      "[12]\tvalidation_0-logloss:0.38133\n",
      "[13]\tvalidation_0-logloss:0.37531\n",
      "[14]\tvalidation_0-logloss:0.36999\n",
      "[15]\tvalidation_0-logloss:0.36541\n",
      "[16]\tvalidation_0-logloss:0.36201\n",
      "[17]\tvalidation_0-logloss:0.35697\n",
      "[18]\tvalidation_0-logloss:0.35303\n",
      "[19]\tvalidation_0-logloss:0.35049\n",
      "[20]\tvalidation_0-logloss:0.34840\n",
      "[21]\tvalidation_0-logloss:0.34454\n",
      "[22]\tvalidation_0-logloss:0.34447\n",
      "[23]\tvalidation_0-logloss:0.34101\n",
      "[24]\tvalidation_0-logloss:0.33915\n",
      "[25]\tvalidation_0-logloss:0.33724\n",
      "[26]\tvalidation_0-logloss:0.33766\n",
      "[27]\tvalidation_0-logloss:0.33459\n",
      "[28]\tvalidation_0-logloss:0.33453\n",
      "[29]\tvalidation_0-logloss:0.33310\n",
      "[30]\tvalidation_0-logloss:0.33195\n",
      "[31]\tvalidation_0-logloss:0.33165\n",
      "[32]\tvalidation_0-logloss:0.33123\n",
      "[33]\tvalidation_0-logloss:0.33101\n",
      "[34]\tvalidation_0-logloss:0.33060\n",
      "[35]\tvalidation_0-logloss:0.33073\n",
      "[36]\tvalidation_0-logloss:0.33214\n",
      "[37]\tvalidation_0-logloss:0.33170\n",
      "[38]\tvalidation_0-logloss:0.33164\n",
      "[39]\tvalidation_0-logloss:0.33202\n",
      "[40]\tvalidation_0-logloss:0.33110\n"
     ]
    },
    {
     "name": "stdout",
     "output_type": "stream",
     "text": [
      "[41]\tvalidation_0-logloss:0.33042\n",
      "[42]\tvalidation_0-logloss:0.33135\n",
      "[43]\tvalidation_0-logloss:0.33224\n",
      "[44]\tvalidation_0-logloss:0.33317\n",
      "[45]\tvalidation_0-logloss:0.33334\n",
      "[46]\tvalidation_0-logloss:0.33355\n",
      "[47]\tvalidation_0-logloss:0.33383\n",
      "[48]\tvalidation_0-logloss:0.33393\n",
      "[49]\tvalidation_0-logloss:0.33426\n",
      "[50]\tvalidation_0-logloss:0.33444\n",
      "[51]\tvalidation_0-logloss:0.33507\n",
      "[52]\tvalidation_0-logloss:0.33637\n",
      "[53]\tvalidation_0-logloss:0.33723\n",
      "[54]\tvalidation_0-logloss:0.33836\n",
      "[55]\tvalidation_0-logloss:0.33878\n",
      "[56]\tvalidation_0-logloss:0.34053\n",
      "[57]\tvalidation_0-logloss:0.34224\n",
      "[58]\tvalidation_0-logloss:0.34254\n",
      "[59]\tvalidation_0-logloss:0.34352\n",
      "[60]\tvalidation_0-logloss:0.34417\n",
      "[61]\tvalidation_0-logloss:0.34369\n",
      "[62]\tvalidation_0-logloss:0.34324\n",
      "[63]\tvalidation_0-logloss:0.34383\n",
      "[64]\tvalidation_0-logloss:0.34462\n",
      "[65]\tvalidation_0-logloss:0.34551\n",
      "[66]\tvalidation_0-logloss:0.34658\n",
      "[67]\tvalidation_0-logloss:0.34693\n",
      "[68]\tvalidation_0-logloss:0.34682\n",
      "[69]\tvalidation_0-logloss:0.34591\n",
      "[70]\tvalidation_0-logloss:0.34714\n",
      "[71]\tvalidation_0-logloss:0.34706\n",
      "[72]\tvalidation_0-logloss:0.34776\n",
      "[73]\tvalidation_0-logloss:0.34805\n",
      "[74]\tvalidation_0-logloss:0.34923\n",
      "[75]\tvalidation_0-logloss:0.35075\n",
      "[76]\tvalidation_0-logloss:0.35052\n",
      "[77]\tvalidation_0-logloss:0.35027\n"
     ]
    }
   ],
   "source": [
    "# Start MLflow run\n",
    "with mlflow.start_run():\n",
    "    \n",
    "    # Initialize XGBoost classifier with best hyperparameters\n",
    "    xgb_model = xgb.XGBClassifier(\n",
    "        objective='binary:logistic',\n",
    "        eval_metric='logloss',\n",
    "        use_label_encoder=False,\n",
    "        **best_params # Unpack best parameters here\n",
    "    )\n",
    " \n",
    "    # Train the model with early stopping\n",
    "    xgb_model.fit(\n",
    "        X_train, y_train, \n",
    "        eval_set=[(X_val, y_val)],\n",
    "        verbose=True,\n",
    "    )\n",
    "\n",
    "    # Log model parameters and early stopping rounds\n",
    "    mlflow.log_params(best_params)\n",
    "    \n",
    "    # Log train and validation accuracy\n",
    "    train_accuracy = accuracy_score(y_train, xgb_model.predict(X_train))\n",
    "    val_accuracy = accuracy_score(y_val, xgb_model.predict(X_val))\n",
    "    mlflow.log_metric(\"train_accuracy\", train_accuracy)\n",
    "    mlflow.log_metric(\"val_accuracy\", val_accuracy)\n",
    "\n",
    "    # Evaluate the model\n",
    "    y_pred = xgb_model.predict(X_test)\n",
    "    y_pred_classes = np.where(y_pred > 0.5, 1, 0).reshape(-1)\n",
    "\n",
    "    # Calculate and log additional metrics\n",
    "    test_accuracy = accuracy_score(y_test, y_pred_classes)\n",
    "    f1 = f1_score(y_test, y_pred_classes)\n",
    "    precision = precision_score(y_test, y_pred_classes)\n",
    "    recall = recall_score(y_test, y_pred_classes)\n",
    "\n",
    "    # Log these metrics in MLflow\n",
    "    mlflow.log_metrics({\n",
    "        \"test_accuracy\": test_accuracy, \n",
    "        \"test_f1\": f1,\n",
    "        \"test_precision\": precision,\n",
    "        \"test_recall\": recall,\n",
    "    })\n",
    "\n",
    "    # Predict probabilities for the test set\n",
    "    y_pred_proba = xgb_model.predict_proba(X_test)[:, 1]\n",
    "\n",
    "    # Calculate and log ROC curve and AUC\n",
    "    fpr, tpr, thresholds = roc_curve(y_test, y_pred_proba)\n",
    "    roc_auc = auc(fpr, tpr)\n",
    "    mlflow.log_metrics({\"test_roc_auc\": roc_auc})\n",
    "\n",
    "    # Confusion matrix calculation\n",
    "    cm = confusion_matrix(y_test, y_pred_classes)\n",
    "    cm_dict = {f\"{i}-{j}\": cm[i, j] for i in range(cm.shape[0]) for j in range(cm.shape[1])}\n",
    "    mlflow.set_tag(\"confusion_matrix\", list(cm_dict.values()))\n",
    "\n",
    "    # Log the model\n",
    "    mlflow.xgboost.log_model(xgb_model, \"model\")\n",
    "\n",
    "    # Log additional information\n",
    "    mlflow.set_tags({\n",
    "        \"Description\": \"Optimized XGBoost binary classifier\",\n",
    "        \"Features\": ', '.join(df.columns.tolist()),\n",
    "        'Number of Features':len(df.columns.tolist()),\n",
    "        \"Encoding\" : \"Char Level For names | Label Encoding for other features\",\n",
    "        \"Model Type\": \"XGBoost\"\n",
    "    })"
   ]
  },
  {
   "cell_type": "code",
   "execution_count": 351,
   "metadata": {},
   "outputs": [
    {
     "name": "stdout",
     "output_type": "stream",
     "text": [
      "\n",
      "-----------------------------------------------------------\n",
      "Train Accuracy: 0.931\n",
      "Validation Accuracy: 0.868\n",
      "Test Accuracy: 0.837\n",
      "\n",
      "---Metrics---\n",
      "\n",
      "F1 Score: 0.884\n",
      "Precision: 0.857\n",
      "Recall: 0.912\n",
      "ROC AUC: 0.896\n",
      "-----------------------------------------------------------\n",
      "\n"
     ]
    }
   ],
   "source": [
    "# Print all metrics\n",
    "print('\\n-----------------------------------------------------------')\n",
    "print(f\"Train Accuracy: {round(train_accuracy, 3)}\")\n",
    "print(f\"Validation Accuracy: {round(val_accuracy, 3)}\")\n",
    "print(f\"Test Accuracy: {round(test_accuracy, 3)}\")\n",
    "print(\"\\n---Metrics---\\n\")\n",
    "print(f\"F1 Score: {round(f1, 3)}\")\n",
    "print(f\"Precision: {round(precision, 3)}\")\n",
    "print(f\"Recall: {round(recall, 3)}\")\n",
    "print(f\"ROC AUC: {round(roc_auc, 3)}\")\n",
    "print('-----------------------------------------------------------\\n')"
   ]
  },
  {
   "cell_type": "code",
   "execution_count": 352,
   "metadata": {},
   "outputs": [
    {
     "data": {
      "image/png": "[encoded data removed]",
      "text/plain": [
       "<Figure size 800x400 with 1 Axes>"
      ]
     },
     "metadata": {},
     "output_type": "display_data"
    }
   ],
   "source": [
    "# Apply the seaborn style to make plots nicer\n",
    "sns.set(style=\"whitegrid\")\n",
    "\n",
    "# Create the figure with a specific size\n",
    "plt.figure(figsize=(8, 4))\n",
    "\n",
    "# Assuming you have the training history from your XGBoost model run\n",
    "# Replace 'xgb_history' with the actual variable name that stores the training history\n",
    "xgb_history = xgb_model.evals_result()\n",
    "\n",
    "# Accuracy plot\n",
    "plt.subplot(1, 1, 1)\n",
    "plt.plot(xgb_history['validation_0']['logloss'], label='Train Log Loss', linewidth=2, marker='o', markersize=5)\n",
    "\n",
    "# Title and labels\n",
    "plt.title('Model Log Loss Over Iterations', fontsize=16)\n",
    "plt.ylabel('Log Loss', fontsize=14)\n",
    "plt.xlabel('Iteration', fontsize=14)\n",
    "\n",
    "# Legend\n",
    "plt.legend(loc='upper right', fontsize=12)\n",
    "\n",
    "# Set limits and ticks for readability\n",
    "plt.xlim(0, len(xgb_history['validation_0']['logloss']) - 1)\n",
    "plt.xticks(range(0, len(xgb_history['validation_0']['logloss']), max(len(xgb_history['validation_0']['logloss']) // 10, 1)), fontsize=12)\n",
    "plt.yticks(fontsize=12);"
   ]
  },
  {
   "cell_type": "code",
   "execution_count": 353,
   "metadata": {},
   "outputs": [
    {
     "data": {
      "image/png": "[encoded data removed]",
      "text/plain": [
       "<Figure size 400x400 with 1 Axes>"
      ]
     },
     "metadata": {},
     "output_type": "display_data"
    }
   ],
   "source": [
    "# Plotting the confusion matrix\n",
    "plt.figure(figsize=(4, 4))\n",
    "sns.heatmap(cm, annot=True, fmt='d', cmap='Blues', cbar=False)\n",
    "plt.title('Confusion Matrix')\n",
    "plt.xlabel('Predicted Label')\n",
    "plt.ylabel('True Label');"
   ]
  },
  {
   "cell_type": "code",
   "execution_count": 354,
   "metadata": {},
   "outputs": [
    {
     "data": {
      "text/plain": [
       "<matplotlib.legend.Legend at 0x204dae771f0>"
      ]
     },
     "execution_count": 354,
     "metadata": {},
     "output_type": "execute_result"
    },
    {
     "data": {
      "image/png": "[encoded data removed]",
      "text/plain": [
       "<Figure size 640x480 with 1 Axes>"
      ]
     },
     "metadata": {},
     "output_type": "display_data"
    }
   ],
   "source": [
    "plt.plot(fpr, tpr, color='darkorange', lw=2, label=f'ROC curve (area = {roc_auc:.3f})')\n",
    "plt.plot([0, 1], [0, 1], color='navy', lw=2, linestyle='--')\n",
    "plt.xlim([0.0, 1.0])\n",
    "plt.ylim([0.0, 1.05])\n",
    "plt.xlabel('False Positive Rate')\n",
    "plt.ylabel('True Positive Rate')\n",
    "plt.title('Receiver Operating Characteristic')\n",
    "plt.legend(loc='lower right')"
   ]
  },
  {
   "cell_type": "code",
   "execution_count": 355,
   "metadata": {},
   "outputs": [],
   "source": [
    "if test_accuracy > 0.870 or f1 > 0.92:\n",
    "    xgb_model.save_model(f\"saved_models/XGBoost Models/XGBoost_Acc_{round(test_accuracy,3)}_F1_{round(f1,3)}_Roc_{round(roc_auc,3)}.bin\")\n",
    "    print(\"Model Saved!\")"
   ]
  },
  {
   "cell_type": "code",
   "execution_count": null,
   "metadata": {},
   "outputs": [],
   "source": []
  }
 ],
 "metadata": {
  "kernelspec": {
   "display_name": "ds",
   "language": "python",
   "name": "python3"
  },
  "language_info": {
   "codemirror_mode": {
    "name": "ipython",
    "version": 3
   },
   "file_extension": ".py",
   "mimetype": "text/x-python",
   "name": "python",
   "nbconvert_exporter": "python",
   "pygments_lexer": "ipython3",
   "version": "3.8.18"
  }
 },
 "nbformat": 4,
 "nbformat_minor": 2
}
