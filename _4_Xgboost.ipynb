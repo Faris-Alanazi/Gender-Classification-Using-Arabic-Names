{
 "cells": [
  {
   "cell_type": "code",
   "execution_count": 57,
   "metadata": {},
   "outputs": [],
   "source": [
    "# python=3.8\n",
    "# conda env name : gender_pred_env"
   ]
  },
  {
   "cell_type": "markdown",
   "metadata": {},
   "source": [
    "# Packges"
   ]
  },
  {
   "cell_type": "code",
   "execution_count": 58,
   "metadata": {},
   "outputs": [],
   "source": [
    "import mlflow\n",
    "import mlflow.keras\n",
    "from mlflow.models.signature import infer_signature\n",
    "import numpy as np\n",
    "import pandas as pd\n",
    "import xgboost as xgb\n",
    "from sklearn.metrics import accuracy_score, classification_report\n",
    "from sklearn.model_selection import train_test_split\n",
    "from tensorflow.keras.models import Sequential, Model\n",
    "from tensorflow.keras.layers import Input, Embedding, LSTM, Dense, concatenate, Dropout\n",
    "from tensorflow.keras.preprocessing.text import Tokenizer\n",
    "from tensorflow.keras.preprocessing.sequence import pad_sequences\n",
    "from tensorflow.keras.regularizers import l2\n",
    "from sklearn.model_selection import train_test_split\n",
    "from sklearn.metrics import accuracy_score, f1_score, confusion_matrix\n",
    "from sklearn.preprocessing import LabelEncoder, MinMaxScaler\n",
    "import matplotlib.pyplot as plt\n",
    "import seaborn as sns\n",
    "\n",
    "import warnings\n",
    "warnings.filterwarnings('ignore')"
   ]
  },
  {
   "cell_type": "code",
   "execution_count": 59,
   "metadata": {},
   "outputs": [
    {
     "data": {
      "text/html": [
       "<div>\n",
       "<style scoped>\n",
       "    .dataframe tbody tr th:only-of-type {\n",
       "        vertical-align: middle;\n",
       "    }\n",
       "\n",
       "    .dataframe tbody tr th {\n",
       "        vertical-align: top;\n",
       "    }\n",
       "\n",
       "    .dataframe thead th {\n",
       "        text-align: right;\n",
       "    }\n",
       "</style>\n",
       "<table border=\"1\" class=\"dataframe\">\n",
       "  <thead>\n",
       "    <tr style=\"text-align: right;\">\n",
       "      <th></th>\n",
       "      <th>name</th>\n",
       "      <th>sex</th>\n",
       "      <th>last_letter</th>\n",
       "      <th>last_two_letters</th>\n",
       "      <th>first_letter</th>\n",
       "      <th>first_two_letters</th>\n",
       "      <th>name_length</th>\n",
       "    </tr>\n",
       "  </thead>\n",
       "  <tbody>\n",
       "    <tr>\n",
       "      <th>0</th>\n",
       "      <td>ابتسام</td>\n",
       "      <td>0</td>\n",
       "      <td>م</td>\n",
       "      <td>ام</td>\n",
       "      <td>ا</td>\n",
       "      <td>اب</td>\n",
       "      <td>6</td>\n",
       "    </tr>\n",
       "    <tr>\n",
       "      <th>1</th>\n",
       "      <td>ابتهاج</td>\n",
       "      <td>0</td>\n",
       "      <td>ج</td>\n",
       "      <td>اج</td>\n",
       "      <td>ا</td>\n",
       "      <td>اب</td>\n",
       "      <td>6</td>\n",
       "    </tr>\n",
       "    <tr>\n",
       "      <th>2</th>\n",
       "      <td>ابتهال</td>\n",
       "      <td>0</td>\n",
       "      <td>ل</td>\n",
       "      <td>ال</td>\n",
       "      <td>ا</td>\n",
       "      <td>اب</td>\n",
       "      <td>6</td>\n",
       "    </tr>\n",
       "    <tr>\n",
       "      <th>3</th>\n",
       "      <td>اجتهاد</td>\n",
       "      <td>0</td>\n",
       "      <td>د</td>\n",
       "      <td>اد</td>\n",
       "      <td>ا</td>\n",
       "      <td>اج</td>\n",
       "      <td>6</td>\n",
       "    </tr>\n",
       "    <tr>\n",
       "      <th>4</th>\n",
       "      <td>ازدهار</td>\n",
       "      <td>0</td>\n",
       "      <td>ر</td>\n",
       "      <td>ار</td>\n",
       "      <td>ا</td>\n",
       "      <td>از</td>\n",
       "      <td>6</td>\n",
       "    </tr>\n",
       "  </tbody>\n",
       "</table>\n",
       "</div>"
      ],
      "text/plain": [
       "     name  sex last_letter last_two_letters first_letter first_two_letters  \\\n",
       "0  ابتسام    0           م               ام            ا                اب   \n",
       "1  ابتهاج    0           ج               اج            ا                اب   \n",
       "2  ابتهال    0           ل               ال            ا                اب   \n",
       "3  اجتهاد    0           د               اد            ا                اج   \n",
       "4  ازدهار    0           ر               ار            ا                از   \n",
       "\n",
       "   name_length  \n",
       "0            6  \n",
       "1            6  \n",
       "2            6  \n",
       "3            6  \n",
       "4            6  "
      ]
     },
     "execution_count": 59,
     "metadata": {},
     "output_type": "execute_result"
    }
   ],
   "source": [
    "# Load Data\n",
    "df = pd.read_pickle('data/dataset_after_preporcessing.pkl')\n",
    "df.head()"
   ]
  },
  {
   "cell_type": "code",
   "execution_count": 60,
   "metadata": {},
   "outputs": [
    {
     "data": {
      "text/plain": [
       "(17, 41)"
      ]
     },
     "execution_count": 60,
     "metadata": {},
     "output_type": "execute_result"
    }
   ],
   "source": [
    "max_name_length = max(df['name'].apply(len))\n",
    "unique_chars = set(''.join(df['name']))  \n",
    "vocab_size = len(unique_chars) + 1  \n",
    "\n",
    "max_name_length, vocab_size"
   ]
  },
  {
   "cell_type": "code",
   "execution_count": 61,
   "metadata": {},
   "outputs": [
    {
     "data": {
      "text/html": [
       "<div>\n",
       "<style scoped>\n",
       "    .dataframe tbody tr th:only-of-type {\n",
       "        vertical-align: middle;\n",
       "    }\n",
       "\n",
       "    .dataframe tbody tr th {\n",
       "        vertical-align: top;\n",
       "    }\n",
       "\n",
       "    .dataframe thead th {\n",
       "        text-align: right;\n",
       "    }\n",
       "</style>\n",
       "<table border=\"1\" class=\"dataframe\">\n",
       "  <thead>\n",
       "    <tr style=\"text-align: right;\">\n",
       "      <th></th>\n",
       "      <th>name</th>\n",
       "      <th>sex</th>\n",
       "      <th>last_letter</th>\n",
       "      <th>last_two_letters</th>\n",
       "      <th>first_letter</th>\n",
       "      <th>first_two_letters</th>\n",
       "      <th>name_length</th>\n",
       "    </tr>\n",
       "  </thead>\n",
       "  <tbody>\n",
       "    <tr>\n",
       "      <th>0</th>\n",
       "      <td>ابتسام</td>\n",
       "      <td>0</td>\n",
       "      <td>0.823529</td>\n",
       "      <td>0.102857</td>\n",
       "      <td>0.15625</td>\n",
       "      <td>0.080702</td>\n",
       "      <td>6</td>\n",
       "    </tr>\n",
       "    <tr>\n",
       "      <th>1</th>\n",
       "      <td>ابتهاج</td>\n",
       "      <td>0</td>\n",
       "      <td>0.264706</td>\n",
       "      <td>0.066667</td>\n",
       "      <td>0.15625</td>\n",
       "      <td>0.080702</td>\n",
       "      <td>6</td>\n",
       "    </tr>\n",
       "    <tr>\n",
       "      <th>2</th>\n",
       "      <td>ابتهال</td>\n",
       "      <td>0</td>\n",
       "      <td>0.794118</td>\n",
       "      <td>0.100952</td>\n",
       "      <td>0.15625</td>\n",
       "      <td>0.080702</td>\n",
       "      <td>6</td>\n",
       "    </tr>\n",
       "    <tr>\n",
       "      <th>3</th>\n",
       "      <td>اجتهاد</td>\n",
       "      <td>0</td>\n",
       "      <td>0.352941</td>\n",
       "      <td>0.072381</td>\n",
       "      <td>0.15625</td>\n",
       "      <td>0.085965</td>\n",
       "      <td>6</td>\n",
       "    </tr>\n",
       "    <tr>\n",
       "      <th>4</th>\n",
       "      <td>ازدهار</td>\n",
       "      <td>0</td>\n",
       "      <td>0.411765</td>\n",
       "      <td>0.076190</td>\n",
       "      <td>0.15625</td>\n",
       "      <td>0.096491</td>\n",
       "      <td>6</td>\n",
       "    </tr>\n",
       "  </tbody>\n",
       "</table>\n",
       "</div>"
      ],
      "text/plain": [
       "     name  sex  last_letter  last_two_letters  first_letter  \\\n",
       "0  ابتسام    0     0.823529          0.102857       0.15625   \n",
       "1  ابتهاج    0     0.264706          0.066667       0.15625   \n",
       "2  ابتهال    0     0.794118          0.100952       0.15625   \n",
       "3  اجتهاد    0     0.352941          0.072381       0.15625   \n",
       "4  ازدهار    0     0.411765          0.076190       0.15625   \n",
       "\n",
       "   first_two_letters  name_length  \n",
       "0           0.080702            6  \n",
       "1           0.080702            6  \n",
       "2           0.080702            6  \n",
       "3           0.085965            6  \n",
       "4           0.096491            6  "
      ]
     },
     "execution_count": 61,
     "metadata": {},
     "output_type": "execute_result"
    }
   ],
   "source": [
    "scaler = MinMaxScaler()\n",
    "label_encoder = LabelEncoder()\n",
    "\n",
    "for column in ['last_letter', 'last_two_letters', 'first_letter', 'first_two_letters']:\n",
    "    df[column] = label_encoder.fit_transform(df[column])\n",
    "    df[column] = scaler.fit_transform(df[[column]])\n",
    "\n",
    "\n",
    "df.head()"
   ]
  },
  {
   "cell_type": "code",
   "execution_count": 62,
   "metadata": {},
   "outputs": [],
   "source": [
    "# Tokenizing and padding the 'name' column for LSTM input\n",
    "tokenizer = Tokenizer(num_words=vocab_size, char_level=True)  # char_level=True for character tokenization\n",
    "tokenizer.fit_on_texts(df['name'])\n",
    "sequences = tokenizer.texts_to_sequences(df['name'])\n",
    "padded_sequences = pad_sequences(sequences, maxlen=max_name_length)"
   ]
  },
  {
   "cell_type": "code",
   "execution_count": 63,
   "metadata": {},
   "outputs": [],
   "source": [
    "# Preparing additional features\n",
    "additional_features = df[['last_letter', 'last_two_letters', 'first_letter', 'first_two_letters', 'name_length']].values\n",
    "additional_features = additional_features.astype('float32')"
   ]
  },
  {
   "cell_type": "code",
   "execution_count": 64,
   "metadata": {},
   "outputs": [
    {
     "data": {
      "text/plain": [
       "((8665, 22), (8665,))"
      ]
     },
     "execution_count": 64,
     "metadata": {},
     "output_type": "execute_result"
    }
   ],
   "source": [
    "X = np.concatenate([padded_sequences, additional_features], axis=1)\n",
    "y = df.sex\n",
    "\n",
    "X.shape,y.shape"
   ]
  },
  {
   "cell_type": "code",
   "execution_count": 65,
   "metadata": {},
   "outputs": [],
   "source": [
    "# Model parameters\n",
    "embedding_dim = 512\n",
    "lstm_units = 64\n",
    "epochs = 24\n",
    "batch_size = 32\n",
    "l2_lambda = 0.000\n",
    "dropout_rate = 0.2"
   ]
  },
  {
   "cell_type": "code",
   "execution_count": 66,
   "metadata": {},
   "outputs": [
    {
     "data": {
      "text/plain": [
       "((6932, 22), (6932,), (866, 22), (866,), (867, 22), (867,))"
      ]
     },
     "execution_count": 66,
     "metadata": {},
     "output_type": "execute_result"
    }
   ],
   "source": [
    "# First split: Separate out the training data (80% of the total data)\n",
    "X_train, X_temp, y_train, y_temp = train_test_split(X, y, test_size=0.2, random_state=11)\n",
    "\n",
    "# Second split: Divide the remaining 20% of the data into validation and test sets (50% each of the remaining data)\n",
    "X_val, X_test, y_val, y_test = train_test_split(X_temp, y_temp, test_size=0.5, random_state=11)\n",
    "\n",
    "# Check shapes\n",
    "X_train.shape, y_train.shape, X_val.shape, y_val.shape, X_test.shape, y_test.shape"
   ]
  },
  {
   "cell_type": "code",
   "execution_count": 67,
   "metadata": {},
   "outputs": [],
   "source": [
    "X_train_seq = X_train[:, :max_name_length]\n",
    "X_train_feat = X_train[:, max_name_length:]\n",
    "\n",
    "X_val_seq = X_val[:, :max_name_length]\n",
    "X_val_feat = X_val[:, max_name_length:]\n",
    "\n",
    "X_test_seq = X_test[:, :max_name_length]\n",
    "X_test_feat = X_test[:, max_name_length:]"
   ]
  },
  {
   "cell_type": "code",
   "execution_count": 68,
   "metadata": {},
   "outputs": [
    {
     "data": {
      "text/plain": [
       "(80.0, 9.994, 10.006)"
      ]
     },
     "execution_count": 68,
     "metadata": {},
     "output_type": "execute_result"
    }
   ],
   "source": [
    "# Calculate dataset sizes\n",
    "total_size = len(X)\n",
    "train_size = len(X_train)\n",
    "val_size = len(X_val)\n",
    "test_size = len(X_test)\n",
    "\n",
    "# Calculate percentages and round to 2 decimal points\n",
    "train_percentage = round((train_size / total_size) * 100, 3)\n",
    "val_percentage = round((val_size / total_size) * 100, 3)\n",
    "test_percentage = round((test_size / total_size) * 100, 3)\n",
    "\n",
    "train_percentage , val_percentage , test_percentage"
   ]
  },
  {
   "cell_type": "code",
   "execution_count": 69,
   "metadata": {},
   "outputs": [],
   "source": [
    "mlflow.set_tracking_uri(\"http://127.0.0.1:5000\")"
   ]
  },
  {
   "cell_type": "code",
   "execution_count": 70,
   "metadata": {},
   "outputs": [
    {
     "data": {
      "text/plain": [
       "<Experiment: artifact_location='mlflow-artifacts:/237850698007442871', creation_time=1704716553191, experiment_id='237850698007442871', last_update_time=1704716553191, lifecycle_stage='active', name='Gender Prediction Models Tracking', tags={}>"
      ]
     },
     "execution_count": 70,
     "metadata": {},
     "output_type": "execute_result"
    }
   ],
   "source": [
    "mlflow.set_experiment(\"Gender Prediction Models Tracking\")"
   ]
  },
  {
   "cell_type": "code",
   "execution_count": 71,
   "metadata": {},
   "outputs": [
    {
     "name": "stdout",
     "output_type": "stream",
     "text": [
      "[0]\tvalidation_0-logloss:0.49214\n",
      "[1]\tvalidation_0-logloss:0.45760\n",
      "[2]\tvalidation_0-logloss:0.42518\n",
      "[3]\tvalidation_0-logloss:0.40201\n",
      "[4]\tvalidation_0-logloss:0.39135\n",
      "[5]\tvalidation_0-logloss:0.38311\n",
      "[6]\tvalidation_0-logloss:0.37535\n",
      "[7]\tvalidation_0-logloss:0.36499\n",
      "[8]\tvalidation_0-logloss:0.36185\n",
      "[9]\tvalidation_0-logloss:0.35836\n",
      "[10]\tvalidation_0-logloss:0.35265\n",
      "[11]\tvalidation_0-logloss:0.34794\n",
      "[12]\tvalidation_0-logloss:0.34557\n",
      "[13]\tvalidation_0-logloss:0.34352\n",
      "[14]\tvalidation_0-logloss:0.34339\n",
      "[15]\tvalidation_0-logloss:0.34116\n",
      "[16]\tvalidation_0-logloss:0.33945\n",
      "[17]\tvalidation_0-logloss:0.33838\n",
      "[18]\tvalidation_0-logloss:0.33826\n",
      "[19]\tvalidation_0-logloss:0.33568\n",
      "[20]\tvalidation_0-logloss:0.33501\n",
      "[21]\tvalidation_0-logloss:0.33465\n",
      "[22]\tvalidation_0-logloss:0.33467\n",
      "[23]\tvalidation_0-logloss:0.33572\n",
      "[24]\tvalidation_0-logloss:0.33515\n",
      "[25]\tvalidation_0-logloss:0.33385\n",
      "[26]\tvalidation_0-logloss:0.33366\n",
      "[27]\tvalidation_0-logloss:0.33455\n",
      "[28]\tvalidation_0-logloss:0.33419\n",
      "[29]\tvalidation_0-logloss:0.33427\n",
      "[30]\tvalidation_0-logloss:0.33348\n",
      "[31]\tvalidation_0-logloss:0.33009\n",
      "[32]\tvalidation_0-logloss:0.32913\n",
      "[33]\tvalidation_0-logloss:0.32843\n",
      "[34]\tvalidation_0-logloss:0.32782\n",
      "[35]\tvalidation_0-logloss:0.32474\n",
      "[36]\tvalidation_0-logloss:0.32430\n",
      "[37]\tvalidation_0-logloss:0.32426\n",
      "[38]\tvalidation_0-logloss:0.32327\n",
      "[39]\tvalidation_0-logloss:0.32214\n",
      "[40]\tvalidation_0-logloss:0.32321\n",
      "[41]\tvalidation_0-logloss:0.32489\n",
      "[42]\tvalidation_0-logloss:0.32429\n",
      "[43]\tvalidation_0-logloss:0.32423\n",
      "[44]\tvalidation_0-logloss:0.32446\n",
      "[45]\tvalidation_0-logloss:0.32483\n",
      "[46]\tvalidation_0-logloss:0.32543\n",
      "[47]\tvalidation_0-logloss:0.32436\n",
      "[48]\tvalidation_0-logloss:0.32466\n"
     ]
    },
    {
     "name": "stdout",
     "output_type": "stream",
     "text": [
      "-----------------------------------------------------------\n",
      "Train Accuracy: 0.92\n",
      "Validation Accuracy: 0.858\n",
      "Test Accuracy: 0.849\n",
      "F1 Score: 0.901\n",
      "-----------------------------------------------------------\n",
      "\n"
     ]
    },
    {
     "data": {
      "text/plain": [
       "''"
      ]
     },
     "execution_count": 71,
     "metadata": {},
     "output_type": "execute_result"
    }
   ],
   "source": [
    "\n",
    "# Initialize XGBoost classifier\n",
    "xgb_model = xgb.XGBClassifier(\n",
    "    objective='binary:logistic',\n",
    "    eval_metric='logloss',\n",
    "    use_label_encoder=False,\n",
    "    early_stopping_rounds=10  \n",
    ")\n",
    "\n",
    "# Start MLflow run\n",
    "with mlflow.start_run():\n",
    "    # MLflow will log parameters used in the XGBoost model\n",
    "    mlflow.log_params({param: value for param, value in xgb_model.get_params().items()})\n",
    "\n",
    "    # Train the model (note that XGBoost doesn't use epochs or batch_size)\n",
    "    xgb_model.fit(\n",
    "        X_train, y_train, \n",
    "        eval_set=[(X_val, y_val)],\n",
    "    )\n",
    "\n",
    "    # Log metrics\n",
    "    train_accuracy = accuracy_score(y_train, xgb_model.predict(X_train))\n",
    "    val_accuracy = accuracy_score(y_val, xgb_model.predict(X_val))\n",
    "    mlflow.log_metric(\"train_accuracy\", train_accuracy)\n",
    "    mlflow.log_metric(\"val_accuracy\", val_accuracy)\n",
    "\n",
    "    # Evaluate the model\n",
    "    y_pred = xgb_model.predict(X_test)\n",
    "    test_accuracy = accuracy_score(y_test, y_pred)\n",
    "    f1 = f1_score(y_test, y_pred)\n",
    "    mlflow.log_metrics({\"test_accuracy\": test_accuracy, \"val_f1_score\": f1})\n",
    "\n",
    "    # Log the model - note that this is different for XGBoost\n",
    "    mlflow.xgboost.log_model(xgb_model, \"model\")\n",
    "\n",
    "    # Log additional information\n",
    "    mlflow.set_tags({\n",
    "        \"Description\": \"XGBoost binary classifier\",\n",
    "        \"Features\": ', '.join(df.columns.tolist()),\n",
    "        \"Encoding\" : \"Char Level For names | Label Encoding for other featuers\",\n",
    "        \"Model Type\": \"XGBoost\"\n",
    "    })\n",
    "\n",
    "# Output the results\n",
    "print('-----------------------------------------------------------')\n",
    "print(f\"Train Accuracy: {round(train_accuracy, 3)}\")\n",
    "print(f\"Validation Accuracy: {round(val_accuracy, 3)}\")\n",
    "print(f\"Test Accuracy: {round(test_accuracy, 3)}\")\n",
    "print(f\"F1 Score: {round(f1, 3)}\")\n",
    "print('-----------------------------------------------------------\\n')\n",
    "# End MLflow run\n",
    ";"
   ]
  },
  {
   "cell_type": "code",
   "execution_count": null,
   "metadata": {},
   "outputs": [],
   "source": []
  }
 ],
 "metadata": {
  "kernelspec": {
   "display_name": "ds",
   "language": "python",
   "name": "python3"
  },
  "language_info": {
   "codemirror_mode": {
    "name": "ipython",
    "version": 3
   },
   "file_extension": ".py",
   "mimetype": "text/x-python",
   "name": "python",
   "nbconvert_exporter": "python",
   "pygments_lexer": "ipython3",
   "version": "3.8.18"
  }
 },
 "nbformat": 4,
 "nbformat_minor": 2
}
