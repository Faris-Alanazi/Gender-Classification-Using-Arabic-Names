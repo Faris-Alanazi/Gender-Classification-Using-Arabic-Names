{
 "cells": [
  {
   "cell_type": "markdown",
   "metadata": {},
   "source": [
    "# Importing essential libraries for data manipulation and analysis"
   ]
  },
  {
   "cell_type": "code",
   "execution_count": null,
   "metadata": {},
   "outputs": [],
   "source": [
    "import pandas as pd \n",
    "import matplotlib.pyplot as plt \n",
    "from collections import Counter"
   ]
  },
  {
   "cell_type": "markdown",
   "metadata": {},
   "source": [
    "# Loading a dataset and displaying a sample of the data"
   ]
  },
  {
   "cell_type": "code",
   "execution_count": null,
   "metadata": {},
   "outputs": [],
   "source": [
    "df = pd.read_csv('data/Arabic_names.csv')\n",
    "df.head(5)"
   ]
  },
  {
   "cell_type": "markdown",
   "metadata": {},
   "source": [
    "# seeing the over all info of the dataset"
   ]
  },
  {
   "cell_type": "code",
   "execution_count": null,
   "metadata": {},
   "outputs": [],
   "source": [
    "df.info()"
   ]
  },
  {
   "cell_type": "markdown",
   "metadata": {},
   "source": [
    "# showing the class balnace of the dataset"
   ]
  },
  {
   "cell_type": "code",
   "execution_count": null,
   "metadata": {},
   "outputs": [],
   "source": [
    "value_counts = df['sex'].value_counts()\n",
    "total = value_counts.sum()\n",
    "percentages = (value_counts / total) * 100\n",
    "\n",
    "value_counts.plot.pie(autopct=lambda p: f'{p:.1f} %\\n ({p * total / 100:.0f})')\n",
    "plt.title(f'class balnace from {total} samples');"
   ]
  },
  {
   "cell_type": "markdown",
   "metadata": {},
   "source": [
    "# Check Null Values"
   ]
  },
  {
   "cell_type": "code",
   "execution_count": null,
   "metadata": {},
   "outputs": [],
   "source": [
    "df.isnull().sum()"
   ]
  },
  {
   "cell_type": "markdown",
   "metadata": {},
   "source": [
    "## drop NA recoerds"
   ]
  },
  {
   "cell_type": "code",
   "execution_count": null,
   "metadata": {},
   "outputs": [],
   "source": [
    "df.dropna(inplace=True)"
   ]
  },
  {
   "cell_type": "markdown",
   "metadata": {},
   "source": [
    "## Check Null Values Again"
   ]
  },
  {
   "cell_type": "code",
   "execution_count": null,
   "metadata": {},
   "outputs": [],
   "source": [
    "df.isnull().sum()"
   ]
  },
  {
   "cell_type": "markdown",
   "metadata": {},
   "source": [
    "# check all the letters & idenfiy unwated latters"
   ]
  },
  {
   "cell_type": "code",
   "execution_count": null,
   "metadata": {},
   "outputs": [],
   "source": [
    "arabic_alphabet = set('ايلمرنودبعسهىفحتجشزكقصطةخغضأءثئظذؤإآ')\n",
    "\n",
    "dataset_alphabet = set(''.join(df['names']))\n",
    "\n",
    "unwanted_chars = {char for char in dataset_alphabet if char not in arabic_alphabet}\n",
    "\n",
    "print(f'The correct alphabet: {arabic_alphabet} Length: {len(arabic_alphabet)}')\n",
    "print(f'The current dataset alphabet: {dataset_alphabet} Length: {len(dataset_alphabet)}')\n",
    "print(f'The unwanted characters: {unwanted_chars} Length: {len(unwanted_chars)}')\n"
   ]
  },
  {
   "cell_type": "markdown",
   "metadata": {},
   "source": [
    "## idenfiy recoerd with unwanted charchters"
   ]
  },
  {
   "cell_type": "code",
   "execution_count": null,
   "metadata": {},
   "outputs": [],
   "source": [
    "def contains_unwanted_chars(text):\n",
    "    return any(char in unwanted_chars for char in text)\n",
    "\n",
    "df['contains_unwanted'] = df['names'].apply(contains_unwanted_chars)\n",
    "\n",
    "records_with_unwanted_chars = df[df['contains_unwanted']]\n",
    "records_with_unwanted_chars"
   ]
  },
  {
   "cell_type": "markdown",
   "metadata": {},
   "source": [
    "## remove the recoerd that contains unwanted letters"
   ]
  },
  {
   "cell_type": "code",
   "execution_count": null,
   "metadata": {},
   "outputs": [],
   "source": [
    "filtered_df = df[~df['contains_unwanted']]\n",
    "filtered_df"
   ]
  },
  {
   "cell_type": "markdown",
   "metadata": {},
   "source": [
    "## check the diffrenece and how many samples did we drop"
   ]
  },
  {
   "cell_type": "code",
   "execution_count": null,
   "metadata": {},
   "outputs": [],
   "source": [
    "print(f\"the amount of unwated recoerds {len(records_with_unwanted_chars)}\")\n",
    "print(f\"the length of old df {len(df)}\")\n",
    "print(f\"the length of fillterd df {len(filtered_df)}\")"
   ]
  },
  {
   "cell_type": "markdown",
   "metadata": {},
   "source": [
    "# checking the frequncy of letters in the dataset"
   ]
  },
  {
   "cell_type": "code",
   "execution_count": null,
   "metadata": {},
   "outputs": [],
   "source": [
    "text_data = ''.join(filtered_df['names'].dropna()) \n",
    "\n",
    "letter_counts = Counter(text_data)\n",
    "\n",
    "letter_counts = {char: count for char, count in letter_counts.items()}"
   ]
  },
  {
   "cell_type": "markdown",
   "metadata": {},
   "source": [
    "## viuslztion the frequency"
   ]
  },
  {
   "cell_type": "code",
   "execution_count": null,
   "metadata": {},
   "outputs": [],
   "source": [
    "plt.figure(figsize=(15, 8))\n",
    "plt.bar(letter_counts.keys(), letter_counts.values())\n",
    "plt.xlabel('Letters')\n",
    "plt.ylabel('Frequency')\n",
    "plt.title('Frequency of Each Letter in the Dataset')\n",
    "plt.xticks(rotation=0);"
   ]
  },
  {
   "cell_type": "markdown",
   "metadata": {},
   "source": [
    "# renameing the names column and droping contains_unwanted\t"
   ]
  },
  {
   "cell_type": "code",
   "execution_count": null,
   "metadata": {},
   "outputs": [],
   "source": [
    "cleaned_filtered_df = filtered_df.copy()\n",
    "cleaned_filtered_df = cleaned_filtered_df.rename(columns={'names': 'name'})\n",
    "cleaned_filtered_df.drop('contains_unwanted', axis=1, inplace=True)\n",
    "cleaned_filtered_df.head(5)"
   ]
  },
  {
   "cell_type": "markdown",
   "metadata": {},
   "source": [
    "# saving the data"
   ]
  },
  {
   "cell_type": "code",
   "execution_count": null,
   "metadata": {},
   "outputs": [],
   "source": [
    "cleaned_filtered_df.to_pickle(\"data/dataset_after_cleaning.pkl\")"
   ]
  }
 ],
 "metadata": {
  "kernelspec": {
   "display_name": "gender_pred_env",
   "language": "python",
   "name": "python3"
  },
  "language_info": {
   "codemirror_mode": {
    "name": "ipython",
    "version": 3
   },
   "file_extension": ".py",
   "mimetype": "text/x-python",
   "name": "python",
   "nbconvert_exporter": "python",
   "pygments_lexer": "ipython3",
   "version": "3.8.18"
  }
 },
 "nbformat": 4,
 "nbformat_minor": 2
}
