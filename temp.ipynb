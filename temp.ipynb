{
 "cells": [
  {
   "cell_type": "code",
   "execution_count": 80,
   "metadata": {},
   "outputs": [],
   "source": [
    "# python=3.8\n",
    "# conda env name : gender_pred_env\n",
    "\n",
    "import joblib\n",
    "import numpy as np\n",
    "import pandas as pd\n",
    "import pickle\n",
    "import warnings\n",
    "\n",
    "from tensorflow.keras.models import Sequential\n",
    "from tensorflow.keras.layers import Embedding, LSTM, Dense, Dropout, Bidirectional\n",
    "from tensorflow.keras.regularizers import l2\n",
    "from tensorflow.keras.preprocessing.sequence import pad_sequences\n",
    "from keras.callbacks import EarlyStopping\n",
    "\n",
    "from sklearn.model_selection import KFold\n",
    "import mlflow\n",
    "import mlflow.keras\n",
    "from mlflow.models.signature import infer_signature\n",
    "from sklearn.metrics import f1_score, precision_score, recall_score, roc_auc_score, roc_curve, auc\n",
    "from tensorflow.keras.regularizers import l2\n",
    "from tensorflow.keras.utils import to_categorical\n",
    "from sklearn.preprocessing import MinMaxScaler\n",
    "from sklearn.model_selection import train_test_split\n",
    "from sklearn.metrics import accuracy_score, f1_score, confusion_matrix, precision_score, recall_score, roc_auc_score, roc_curve, auc\n",
    "import matplotlib.pyplot as plt\n",
    "import seaborn as sns"
   ]
  },
  {
   "cell_type": "code",
   "execution_count": 81,
   "metadata": {},
   "outputs": [],
   "source": [
    "# Load Data\n",
    "df = pd.read_pickle('data/dataset_after_preporcessing.pkl')\n",
    "\n",
    "max_name_length = max(df['name'].apply(len))\n",
    "unique_chars = set(''.join(df['name']))  \n",
    "vocab_size = len(unique_chars) + 1  \n",
    "\n",
    "with open('saved_models/tokenizer.pkl', 'rb') as handle:\n",
    "    tokenizer = pickle.load(handle)\n",
    "\n",
    "sequences = tokenizer.texts_to_sequences(df['name'])\n",
    "padded_sequences = pad_sequences(sequences, maxlen=max_name_length)\n",
    "first_letter = df['name'].apply(lambda x: x[0])\n",
    "last_letter = df['name'].apply(lambda x: x[-1])\n",
    "\n",
    "first_letter_encoded = np.array([ord(char) for char in first_letter])\n",
    "last_letter_encoded = np.array([ord(char) for char in last_letter])\n",
    "\n",
    "# Load and apply the scaler models\n",
    "scaler_first = joblib.load('saved_models/scaler_models/scaler_first_letter.pkl')\n",
    "scaler_last = joblib.load('saved_models/scaler_models/scaler_last_letter.pkl')\n",
    "first_letter_encoded_scaled = scaler_first.transform(first_letter_encoded.reshape(-1, 1))\n",
    "last_letter_encoded_scaled = scaler_last.transform(last_letter_encoded.reshape(-1, 1))\n",
    "\n",
    "# Prepare the final dataset\n",
    "y = df['sex'].values\n",
    "X = np.concatenate([padded_sequences, first_letter_encoded_scaled, last_letter_encoded_scaled], axis=1)"
   ]
  },
  {
   "cell_type": "code",
   "execution_count": 82,
   "metadata": {},
   "outputs": [],
   "source": [
    "# Model Parameters\n",
    "total_features_shape = X.shape[1]\n",
    "embedding_dim = 256\n",
    "lstm_units = 128\n",
    "l2_lambda = 0.000\n",
    "dropout_rate = 0.25\n",
    "epochs = 100\n",
    "batch_size = 32\n",
    "patience_for_early_stopping = 5\n",
    "k = 2  # Number of folds"
   ]
  },
  {
   "cell_type": "code",
   "execution_count": 83,
   "metadata": {},
   "outputs": [
    {
     "name": "stdout",
     "output_type": "stream",
     "text": [
      "Model: \"sequential_11\"\n",
      "_________________________________________________________________\n",
      " Layer (type)                Output Shape              Param #   \n",
      "=================================================================\n",
      " embedding_11 (Embedding)    (None, 19, 256)           9472      \n",
      "                                                                 \n",
      " bidirectional_19 (Bidirecti  (None, 256)              394240    \n",
      " onal)                                                           \n",
      "                                                                 \n",
      " dense_11 (Dense)            (None, 1)                 257       \n",
      "                                                                 \n",
      "=================================================================\n",
      "Total params: 403,969\n",
      "Trainable params: 403,969\n",
      "Non-trainable params: 0\n",
      "_________________________________________________________________\n"
     ]
    }
   ],
   "source": [
    "# Define the model\n",
    "model = Sequential()\n",
    "\n",
    "model.add(Embedding(input_dim=vocab_size, output_dim=embedding_dim, input_length=total_features_shape))\n",
    "\n",
    "model.add(Bidirectional(LSTM(lstm_units)))\n",
    "\n",
    "model.add(Dense(1, activation='sigmoid'))\n",
    "\n",
    "# Compile the model\n",
    "model.compile(loss='binary_crossentropy', optimizer='adam', metrics=['accuracy'])\n",
    "\n",
    "# Early Stopping Callback\n",
    "early_stopping = EarlyStopping(\n",
    "    monitor='val_loss', \n",
    "    patience=patience_for_early_stopping, \n",
    "    restore_best_weights=True\n",
    ")\n",
    "\n",
    "model.summary()"
   ]
  },
  {
   "cell_type": "code",
   "execution_count": 84,
   "metadata": {},
   "outputs": [],
   "source": [
    "model_architecture_str = []\n",
    "\n",
    "# Define a function to append each line of the model summary to the list\n",
    "def append_model_summary(line):\n",
    "    model_architecture_str.append(line)\n",
    "\n",
    "# Generate model summary\n",
    "model.summary(print_fn=append_model_summary)\n",
    "\n",
    "# Convert list to string\n",
    "model_architecture_str = '\\n'.join(model_architecture_str)"
   ]
  },
  {
   "cell_type": "code",
   "execution_count": 85,
   "metadata": {},
   "outputs": [
    {
     "name": "stdout",
     "output_type": "stream",
     "text": [
      "Epoch 1/100\n",
      "136/136 [==============================] - 8s 44ms/step - loss: 0.4968 - accuracy: 0.7718 - val_loss: 0.4563 - val_accuracy: 0.7721\n",
      "Epoch 2/100\n",
      "136/136 [==============================] - 6s 43ms/step - loss: 0.4081 - accuracy: 0.8118 - val_loss: 0.4211 - val_accuracy: 0.8070\n",
      "Epoch 3/100\n",
      "136/136 [==============================] - 6s 45ms/step - loss: 0.3883 - accuracy: 0.8234 - val_loss: 0.4084 - val_accuracy: 0.8207\n",
      "Epoch 4/100\n",
      "136/136 [==============================] - 6s 42ms/step - loss: 0.3808 - accuracy: 0.8315 - val_loss: 0.4047 - val_accuracy: 0.8195\n",
      "Epoch 5/100\n",
      "136/136 [==============================] - 6s 44ms/step - loss: 0.3700 - accuracy: 0.8403 - val_loss: 0.4189 - val_accuracy: 0.8105\n",
      "Epoch 6/100\n",
      "136/136 [==============================] - 6s 42ms/step - loss: 0.3617 - accuracy: 0.8419 - val_loss: 0.4002 - val_accuracy: 0.8234\n",
      "Epoch 7/100\n",
      "136/136 [==============================] - 6s 42ms/step - loss: 0.3546 - accuracy: 0.8465 - val_loss: 0.3851 - val_accuracy: 0.8380\n",
      "Epoch 8/100\n",
      "136/136 [==============================] - 6s 43ms/step - loss: 0.3519 - accuracy: 0.8486 - val_loss: 0.3841 - val_accuracy: 0.8355\n",
      "Epoch 9/100\n",
      "136/136 [==============================] - 6s 44ms/step - loss: 0.3448 - accuracy: 0.8507 - val_loss: 0.3809 - val_accuracy: 0.8331\n",
      "Epoch 10/100\n",
      "136/136 [==============================] - 6s 42ms/step - loss: 0.3353 - accuracy: 0.8534 - val_loss: 0.3782 - val_accuracy: 0.8355\n",
      "Epoch 11/100\n",
      "136/136 [==============================] - 6s 43ms/step - loss: 0.3263 - accuracy: 0.8562 - val_loss: 0.3627 - val_accuracy: 0.8440\n",
      "Epoch 12/100\n",
      "136/136 [==============================] - 6s 43ms/step - loss: 0.3194 - accuracy: 0.8608 - val_loss: 0.3637 - val_accuracy: 0.8442\n",
      "Epoch 13/100\n",
      "136/136 [==============================] - 6s 42ms/step - loss: 0.3098 - accuracy: 0.8657 - val_loss: 0.3682 - val_accuracy: 0.8447\n",
      "Epoch 14/100\n",
      "136/136 [==============================] - 6s 41ms/step - loss: 0.2994 - accuracy: 0.8669 - val_loss: 0.3667 - val_accuracy: 0.8470\n",
      "Epoch 15/100\n",
      "136/136 [==============================] - 6s 42ms/step - loss: 0.2948 - accuracy: 0.8675 - val_loss: 0.3817 - val_accuracy: 0.8523\n",
      "Epoch 16/100\n",
      "136/136 [==============================] - 6s 42ms/step - loss: 0.2861 - accuracy: 0.8740 - val_loss: 0.3604 - val_accuracy: 0.8544\n",
      "Epoch 17/100\n",
      "136/136 [==============================] - 6s 42ms/step - loss: 0.2730 - accuracy: 0.8777 - val_loss: 0.3816 - val_accuracy: 0.8509\n",
      "Epoch 18/100\n",
      "136/136 [==============================] - 6s 46ms/step - loss: 0.2630 - accuracy: 0.8849 - val_loss: 0.3690 - val_accuracy: 0.8452\n",
      "Epoch 19/100\n",
      "136/136 [==============================] - 6s 44ms/step - loss: 0.2541 - accuracy: 0.8939 - val_loss: 0.3746 - val_accuracy: 0.8459\n",
      "Epoch 20/100\n",
      "136/136 [==============================] - 6s 42ms/step - loss: 0.2432 - accuracy: 0.8981 - val_loss: 0.3720 - val_accuracy: 0.8449\n",
      "Epoch 21/100\n",
      "136/136 [==============================] - 6s 41ms/step - loss: 0.2279 - accuracy: 0.8964 - val_loss: 0.3926 - val_accuracy: 0.8528\n",
      "136/136 [==============================] - 2s 12ms/step - loss: 0.3604 - accuracy: 0.8544\n",
      "136/136 [==============================] - 2s 9ms/step\n",
      "Epoch 1/100\n",
      "136/136 [==============================] - 6s 43ms/step - loss: 0.3506 - accuracy: 0.8526 - val_loss: 0.2947 - val_accuracy: 0.8779\n",
      "Epoch 2/100\n",
      "136/136 [==============================] - 7s 48ms/step - loss: 0.3284 - accuracy: 0.8643 - val_loss: 0.2825 - val_accuracy: 0.8775\n",
      "Epoch 3/100\n",
      "136/136 [==============================] - 7s 51ms/step - loss: 0.3168 - accuracy: 0.8643 - val_loss: 0.2904 - val_accuracy: 0.8685\n",
      "Epoch 4/100\n",
      "136/136 [==============================] - 6s 45ms/step - loss: 0.3055 - accuracy: 0.8708 - val_loss: 0.2851 - val_accuracy: 0.8766\n",
      "Epoch 5/100\n",
      "136/136 [==============================] - 6s 46ms/step - loss: 0.2890 - accuracy: 0.8775 - val_loss: 0.3101 - val_accuracy: 0.8678\n",
      "Epoch 6/100\n",
      "136/136 [==============================] - 6s 44ms/step - loss: 0.2793 - accuracy: 0.8833 - val_loss: 0.3109 - val_accuracy: 0.8689\n",
      "Epoch 7/100\n",
      "136/136 [==============================] - 6s 47ms/step - loss: 0.2622 - accuracy: 0.8923 - val_loss: 0.3488 - val_accuracy: 0.8558\n",
      "136/136 [==============================] - 1s 10ms/step - loss: 0.2825 - accuracy: 0.8775\n",
      "136/136 [==============================] - 1s 9ms/step\n",
      " 14/271 [>.............................] - ETA: 2s"
     ]
    },
    {
     "name": "stderr",
     "output_type": "stream",
     "text": [
      "c:\\Users\\FarisAlanazi\\miniconda3\\envs\\gender_pred_env\\lib\\site-packages\\numpy\\core\\fromnumeric.py:3474: RuntimeWarning: Mean of empty slice.\n",
      "  return _methods._mean(a, axis=axis, dtype=dtype,\n",
      "c:\\Users\\FarisAlanazi\\miniconda3\\envs\\gender_pred_env\\lib\\site-packages\\numpy\\core\\_methods.py:189: RuntimeWarning: invalid value encountered in double_scalars\n",
      "  ret = ret.dtype.type(ret / rcount)\n",
      "c:\\Users\\FarisAlanazi\\miniconda3\\envs\\gender_pred_env\\lib\\site-packages\\numpy\\core\\_methods.py:163: VisibleDeprecationWarning: Creating an ndarray from ragged nested sequences (which is a list-or-tuple of lists-or-tuples-or ndarrays with different lengths or shapes) is deprecated. If you meant to do this, you must specify 'dtype=object' when creating the ndarray.\n",
      "  arr = asanyarray(a)\n"
     ]
    },
    {
     "name": "stdout",
     "output_type": "stream",
     "text": [
      "271/271 [==============================] - 3s 9ms/step\n"
     ]
    },
    {
     "name": "stderr",
     "output_type": "stream",
     "text": [
      "WARNING:absl:Found untraced functions such as lstm_cell_62_layer_call_fn, lstm_cell_62_layer_call_and_return_conditional_losses, lstm_cell_63_layer_call_fn, lstm_cell_63_layer_call_and_return_conditional_losses while saving (showing 4 of 4). These functions will not be directly callable after loading.\n"
     ]
    },
    {
     "name": "stdout",
     "output_type": "stream",
     "text": [
      "INFO:tensorflow:Assets written to: C:\\Users\\FARISA~1\\AppData\\Local\\Temp\\tmp3clcnj4c\\model\\data\\model\\assets\n"
     ]
    },
    {
     "name": "stderr",
     "output_type": "stream",
     "text": [
      "INFO:tensorflow:Assets written to: C:\\Users\\FARISA~1\\AppData\\Local\\Temp\\tmp3clcnj4c\\model\\data\\model\\assets\n"
     ]
    }
   ],
   "source": [
    "# MLflow setup\n",
    "mlflow.set_tracking_uri(\"http://127.0.0.1:5000\")\n",
    "mlflow.set_experiment(\"Test\")\n",
    "\n",
    "kf = KFold(n_splits=k, shuffle=True, random_state=42)\n",
    "\n",
    "# Initialize lists for fold results\n",
    "fold_train_accuracies = []\n",
    "fold_val_accuracies = []\n",
    "fold_fpr = []\n",
    "fold_tpr = []\n",
    "fold_roc_auc = []\n",
    "fold_accuracies = []\n",
    "fold_losses = []\n",
    "fold_f1_scores = []\n",
    "fold_precisions = []\n",
    "fold_recalls = []\n",
    "fold_roc_aucs = []\n",
    "\n",
    "with mlflow.start_run():\n",
    "    mlflow.log_params({\n",
    "        \"embedding_dim\": embedding_dim,\n",
    "        \"lstm_units\": lstm_units,\n",
    "        \"epochs\": epochs,\n",
    "        \"batch_size\": batch_size,\n",
    "        \"l2_reg\": l2_lambda,\n",
    "        \"dropout_rate\": dropout_rate,\n",
    "        \"patience_for_early_stopping\":patience_for_early_stopping,\n",
    "        \"k-folds\":k\n",
    "    })\n",
    "\n",
    "    for fold, (train_index, val_index) in enumerate(kf.split(X)):\n",
    "        # Split data\n",
    "        X_train_fold, X_val_fold = X[train_index], X[val_index]\n",
    "        y_train_fold, y_val_fold = y[train_index], y[val_index]\n",
    "\n",
    "        # Train the model\n",
    "        history = model.fit(\n",
    "            X_train_fold, y_train_fold,\n",
    "            validation_data=(X_val_fold, y_val_fold),\n",
    "            epochs=epochs,\n",
    "            batch_size=batch_size,\n",
    "            callbacks=[early_stopping]\n",
    "        )\n",
    "\n",
    "        # Evaluate the model\n",
    "        val_loss, val_accuracy = model.evaluate(X_val_fold, y_val_fold)\n",
    "\n",
    "        # Predictions for additional metrics\n",
    "        y_pred = model.predict(X_val_fold)\n",
    "        y_pred_classes = np.where(y_pred > 0.5, 1, 0).reshape(-1)\n",
    "\n",
    "        # Calculate additional metrics\n",
    "        f1 = f1_score(y_val_fold, y_pred_classes)\n",
    "        precision = precision_score(y_val_fold, y_pred_classes)\n",
    "        recall = recall_score(y_val_fold, y_pred_classes)\n",
    "        roc_auc = roc_auc_score(y_val_fold, y_pred)\n",
    "        fpr, tpr, thresholds = roc_curve(y_val_fold, y_pred)\n",
    "        roc_auc = auc(fpr, tpr)\n",
    "\n",
    "        # Log fold-specific metrics\n",
    "        mlflow.log_metrics({\n",
    "            f\"fold_{fold+1}_accuracy\": val_accuracy,\n",
    "            f\"fold_{fold+1}_loss\": val_loss,\n",
    "            f\"fold_{fold+1}_f1_score\": f1,\n",
    "            f\"fold_{fold+1}_precision\": precision,\n",
    "            f\"fold_{fold+1}_recall\": recall,\n",
    "            f\"fold_{fold+1}_roc_auc\": roc_auc,\n",
    "        }, step=fold)\n",
    "\n",
    "        # Store the history\n",
    "        fold_train_accuracies.append(history.history['accuracy'])\n",
    "        fold_val_accuracies.append(history.history['val_accuracy'])\n",
    "\n",
    "        # Store metrics for average calculation\n",
    "        fold_accuracies.append(val_accuracy)\n",
    "        fold_losses.append(val_loss)\n",
    "        fold_f1_scores.append(f1)\n",
    "        fold_precisions.append(precision)\n",
    "        fold_recalls.append(recall)\n",
    "        fold_roc_aucs.append(roc_auc)\n",
    "        fold_fpr.append(fpr)\n",
    "        fold_tpr.append(tpr)\n",
    "        fold_roc_auc.append(roc_auc)\n",
    "\n",
    "        # Reset model states\n",
    "        model.reset_states()\n",
    "\n",
    "    # Calculate average metrics across all folds\n",
    "    avg_accuracy = np.mean(fold_accuracies)\n",
    "    avg_loss = np.mean(fold_losses)\n",
    "    avg_f1 = np.mean(fold_f1_scores)\n",
    "    avg_precision = np.mean(fold_precisions)\n",
    "    avg_recall = np.mean(fold_recalls)\n",
    "    avg_roc_auc = np.mean(fold_roc_aucs)\n",
    "    avg_cm = np.mean(np.array(fold_cm), axis=0)\n",
    "    avg_train_accuracies = np.mean(fold_train_accuracies, axis=0)\n",
    "    avg_val_accuracies = np.mean(fold_val_accuracies, axis=0)\n",
    "\n",
    "    # Log average metrics\n",
    "    mlflow.log_metrics({\n",
    "        \"avg_accuracy\": avg_accuracy,\n",
    "        \"avg_loss\": avg_loss,\n",
    "        \"avg_f1_score\": avg_f1,\n",
    "        \"avg_precision\": avg_precision,\n",
    "        \"avg_recall\": avg_recall,\n",
    "        \"avg_roc_auc\": avg_roc_auc,\n",
    "    })\n",
    "\n",
    "    signature = infer_signature(X, model.predict(X))\n",
    "    # Log the model\n",
    "    mlflow.keras.log_model(model, \"model\",signature=signature)\n",
    "\n",
    "        # Set additional tags\n",
    "    mlflow.set_tags({\n",
    "        \"Description\": f\"Character-Level BiLSTM with {k}-fold cross validation\",\n",
    "        \"Encoding\": \"Character-Level for name | other features Converting them to their ASCII value then norm\",\n",
    "        \"Features\": ', '.join(df.columns.tolist()),\n",
    "        'Number of Features': len(df.columns.tolist()),\n",
    "        \"Model Type\": \"BiLSTM\",\n",
    "        \"model_architecture\": model_architecture_str\n",
    "    })"
   ]
  },
  {
   "cell_type": "code",
   "execution_count": 86,
   "metadata": {},
   "outputs": [
    {
     "name": "stdout",
     "output_type": "stream",
     "text": [
      "\n",
      "-----------------------------------------------------------\n",
      "Average Validation Accuracy: 0.866\n",
      "Average F1 Score: 0.913\n",
      "Average Precision: 0.888\n",
      "Average Recall: 0.939\n",
      "Average ROC AUC: 0.909\n",
      "-----------------------------------------------------------\n"
     ]
    }
   ],
   "source": [
    "# Print average metrics\n",
    "print()\n",
    "print('-----------------------------------------------------------')\n",
    "print(f\"Average Validation Accuracy: {round(avg_accuracy, 3)}\")\n",
    "print(f\"Average F1 Score: {round(avg_f1, 3)}\")\n",
    "print(f\"Average Precision: {round(avg_precision, 3)}\")\n",
    "print(f\"Average Recall: {round(avg_recall, 3)}\")\n",
    "print(f\"Average ROC AUC: {round(avg_roc_auc, 3)}\")\n",
    "print('-----------------------------------------------------------')"
   ]
  },
  {
   "cell_type": "code",
   "execution_count": 87,
   "metadata": {},
   "outputs": [
    {
     "data": {
      "text/plain": [
       "(0.0, 1.0)"
      ]
     },
     "execution_count": 87,
     "metadata": {},
     "output_type": "execute_result"
    },
    {
     "data": {
      "image/png": "[encoded data removed]",
      "text/plain": [
       "<Figure size 800x400 with 1 Axes>"
      ]
     },
     "metadata": {},
     "output_type": "display_data"
    }
   ],
   "source": [
    "# Apply the seaborn style\n",
    "sns.set(style=\"whitegrid\")\n",
    "\n",
    "# Create the figure\n",
    "plt.figure(figsize=(8, 4))\n",
    "\n",
    "# Plot the accuracies\n",
    "plt.plot(avg_train_accuracies, label='Average Train Accuracy', linewidth=2, marker='o', markersize=5)\n",
    "plt.plot(avg_val_accuracies, label='Average Validation Accuracy', linewidth=2, marker='s', markersize=5)\n",
    "\n",
    "# Title and labels\n",
    "plt.title('Average Model Accuracy Over Epochs', fontsize=16)\n",
    "plt.ylabel('Accuracy', fontsize=14)\n",
    "plt.xlabel('Epoch', fontsize=14)\n",
    "\n",
    "# Legend\n",
    "plt.legend(loc='upper left', fontsize=12)\n",
    "\n",
    "# Set limits for x and y axes\n",
    "plt.xlim(0, epochs - 1)\n",
    "plt.ylim(0, 1)  # Assuming accuracy ranges between 0 and 1"
   ]
  },
  {
   "cell_type": "code",
   "execution_count": 88,
   "metadata": {},
   "outputs": [
    {
     "data": {
      "text/plain": [
       "<matplotlib.legend.Legend at 0x1ea92c40580>"
      ]
     },
     "execution_count": 88,
     "metadata": {},
     "output_type": "execute_result"
    },
    {
     "data": {
      "image/png": "[encoded data removed]",
      "text/plain": [
       "<Figure size 800x400 with 1 Axes>"
      ]
     },
     "metadata": {},
     "output_type": "display_data"
    }
   ],
   "source": [
    "# Now, outside the MLflow run, average the ROC metrics and plot\n",
    "avg_fpr = np.linspace(0, 1, 100)\n",
    "avg_tpr = np.mean([np.interp(avg_fpr, f, t) for f, t in zip(fold_fpr, fold_tpr)], axis=0)\n",
    "avg_roc_auc = auc(avg_fpr, avg_tpr)\n",
    "\n",
    "# Plot ROC curve\n",
    "plt.figure(figsize=(8, 4))\n",
    "plt.plot(avg_fpr, avg_tpr, color='darkorange', lw=2,\n",
    "         label='Mean ROC curve (area = %0.2f)' % avg_roc_auc)\n",
    "plt.plot([0, 1], [0, 1], color='navy', lw=2, linestyle='--')\n",
    "plt.xlim([0.0, 1.0])\n",
    "plt.ylim([0.0, 1.05])\n",
    "plt.xlabel('False Positive Rate')\n",
    "plt.ylabel('True Positive Rate')\n",
    "plt.title('Receiver Operating Characteristic')\n",
    "plt.legend(loc='lower right')"
   ]
  },
  {
   "cell_type": "code",
   "execution_count": 89,
   "metadata": {},
   "outputs": [
    {
     "ename": "NameError",
     "evalue": "name 'os' is not defined",
     "output_type": "error",
     "traceback": [
      "\u001b[1;31m---------------------------------------------------------------------------\u001b[0m",
      "\u001b[1;31mNameError\u001b[0m                                 Traceback (most recent call last)",
      "Cell \u001b[1;32mIn[89], line 14\u001b[0m\n\u001b[0;32m      8\u001b[0m \u001b[38;5;28;01mimport\u001b[39;00m \u001b[38;5;21;01mmatplotlib\u001b[39;00m\n\u001b[0;32m     10\u001b[0m \u001b[38;5;66;03m# Print package versions\u001b[39;00m\n\u001b[0;32m     11\u001b[0m package_versions \u001b[38;5;241m=\u001b[39m {\n\u001b[0;32m     12\u001b[0m     \u001b[38;5;124m\"\u001b[39m\u001b[38;5;124mstreamlit\u001b[39m\u001b[38;5;124m\"\u001b[39m: streamlit\u001b[38;5;241m.\u001b[39m__version__,\n\u001b[0;32m     13\u001b[0m     \u001b[38;5;124m\"\u001b[39m\u001b[38;5;124mpickle\u001b[39m\u001b[38;5;124m\"\u001b[39m: pickle\u001b[38;5;241m.\u001b[39mformat_version,  \u001b[38;5;66;03m# pickle does not have __version__, format_version is the closest alternative\u001b[39;00m\n\u001b[1;32m---> 14\u001b[0m     \u001b[38;5;124m\"\u001b[39m\u001b[38;5;124mos\u001b[39m\u001b[38;5;124m\"\u001b[39m: \u001b[43mos\u001b[49m\u001b[38;5;241m.\u001b[39mname,  \u001b[38;5;66;03m# os does not have __version__, name is used to identify the OS interface\u001b[39;00m\n\u001b[0;32m     15\u001b[0m     \u001b[38;5;124m\"\u001b[39m\u001b[38;5;124mjoblib\u001b[39m\u001b[38;5;124m\"\u001b[39m: joblib\u001b[38;5;241m.\u001b[39m__version__,\n\u001b[0;32m     16\u001b[0m     \u001b[38;5;124m\"\u001b[39m\u001b[38;5;124mxgboost\u001b[39m\u001b[38;5;124m\"\u001b[39m: xgboost\u001b[38;5;241m.\u001b[39m__version__,\n\u001b[0;32m     17\u001b[0m     \u001b[38;5;124m\"\u001b[39m\u001b[38;5;124mtensorflow\u001b[39m\u001b[38;5;124m\"\u001b[39m: tensorflow\u001b[38;5;241m.\u001b[39m__version__,\n\u001b[0;32m     18\u001b[0m     \u001b[38;5;124m\"\u001b[39m\u001b[38;5;124mkeras\u001b[39m\u001b[38;5;124m\"\u001b[39m: keras\u001b[38;5;241m.\u001b[39m__version__,\n\u001b[0;32m     19\u001b[0m     \u001b[38;5;124m\"\u001b[39m\u001b[38;5;124mnumpy\u001b[39m\u001b[38;5;124m\"\u001b[39m: np\u001b[38;5;241m.\u001b[39m__version__,\n\u001b[0;32m     20\u001b[0m     \u001b[38;5;124m\"\u001b[39m\u001b[38;5;124mpandas\u001b[39m\u001b[38;5;124m\"\u001b[39m: pd\u001b[38;5;241m.\u001b[39m__version__,\n\u001b[0;32m     21\u001b[0m     \u001b[38;5;124m\"\u001b[39m\u001b[38;5;124msklearn\u001b[39m\u001b[38;5;124m\"\u001b[39m: sklearn\u001b[38;5;241m.\u001b[39m__version__,\n\u001b[0;32m     22\u001b[0m     \u001b[38;5;124m\"\u001b[39m\u001b[38;5;124mmatplotlib\u001b[39m\u001b[38;5;124m\"\u001b[39m: matplotlib\u001b[38;5;241m.\u001b[39m__version__,\n\u001b[0;32m     23\u001b[0m     \u001b[38;5;124m\"\u001b[39m\u001b[38;5;124mseaborn\u001b[39m\u001b[38;5;124m\"\u001b[39m: seaborn\u001b[38;5;241m.\u001b[39m__version__,\n\u001b[0;32m     24\u001b[0m     \u001b[38;5;124m\"\u001b[39m\u001b[38;5;124mwarnings\u001b[39m\u001b[38;5;124m\"\u001b[39m: \u001b[38;5;124m\"\u001b[39m\u001b[38;5;124mBuilt-in Module\u001b[39m\u001b[38;5;124m\"\u001b[39m  \u001b[38;5;66;03m# warnings is a built-in module and doesn't have a version\u001b[39;00m\n\u001b[0;32m     25\u001b[0m }\n\u001b[0;32m     27\u001b[0m \u001b[38;5;66;03m# Print versions\u001b[39;00m\n\u001b[0;32m     28\u001b[0m \u001b[38;5;28;01mfor\u001b[39;00m package, version \u001b[38;5;129;01min\u001b[39;00m package_versions\u001b[38;5;241m.\u001b[39mitems():\n",
      "\u001b[1;31mNameError\u001b[0m: name 'os' is not defined"
     ]
    }
   ],
   "source": [
    "# Let's first collect the package versions\n",
    "import streamlit\n",
    "import xgboost\n",
    "import tensorflow\n",
    "import keras\n",
    "import sklearn\n",
    "import seaborn\n",
    "import matplotlib\n",
    "import os\n",
    "# Print package versions\n",
    "package_versions = {\n",
    "    \"streamlit\": streamlit.__version__,\n",
    "    \"joblib\": joblib.__version__,\n",
    "    \"xgboost\": xgboost.__version__,\n",
    "    \"tensorflow\": tensorflow.__version__,\n",
    "    \"keras\": keras.__version__,\n",
    "    \"numpy\": np.__version__,\n",
    "    \"pandas\": pd.__version__,\n",
    "    \"sklearn\": sklearn.__version__,\n",
    "    \"matplotlib\": matplotlib.__version__,\n",
    "    \"seaborn\": seaborn.__version__,\n",
    "}\n",
    "\n",
    "# Print versions\n",
    "for package, version in package_versions.items():\n",
    "    print(f\"{package}: {version}\")\n",
    "\n",
    "# Now let's create a requirements file\n",
    "requirements = \"\\n\".join([f\"{package}=={version}\" for package, version in package_versions.items() if version != \"Built-in Module\"])\n",
    "\n",
    "# Save to a requirements.txt file\n",
    "requirements_file_path = 'data/requirements.txt'\n",
    "with open(requirements_file_path, 'w') as file:\n",
    "    file.write(requirements)\n",
    "\n",
    "requirements_file_path"
   ]
  },
  {
   "cell_type": "code",
   "execution_count": null,
   "metadata": {},
   "outputs": [],
   "source": []
  }
 ],
 "metadata": {
  "kernelspec": {
   "display_name": "gender_pred_env",
   "language": "python",
   "name": "python3"
  },
  "language_info": {
   "codemirror_mode": {
    "name": "ipython",
    "version": 3
   },
   "file_extension": ".py",
   "mimetype": "text/x-python",
   "name": "python",
   "nbconvert_exporter": "python",
   "pygments_lexer": "ipython3",
   "version": "3.8.18"
  }
 },
 "nbformat": 4,
 "nbformat_minor": 2
}
