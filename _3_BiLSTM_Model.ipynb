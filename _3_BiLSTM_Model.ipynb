{
 "cells": [
  {
   "cell_type": "code",
   "execution_count": 61,
   "metadata": {},
   "outputs": [],
   "source": [
    "# python=3.8\n",
    "# conda env name : gender_pred_env"
   ]
  },
  {
   "cell_type": "markdown",
   "metadata": {},
   "source": [
    "# Packges"
   ]
  },
  {
   "cell_type": "code",
   "execution_count": 62,
   "metadata": {},
   "outputs": [],
   "source": [
    "import joblib\n",
    "import numpy as np\n",
    "import pandas as pd\n",
    "import pickle\n",
    "import optuna\n",
    "import warnings\n",
    "import mlflow\n",
    "import mlflow.keras\n",
    "from mlflow.models.signature import infer_signature\n",
    "from keras.callbacks import EarlyStopping\n",
    "from tensorflow.keras.models import Sequential, Model\n",
    "from tensorflow.keras.layers import Embedding, LSTM, Dense, Dropout, Bidirectional, Input, Flatten, concatenate\n",
    "from tensorflow.keras.preprocessing.text import Tokenizer\n",
    "from tensorflow.keras.preprocessing.sequence import pad_sequences\n",
    "from tensorflow.keras.regularizers import l2\n",
    "from tensorflow.keras.utils import to_categorical\n",
    "from sklearn.preprocessing import MinMaxScaler\n",
    "from sklearn.model_selection import train_test_split\n",
    "from sklearn.metrics import accuracy_score, f1_score, confusion_matrix, precision_score, recall_score, roc_auc_score, roc_curve, auc\n",
    "import matplotlib.pyplot as plt\n",
    "import seaborn as sns\n",
    "\n",
    "# Adjusting warnings\n",
    "warnings.filterwarnings('ignore')"
   ]
  },
  {
   "cell_type": "code",
   "execution_count": 63,
   "metadata": {},
   "outputs": [
    {
     "data": {
      "text/html": [
       "<div>\n",
       "<style scoped>\n",
       "    .dataframe tbody tr th:only-of-type {\n",
       "        vertical-align: middle;\n",
       "    }\n",
       "\n",
       "    .dataframe tbody tr th {\n",
       "        vertical-align: top;\n",
       "    }\n",
       "\n",
       "    .dataframe thead th {\n",
       "        text-align: right;\n",
       "    }\n",
       "</style>\n",
       "<table border=\"1\" class=\"dataframe\">\n",
       "  <thead>\n",
       "    <tr style=\"text-align: right;\">\n",
       "      <th></th>\n",
       "      <th>name</th>\n",
       "      <th>sex</th>\n",
       "      <th>name_length</th>\n",
       "      <th>last_letter</th>\n",
       "      <th>first_letter</th>\n",
       "    </tr>\n",
       "  </thead>\n",
       "  <tbody>\n",
       "    <tr>\n",
       "      <th>0</th>\n",
       "      <td>ابتسام</td>\n",
       "      <td>0</td>\n",
       "      <td>6</td>\n",
       "      <td>م</td>\n",
       "      <td>ا</td>\n",
       "    </tr>\n",
       "    <tr>\n",
       "      <th>1</th>\n",
       "      <td>ابتهاج</td>\n",
       "      <td>0</td>\n",
       "      <td>6</td>\n",
       "      <td>ج</td>\n",
       "      <td>ا</td>\n",
       "    </tr>\n",
       "    <tr>\n",
       "      <th>2</th>\n",
       "      <td>ابتهال</td>\n",
       "      <td>0</td>\n",
       "      <td>6</td>\n",
       "      <td>ل</td>\n",
       "      <td>ا</td>\n",
       "    </tr>\n",
       "    <tr>\n",
       "      <th>3</th>\n",
       "      <td>اجتهاد</td>\n",
       "      <td>0</td>\n",
       "      <td>6</td>\n",
       "      <td>د</td>\n",
       "      <td>ا</td>\n",
       "    </tr>\n",
       "    <tr>\n",
       "      <th>4</th>\n",
       "      <td>ازدهار</td>\n",
       "      <td>0</td>\n",
       "      <td>6</td>\n",
       "      <td>ر</td>\n",
       "      <td>ا</td>\n",
       "    </tr>\n",
       "  </tbody>\n",
       "</table>\n",
       "</div>"
      ],
      "text/plain": [
       "     name  sex  name_length last_letter first_letter\n",
       "0  ابتسام    0            6           م            ا\n",
       "1  ابتهاج    0            6           ج            ا\n",
       "2  ابتهال    0            6           ل            ا\n",
       "3  اجتهاد    0            6           د            ا\n",
       "4  ازدهار    0            6           ر            ا"
      ]
     },
     "execution_count": 63,
     "metadata": {},
     "output_type": "execute_result"
    }
   ],
   "source": [
    "# Load Data\n",
    "df = pd.read_pickle('data/dataset_after_preporcessing.pkl')\n",
    "df.head()"
   ]
  },
  {
   "cell_type": "code",
   "execution_count": 64,
   "metadata": {},
   "outputs": [],
   "source": [
    "max_name_length = max(df['name'].apply(len))\n",
    "unique_chars = set(''.join(df['name']))  \n",
    "vocab_size = len(unique_chars) + 1  \n",
    "\n",
    "with open('saved_models/tokenizer.pkl', 'rb') as handle:\n",
    "    tokenizer = pickle.load(handle)\n",
    "\n",
    "sequences = tokenizer.texts_to_sequences(df['name'])\n",
    "padded_sequences = pad_sequences(sequences, maxlen=max_name_length)"
   ]
  },
  {
   "cell_type": "code",
   "execution_count": 65,
   "metadata": {},
   "outputs": [],
   "source": [
    "first_letter = df['name'].apply(lambda x: x[0])\n",
    "last_letter = df['name'].apply(lambda x: x[-1])\n",
    "\n",
    "first_letter_encoded = np.array([ord(char) for char in first_letter])\n",
    "last_letter_encoded = np.array([ord(char) for char in last_letter])\n",
    "\n",
    "max_unicode_value_first = np.max(first_letter_encoded)\n",
    "max_unicode_value_last = np.max(last_letter_encoded)\n",
    "max_unicode_value = max(max_unicode_value_first, max_unicode_value_last)"
   ]
  },
  {
   "cell_type": "code",
   "execution_count": 66,
   "metadata": {},
   "outputs": [],
   "source": [
    "# Load the scaler models\n",
    "scaler_first = joblib.load('saved_models/scaler_models/scaler_first_letter.pkl')\n",
    "scaler_last = joblib.load('saved_models/scaler_models/scaler_last_letter.pkl')\n",
    "\n",
    "# Transform the new data using the loaded scalers\n",
    "first_letter_encoded_scaled = scaler_first.transform(first_letter_encoded.reshape(-1, 1))\n",
    "last_letter_encoded_scaled = scaler_last.transform(last_letter_encoded.reshape(-1, 1))"
   ]
  },
  {
   "cell_type": "code",
   "execution_count": 67,
   "metadata": {},
   "outputs": [
    {
     "name": "stdout",
     "output_type": "stream",
     "text": [
      "Training set size: 6922, Labels: 6922\n",
      "Validation set size: 865, Labels: 865\n",
      "Test set size: 866, Labels: 866\n"
     ]
    }
   ],
   "source": [
    "y = df['sex'].values\n",
    "name_length = df['name_length'].values\n",
    "X = list(zip(padded_sequences, first_letter_encoded_scaled, last_letter_encoded_scaled, name_length))\n",
    "\n",
    "# Define the size for the test and validation sets as percentages\n",
    "test_size_percentage = 0.1\n",
    "validation_size_percentage = 0.1\n",
    "\n",
    "# Calculate the actual sizes for the test and validation sets\n",
    "total_size = test_size_percentage + validation_size_percentage\n",
    "test_size_actual = test_size_percentage / total_size\n",
    "validation_size_actual = validation_size_percentage / total_size\n",
    "\n",
    "train_size_percentage = 1 - total_size\n",
    "\n",
    "# First split: Separate out the training data and the remaining data\n",
    "X_train, X_remaining, y_train, y_remaining = train_test_split(X, y, test_size=total_size, random_state=11)\n",
    "\n",
    "# Second split: Separate the remaining data into validation and test sets\n",
    "X_val, X_test, y_val, y_test = train_test_split(X_remaining, y_remaining, test_size=test_size_actual, random_state=11)\n",
    "\n",
    "# Print the number of samples in the training, validation, and test sets\n",
    "print(f\"Training set size: {len(X_train)}, Labels: {len(y_train)}\")\n",
    "print(f\"Validation set size: {len(X_val)}, Labels: {len(y_val)}\")\n",
    "print(f\"Test set size: {len(X_test)}, Labels: {len(y_test)}\")\n",
    "\n",
    "# Unpack the training data into separate arrays for each input\n",
    "name_train, first_letter_train, last_letter_train, length_train = zip(*X_train)\n",
    "name_val, first_letter_val, last_letter_val, length_val = zip(*X_val)\n",
    "name_test, first_letter_test, last_letter_test, length_test = zip(*X_test)\n",
    "\n",
    "# Convert tuples to numpy arrays\n",
    "name_train = np.array(name_train)\n",
    "first_letter_train = np.array(first_letter_train)\n",
    "last_letter_train = np.array(last_letter_train)\n",
    "length_train = np.array(length_train)\n",
    "\n",
    "name_val = np.array(name_val)\n",
    "first_letter_val = np.array(first_letter_val)\n",
    "last_letter_val = np.array(last_letter_val)\n",
    "length_val = np.array(length_val)\n",
    "\n",
    "name_test = np.array(name_test)\n",
    "first_letter_test = np.array(first_letter_test)\n",
    "last_letter_test = np.array(last_letter_test)\n",
    "length_test = np.array(length_test)\n",
    "\n",
    "# Reshape the length arrays to have two dimensions\n",
    "length_train = length_train.reshape(-1, 1)\n",
    "length_val = length_val.reshape(-1, 1)\n",
    "length_test = length_test.reshape(-1, 1)\n",
    "\n",
    "# Concatenate the features\n",
    "X_train = np.concatenate([name_train, first_letter_train, last_letter_train, length_train], axis=1)\n",
    "X_val = np.concatenate([name_val, first_letter_val, last_letter_val, length_val], axis=1)\n",
    "X_test = np.concatenate([name_test, first_letter_test, last_letter_test, length_test], axis=1)\n",
    "total_features_shape = X_train.shape[1]"
   ]
  },
  {
   "cell_type": "code",
   "execution_count": 68,
   "metadata": {},
   "outputs": [],
   "source": [
    "\n",
    "\n",
    "def lstm_objective(trial):\n",
    "    # Hyperparameters to be tuned by Optuna for BiLSTM\n",
    "    embedding_dim = trial.suggest_categorical('embedding_dim', [32, 64, 128, 256,512])\n",
    "    lstm_units = trial.suggest_categorical('lstm_units', [32, 64, 128, 256])\n",
    "    dropout_rate = trial.suggest_uniform('dropout_rate', 0.0, 0.5)\n",
    "    l2_lambda = trial.suggest_loguniform('l2_reg', 1e-6, 1e-2)\n",
    "    batch_size = trial.suggest_categorical('batch_size', [16, 32, 64, 128])\n",
    "    epochs = trial.suggest_int('epochs', 5, 50)\n",
    "    patience_for_early_stopping = trial.suggest_int('patience_for_early_stopping', 1, 10)\n",
    "\n",
    "    # Define the model architecture using the hyperparameters\n",
    "    model = Sequential()\n",
    "\n",
    "    model.add(Embedding(input_dim=vocab_size, output_dim=embedding_dim, input_length=total_features_shape))\n",
    "\n",
    "    model.add(Bidirectional(LSTM(lstm_units,return_sequences=True,kernel_regularizer=l2(l2_lambda))))\n",
    "\n",
    "    model.add(Dropout(dropout_rate))\n",
    "\n",
    "    model.add(Bidirectional(LSTM(lstm_units//2,kernel_regularizer=l2(l2_lambda))))\n",
    "\n",
    "    model.add(Dropout(dropout_rate))\n",
    "\n",
    "    model.add(Dense(1, activation='sigmoid'))\n",
    "\n",
    "    # Compile the model\n",
    "    model.compile(optimizer='adam', loss='binary_crossentropy', metrics=['accuracy'])\n",
    "    \n",
    "    # Use early stopping as a callback\n",
    "    early_stopping = EarlyStopping(monitor='val_loss', patience=patience_for_early_stopping)\n",
    "    \n",
    "    # Train the model\n",
    "    history = model.fit(\n",
    "        X_train,\n",
    "        y_train,\n",
    "        validation_data=(X_val, y_val),\n",
    "        epochs=epochs,\n",
    "        batch_size=batch_size,\n",
    "        callbacks=[early_stopping],\n",
    "        verbose=0\n",
    "    )\n",
    "    \n",
    "    # The objective we want to minimize (validation loss in this case)\n",
    "    val_loss = np.min(history.history['val_loss'])\n",
    "    \n",
    "    # Optionally, you can return additional information to be used later\n",
    "    trial.set_user_attr('stopped_epoch', len(history.history['loss']))\n",
    "\n",
    "    return val_loss"
   ]
  },
  {
   "cell_type": "code",
   "execution_count": 69,
   "metadata": {},
   "outputs": [
    {
     "name": "stderr",
     "output_type": "stream",
     "text": [
      "[I 2024-01-23 14:33:52,373] A new study created in memory with name: no-name-514cf9a7-9226-4a99-bdd8-326b504276dd\n"
     ]
    }
   ],
   "source": [
    "# Create a study object and optimize the objective function\n",
    "study = optuna.create_study(direction='minimize')\n",
    "study.optimize(lstm_objective, n_trials=5)"
   ]
  },
  {
   "cell_type": "code",
   "execution_count": null,
   "metadata": {},
   "outputs": [],
   "source": [
    "# Best hyperparameters\n",
    "print('Number of finished trials:', len(study.trials))\n",
    "print('Best trial:', study.best_trial.params)\n",
    "best_lstm_params = study.best_trial.params"
   ]
  },
  {
   "cell_type": "code",
   "execution_count": null,
   "metadata": {},
   "outputs": [],
   "source": [
    "def get_model_summary(model):\n",
    "    \"\"\"\n",
    "    Generates the summary of the given Keras model and returns it as a string.\n",
    "\n",
    "    Args:\n",
    "    model (keras.Model): The Keras model to summarize.\n",
    "\n",
    "    Returns:\n",
    "    str: The summary of the model.\n",
    "    \"\"\"\n",
    "    model_summary_list = []\n",
    "    model.summary(print_fn=lambda x: model_summary_list.append(x))\n",
    "    return '\\n'.join(model_summary_list)\n"
   ]
  },
  {
   "cell_type": "code",
   "execution_count": null,
   "metadata": {},
   "outputs": [
    {
     "data": {
      "text/plain": [
       "<Experiment: artifact_location='mlflow-artifacts:/461486716067717122', creation_time=1705996741401, experiment_id='461486716067717122', last_update_time=1705996741401, lifecycle_stage='active', name='Gender Prediction Models Tracking', tags={}>"
      ]
     },
     "execution_count": 45,
     "metadata": {},
     "output_type": "execute_result"
    }
   ],
   "source": [
    "mlflow.set_tracking_uri(\"http://127.0.0.1:5000\")\n",
    "mlflow.set_experiment(\"Gender Prediction Models Tracking\")"
   ]
  },
  {
   "cell_type": "code",
   "execution_count": null,
   "metadata": {},
   "outputs": [
    {
     "name": "stdout",
     "output_type": "stream",
     "text": [
      "Epoch 1/100\n",
      "217/217 [==============================] - 44s 173ms/step - loss: 0.5273 - accuracy: 0.7845 - val_loss: 0.4262 - val_accuracy: 0.8324\n",
      "Epoch 2/100\n",
      "217/217 [==============================] - 40s 186ms/step - loss: 0.4400 - accuracy: 0.8135 - val_loss: 0.4080 - val_accuracy: 0.8347\n",
      "Epoch 3/100\n",
      "217/217 [==============================] - 47s 217ms/step - loss: 0.4179 - accuracy: 0.8259 - val_loss: 0.3798 - val_accuracy: 0.8405\n",
      "Epoch 4/100\n",
      "217/217 [==============================] - 45s 208ms/step - loss: 0.4064 - accuracy: 0.8285 - val_loss: 0.3682 - val_accuracy: 0.8486\n",
      "Epoch 5/100\n",
      "217/217 [==============================] - 46s 211ms/step - loss: 0.3987 - accuracy: 0.8304 - val_loss: 0.3732 - val_accuracy: 0.8613\n",
      "Epoch 6/100\n",
      "217/217 [==============================] - 45s 205ms/step - loss: 0.3897 - accuracy: 0.8385 - val_loss: 0.3936 - val_accuracy: 0.8324\n",
      "Epoch 7/100\n",
      "217/217 [==============================] - 44s 202ms/step - loss: 0.3855 - accuracy: 0.8362 - val_loss: 0.3617 - val_accuracy: 0.8601\n",
      "Epoch 8/100\n",
      "217/217 [==============================] - 38s 177ms/step - loss: 0.3833 - accuracy: 0.8409 - val_loss: 0.3580 - val_accuracy: 0.8520\n",
      "Epoch 9/100\n",
      "217/217 [==============================] - 45s 205ms/step - loss: 0.3768 - accuracy: 0.8401 - val_loss: 0.3650 - val_accuracy: 0.8532\n",
      "Epoch 10/100\n",
      "217/217 [==============================] - 46s 212ms/step - loss: 0.3724 - accuracy: 0.8443 - val_loss: 0.3627 - val_accuracy: 0.8486\n",
      "Epoch 11/100\n",
      "217/217 [==============================] - 45s 210ms/step - loss: 0.3694 - accuracy: 0.8450 - val_loss: 0.3577 - val_accuracy: 0.8462\n",
      "Epoch 12/100\n",
      "217/217 [==============================] - 37s 172ms/step - loss: 0.3588 - accuracy: 0.8472 - val_loss: 0.3450 - val_accuracy: 0.8578\n",
      "Epoch 13/100\n",
      "217/217 [==============================] - 42s 193ms/step - loss: 0.3578 - accuracy: 0.8483 - val_loss: 0.3533 - val_accuracy: 0.8590\n",
      "Epoch 14/100\n",
      "217/217 [==============================] - 50s 229ms/step - loss: 0.3560 - accuracy: 0.8529 - val_loss: 0.3489 - val_accuracy: 0.8532\n",
      "Epoch 15/100\n",
      "217/217 [==============================] - 45s 207ms/step - loss: 0.3514 - accuracy: 0.8532 - val_loss: 0.3376 - val_accuracy: 0.8671\n",
      "Epoch 16/100\n",
      "217/217 [==============================] - 42s 192ms/step - loss: 0.3502 - accuracy: 0.8550 - val_loss: 0.3437 - val_accuracy: 0.8566\n",
      "Epoch 17/100\n",
      "217/217 [==============================] - 37s 171ms/step - loss: 0.3438 - accuracy: 0.8495 - val_loss: 0.3435 - val_accuracy: 0.8543\n",
      "Epoch 18/100\n",
      "217/217 [==============================] - 37s 170ms/step - loss: 0.3351 - accuracy: 0.8586 - val_loss: 0.3495 - val_accuracy: 0.8601\n",
      "Epoch 19/100\n",
      "217/217 [==============================] - 39s 181ms/step - loss: 0.3316 - accuracy: 0.8612 - val_loss: 0.3589 - val_accuracy: 0.8590\n",
      "Epoch 20/100\n",
      "217/217 [==============================] - 37s 168ms/step - loss: 0.3286 - accuracy: 0.8635 - val_loss: 0.3423 - val_accuracy: 0.8647\n",
      "Epoch 21/100\n",
      "217/217 [==============================] - 37s 171ms/step - loss: 0.3214 - accuracy: 0.8680 - val_loss: 0.3492 - val_accuracy: 0.8613\n",
      "Epoch 22/100\n",
      "217/217 [==============================] - 38s 176ms/step - loss: 0.3196 - accuracy: 0.8684 - val_loss: 0.3396 - val_accuracy: 0.8636\n",
      "Epoch 23/100\n",
      "217/217 [==============================] - 37s 170ms/step - loss: 0.3105 - accuracy: 0.8732 - val_loss: 0.3359 - val_accuracy: 0.8578\n",
      "Epoch 24/100\n",
      "217/217 [==============================] - 38s 174ms/step - loss: 0.3029 - accuracy: 0.8797 - val_loss: 0.3584 - val_accuracy: 0.8405\n",
      "Epoch 25/100\n",
      "217/217 [==============================] - 37s 170ms/step - loss: 0.3053 - accuracy: 0.8853 - val_loss: 0.3363 - val_accuracy: 0.8659\n",
      "Epoch 26/100\n",
      "217/217 [==============================] - 38s 174ms/step - loss: 0.3002 - accuracy: 0.8854 - val_loss: 0.3645 - val_accuracy: 0.8601\n",
      "Epoch 27/100\n",
      "217/217 [==============================] - 38s 175ms/step - loss: 0.2942 - accuracy: 0.8859 - val_loss: 0.3750 - val_accuracy: 0.8497\n",
      "Epoch 28/100\n",
      "217/217 [==============================] - 39s 181ms/step - loss: 0.2857 - accuracy: 0.8925 - val_loss: 0.3578 - val_accuracy: 0.8555\n",
      "Epoch 29/100\n",
      "217/217 [==============================] - 40s 184ms/step - loss: 0.2808 - accuracy: 0.8932 - val_loss: 0.3584 - val_accuracy: 0.8717\n",
      "Epoch 30/100\n",
      "217/217 [==============================] - 40s 182ms/step - loss: 0.2744 - accuracy: 0.8971 - val_loss: 0.4038 - val_accuracy: 0.8486\n",
      "Epoch 31/100\n",
      "217/217 [==============================] - 41s 187ms/step - loss: 0.2735 - accuracy: 0.9002 - val_loss: 0.3837 - val_accuracy: 0.8555\n",
      "Epoch 32/100\n",
      "217/217 [==============================] - 47s 216ms/step - loss: 0.2682 - accuracy: 0.9002 - val_loss: 0.3574 - val_accuracy: 0.8601\n",
      "Epoch 33/100\n",
      "217/217 [==============================] - 36s 165ms/step - loss: 0.2642 - accuracy: 0.9042 - val_loss: 0.3825 - val_accuracy: 0.8601\n",
      "28/28 [==============================] - 2s 73ms/step - loss: 0.3703 - accuracy: 0.8464\n",
      "217/217 [==============================] - 16s 72ms/step - loss: 0.2845 - accuracy: 0.8880\n",
      "28/28 [==============================] - 5s 115ms/step\n"
     ]
    },
    {
     "name": "stderr",
     "output_type": "stream",
     "text": [
      "WARNING:absl:Found untraced functions such as lstm_cell_17_layer_call_fn, lstm_cell_17_layer_call_and_return_conditional_losses, lstm_cell_15_layer_call_fn, lstm_cell_15_layer_call_and_return_conditional_losses, lstm_cell_16_layer_call_fn while saving (showing 5 of 10). These functions will not be directly callable after loading.\n"
     ]
    },
    {
     "name": "stdout",
     "output_type": "stream",
     "text": [
      "INFO:tensorflow:Assets written to: C:\\Users\\FARISA~1\\AppData\\Local\\Temp\\tmpz_njl3ys\\model\\data\\model\\assets\n"
     ]
    },
    {
     "name": "stderr",
     "output_type": "stream",
     "text": [
      "INFO:tensorflow:Assets written to: C:\\Users\\FARISA~1\\AppData\\Local\\Temp\\tmpz_njl3ys\\model\\data\\model\\assets\n"
     ]
    }
   ],
   "source": [
    "# MLflow tracking\n",
    "with mlflow.start_run():\n",
    "    # Log model parameters\n",
    "    \n",
    "    mlflow.log_params({\n",
    "        \"max_name_length\": max_name_length,\n",
    "        \"vocab_size\": vocab_size,\n",
    "        \"train_size_percentage\": train_size_percentage,\n",
    "        \"test_size_percentage\": test_size_percentage,\n",
    "        \"validation_size_percentage\": validation_size_percentage\n",
    "    })\n",
    "    \n",
    "    mlflow.log_params(best_lstm_params)\n",
    "\n",
    "    # Define the model architecture using the hyperparameters\n",
    "    model = Sequential()\n",
    "\n",
    "    model.add(Embedding(input_dim=vocab_size, output_dim=best_lstm_params['embedding_dim'], input_length=total_features_shape))\n",
    "\n",
    "    model.add(Bidirectional(LSTM(best_lstm_params['lstm_units'],return_sequences=True,kernel_regularizer=l2(best_lstm_params['l2_reg']))))\n",
    "\n",
    "    model.add(Dropout(best_lstm_params['dropout_rate']))\n",
    "\n",
    "    model.add(Bidirectional(LSTM(best_lstm_params['lstm_units']//2,kernel_regularizer=l2(best_lstm_params['l2_reg']))))\n",
    "\n",
    "    model.add(Dropout(best_lstm_params['dropout_rate']))\n",
    "\n",
    "    model.add(Dense(1, activation='sigmoid'))\n",
    "\n",
    "    # Define EarlyStopping callback\n",
    "    early_stopping = EarlyStopping(monitor='val_loss', patience=best_lstm_params['patience_for_early_stopping'])\n",
    "\n",
    "    # Compile the model\n",
    "    model.compile(optimizer='adam', loss='binary_crossentropy', metrics=['accuracy'])\n",
    "\n",
    "    history = model.fit(\n",
    "        X_train,\n",
    "        y_train,\n",
    "        validation_data=(X_val, y_val),\n",
    "        epochs=best_lstm_params['epochs'],\n",
    "        batch_size=best_lstm_params['batch_size'],\n",
    "        callbacks=[early_stopping],\n",
    "        verbose=1\n",
    "    )\n",
    "\n",
    "    # Log training history\n",
    "    for epoch in range(len(history.history['accuracy'])):\n",
    "        mlflow.log_metric(\"train_accuracy\", history.history['accuracy'][epoch], step=epoch)\n",
    "        mlflow.log_metric(\"val_accuracy\", history.history['val_accuracy'][epoch], step=epoch)\n",
    "\n",
    "    # Evaluate the model\n",
    "    test_loss, test_accuracy = model.evaluate(X_test, y_test)\n",
    "    train_loss, train_accuracy = model.evaluate(X_train, y_train)\n",
    "    val_loss, val_accuracy = model.evaluate(X_val, y_val)\n",
    "\n",
    "    # Predictions and additional metrics\n",
    "    y_pred = model.predict(X_test)\n",
    "    y_pred_classes = np.where(y_pred > 0.5, 1, 0).reshape(-1)\n",
    "    f1 = f1_score(y_test, y_pred_classes)\n",
    "    precision = precision_score(y_test, y_pred_classes)\n",
    "    recall = recall_score(y_test, y_pred_classes)\n",
    "    \n",
    "    # Calculate ROC curve\n",
    "    fpr, tpr, thresholds = roc_curve(y_test, y_pred)\n",
    "    # Calculate AUC (Area Under the ROC Curve)\n",
    "    roc_auc = auc(fpr, tpr)\n",
    "\n",
    "    # Confusion matrix calculation\n",
    "    cm = confusion_matrix(y_test, y_pred_classes)\n",
    "    cm_dict = {f\"{i}-{j}\": cm[i, j] for i in range(cm.shape[0]) for j in range(cm.shape[1])}\n",
    "\n",
    "    # Log additional metrics\n",
    "    mlflow.log_metrics({\n",
    "    \"test_f1\": f1,\n",
    "    \"test_precision\": precision,\n",
    "    \"test_recall\": recall,\n",
    "    \"test_roc_auc\": roc_auc,\n",
    "    \"test_loss\": test_loss, \n",
    "    \"test_accuracy\": test_accuracy,\n",
    "    \"train_accuracy\":train_accuracy,\n",
    "    \"train_loss\":train_loss,\n",
    "    \"val_loss\":val_loss,\n",
    "    \"val_accuracy\":val_accuracy\n",
    "    })\n",
    "\n",
    "    # Infer the signature using the combined data and predictions\n",
    "    signature = infer_signature(X_test, y_pred)\n",
    "\n",
    "    mlflow.keras.log_model(model, \"model\", signature=signature)\n",
    "\n",
    "    # Set additional tags\n",
    "    mlflow.set_tags({\n",
    "        \"Description\": \"Character-Level BiLSTM\",\n",
    "        \"Encoding\": \"Character-Level for name | other featuers Coverting them to thier ASCI value then norm\",\n",
    "        \"Features\": ', '.join(df.columns.tolist()),\n",
    "        'Number of Features':len(df.columns.tolist()),\n",
    "        \"Model Type\": \"BiLSTM\",\n",
    "        \"model_architecture\": get_model_summary(model),\n",
    "        'confusion_matrix':list(cm_dict.values())\n",
    "    })\n",
    "# End MLflow run"
   ]
  },
  {
   "cell_type": "code",
   "execution_count": null,
   "metadata": {},
   "outputs": [
    {
     "name": "stdout",
     "output_type": "stream",
     "text": [
      "\n",
      "-----------------------------------------------------------\n",
      "Test Accuracy: 0.846\n",
      "Train Accuracy: 0.888\n",
      "\n",
      "---Metrics---\n",
      "\n",
      "F1 Score: 0.898\n",
      "Precision: 0.879\n",
      "Recall: 0.917\n",
      "ROC AUC: 0.904\n",
      "\n",
      "---Loss---\n",
      "\n",
      "Test Loss: 0.37\n",
      "Train Loss: 0.284\n",
      "-----------------------------------------------------------\n"
     ]
    }
   ],
   "source": [
    "print()\n",
    "print('-----------------------------------------------------------')\n",
    "print(f\"Train Accuracy: {round(train_accuracy, 3)}\")\n",
    "print(f\"Val Accuracy: {round(val_accuracy, 3)}\")\n",
    "print(f\"Test Accuracy: {round(test_accuracy, 3)}\")\n",
    "print(\"\\n---Metrics---\\n\")\n",
    "print(f\"F1 Score: {round(f1, 3)}\")\n",
    "print(f\"Precision: {round(precision, 3)}\")\n",
    "print(f\"Recall: {round(recall, 3)}\")\n",
    "print(f\"ROC AUC: {round(roc_auc, 3)}\")\n",
    "print(\"\\n---Loss---\\n\")\n",
    "print(f\"Train Loss: {round(train_loss, 3)}\")\n",
    "print(f\"Val Loss: {round(val_loss, 3)}\")\n",
    "print(f\"Test Loss: {round(test_loss, 3)}\")\n",
    "print('-----------------------------------------------------------')"
   ]
  },
  {
   "cell_type": "code",
   "execution_count": null,
   "metadata": {},
   "outputs": [
    {
     "data": {
      "image/png": "[encoded data removed]",
      "text/plain": [
       "<Figure size 800x400 with 1 Axes>"
      ]
     },
     "metadata": {},
     "output_type": "display_data"
    }
   ],
   "source": [
    "# Apply the seaborn style to make plots nicer\n",
    "sns.set(style=\"whitegrid\")\n",
    "\n",
    "# Create the figure with a specific size\n",
    "plt.figure(figsize=(8, 4))\n",
    "\n",
    "# Accuracy plot\n",
    "plt.subplot(1, 1, 1)\n",
    "plt.plot(history.history['accuracy'], label='Train Accuracy', linewidth=2, marker='o', markersize=5)\n",
    "plt.plot(history.history['val_accuracy'], label='Validation Accuracy', linewidth=2, marker='s', markersize=5)\n",
    "\n",
    "# Title and labels\n",
    "plt.title('Model Accuracy Over Epochs', fontsize=16)\n",
    "plt.ylabel('Accuracy', fontsize=14)\n",
    "plt.xlabel('Epoch', fontsize=14)\n",
    "\n",
    "# Legend\n",
    "plt.legend(loc='upper left', fontsize=12)\n",
    "\n",
    "# Set limits and ticks for readability\n",
    "plt.xlim(0, len(history.history['accuracy']) - 1)\n",
    "plt.ylim(0.7, max(max(history.history['accuracy']), max(history.history['val_accuracy'])) + 0.05)\n",
    "plt.xticks(fontsize=12)\n",
    "plt.yticks(fontsize=12);"
   ]
  },
  {
   "cell_type": "code",
   "execution_count": null,
   "metadata": {},
   "outputs": [
    {
     "data": {
      "text/plain": [
       "[150, 80, 53, 583]"
      ]
     },
     "execution_count": 49,
     "metadata": {},
     "output_type": "execute_result"
    },
    {
     "data": {
      "image/png": "[encoded data removed]",
      "text/plain": [
       "<Figure size 400x400 with 1 Axes>"
      ]
     },
     "metadata": {},
     "output_type": "display_data"
    }
   ],
   "source": [
    "# Plotting the confusion matrix\n",
    "plt.figure(figsize=(4, 4))\n",
    "sns.heatmap(cm, annot=True, fmt='d', cmap='Blues', cbar=False)\n",
    "plt.title('Confusion Matrix')\n",
    "plt.xlabel('Predicted Label')\n",
    "plt.ylabel('True Label');\n",
    "list(cm_dict.values())"
   ]
  },
  {
   "cell_type": "code",
   "execution_count": null,
   "metadata": {},
   "outputs": [
    {
     "data": {
      "image/png": "[encoded data removed]",
      "text/plain": [
       "<Figure size 800x400 with 1 Axes>"
      ]
     },
     "metadata": {},
     "output_type": "display_data"
    }
   ],
   "source": [
    "# Plot ROC curve\n",
    "plt.figure(figsize=(8, 4))\n",
    "plt.plot(fpr, tpr, color='darkorange', lw=2, label='ROC curve (area = %0.2f)' % roc_auc)\n",
    "plt.plot([0, 1], [0, 1], color='navy', lw=2, linestyle='--')\n",
    "plt.xlim([0.0, 1.0])\n",
    "plt.ylim([0.0, 1.05])\n",
    "plt.xlabel('False Positive Rate')\n",
    "plt.ylabel('True Positive Rate')\n",
    "plt.title('Receiver Operating Characteristic')\n",
    "plt.legend(loc='lower right');"
   ]
  },
  {
   "cell_type": "code",
   "execution_count": null,
   "metadata": {},
   "outputs": [],
   "source": [
    "model.save(f\"saved_models/BiLSTM_Acc_{round(test_accuracy, 3)}_F1_{round(f1, 3)}_Roc_{round(roc_auc, 3)}.h5\")"
   ]
  },
  {
   "cell_type": "code",
   "execution_count": null,
   "metadata": {},
   "outputs": [],
   "source": []
  }
 ],
 "metadata": {
  "kernelspec": {
   "display_name": "ds",
   "language": "python",
   "name": "python3"
  },
  "language_info": {
   "codemirror_mode": {
    "name": "ipython",
    "version": 3
   },
   "file_extension": ".py",
   "mimetype": "text/x-python",
   "name": "python",
   "nbconvert_exporter": "python",
   "pygments_lexer": "ipython3",
   "version": "3.8.18"
  }
 },
 "nbformat": 4,
 "nbformat_minor": 2
}
