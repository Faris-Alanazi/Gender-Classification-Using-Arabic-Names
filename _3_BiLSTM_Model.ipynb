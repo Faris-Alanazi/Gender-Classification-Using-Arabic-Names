{
 "cells": [
  {
   "cell_type": "code",
   "execution_count": 180,
   "metadata": {},
   "outputs": [],
   "source": [
    "# python=3.8\n",
    "# conda env name : gender_pred_env"
   ]
  },
  {
   "cell_type": "markdown",
   "metadata": {},
   "source": [
    "# Packges"
   ]
  },
  {
   "cell_type": "code",
   "execution_count": 181,
   "metadata": {},
   "outputs": [],
   "source": [
    "import joblib\n",
    "import numpy as np\n",
    "import pandas as pd\n",
    "import pickle\n",
    "import warnings\n",
    "import mlflow\n",
    "import mlflow.keras\n",
    "from mlflow.models.signature import infer_signature\n",
    "from keras.callbacks import EarlyStopping\n",
    "from tensorflow.keras.models import Sequential, Model\n",
    "from tensorflow.keras.layers import Embedding, LSTM, Dense, Dropout, Bidirectional, Input, Flatten, concatenate\n",
    "from tensorflow.keras.preprocessing.text import Tokenizer\n",
    "from tensorflow.keras.preprocessing.sequence import pad_sequences\n",
    "from tensorflow.keras.regularizers import l2\n",
    "from tensorflow.keras.utils import to_categorical\n",
    "from sklearn.preprocessing import MinMaxScaler\n",
    "from sklearn.model_selection import train_test_split\n",
    "from sklearn.metrics import accuracy_score, f1_score, confusion_matrix, precision_score, recall_score, roc_auc_score, roc_curve, auc\n",
    "import matplotlib.pyplot as plt\n",
    "import seaborn as sns\n",
    "\n",
    "# Adjusting warnings\n",
    "warnings.filterwarnings('ignore')"
   ]
  },
  {
   "cell_type": "code",
   "execution_count": 182,
   "metadata": {},
   "outputs": [
    {
     "data": {
      "text/html": [
       "<div>\n",
       "<style scoped>\n",
       "    .dataframe tbody tr th:only-of-type {\n",
       "        vertical-align: middle;\n",
       "    }\n",
       "\n",
       "    .dataframe tbody tr th {\n",
       "        vertical-align: top;\n",
       "    }\n",
       "\n",
       "    .dataframe thead th {\n",
       "        text-align: right;\n",
       "    }\n",
       "</style>\n",
       "<table border=\"1\" class=\"dataframe\">\n",
       "  <thead>\n",
       "    <tr style=\"text-align: right;\">\n",
       "      <th></th>\n",
       "      <th>name</th>\n",
       "      <th>sex</th>\n",
       "      <th>name_length</th>\n",
       "      <th>last_letter</th>\n",
       "      <th>last_two_letters</th>\n",
       "      <th>first_letter</th>\n",
       "      <th>first_two_letters</th>\n",
       "    </tr>\n",
       "  </thead>\n",
       "  <tbody>\n",
       "    <tr>\n",
       "      <th>0</th>\n",
       "      <td>ابتسام</td>\n",
       "      <td>0</td>\n",
       "      <td>6</td>\n",
       "      <td>م</td>\n",
       "      <td>ام</td>\n",
       "      <td>ا</td>\n",
       "      <td>اب</td>\n",
       "    </tr>\n",
       "    <tr>\n",
       "      <th>1</th>\n",
       "      <td>ابتهاج</td>\n",
       "      <td>0</td>\n",
       "      <td>6</td>\n",
       "      <td>ج</td>\n",
       "      <td>اج</td>\n",
       "      <td>ا</td>\n",
       "      <td>اب</td>\n",
       "    </tr>\n",
       "    <tr>\n",
       "      <th>2</th>\n",
       "      <td>ابتهال</td>\n",
       "      <td>0</td>\n",
       "      <td>6</td>\n",
       "      <td>ل</td>\n",
       "      <td>ال</td>\n",
       "      <td>ا</td>\n",
       "      <td>اب</td>\n",
       "    </tr>\n",
       "    <tr>\n",
       "      <th>3</th>\n",
       "      <td>اجتهاد</td>\n",
       "      <td>0</td>\n",
       "      <td>6</td>\n",
       "      <td>د</td>\n",
       "      <td>اد</td>\n",
       "      <td>ا</td>\n",
       "      <td>اج</td>\n",
       "    </tr>\n",
       "    <tr>\n",
       "      <th>4</th>\n",
       "      <td>ازدهار</td>\n",
       "      <td>0</td>\n",
       "      <td>6</td>\n",
       "      <td>ر</td>\n",
       "      <td>ار</td>\n",
       "      <td>ا</td>\n",
       "      <td>از</td>\n",
       "    </tr>\n",
       "  </tbody>\n",
       "</table>\n",
       "</div>"
      ],
      "text/plain": [
       "     name  sex  name_length last_letter last_two_letters first_letter  \\\n",
       "0  ابتسام    0            6           م               ام            ا   \n",
       "1  ابتهاج    0            6           ج               اج            ا   \n",
       "2  ابتهال    0            6           ل               ال            ا   \n",
       "3  اجتهاد    0            6           د               اد            ا   \n",
       "4  ازدهار    0            6           ر               ار            ا   \n",
       "\n",
       "  first_two_letters  \n",
       "0                اب  \n",
       "1                اب  \n",
       "2                اب  \n",
       "3                اج  \n",
       "4                از  "
      ]
     },
     "execution_count": 182,
     "metadata": {},
     "output_type": "execute_result"
    }
   ],
   "source": [
    "# Load Data\n",
    "df = pd.read_pickle('data/dataset_after_preporcessing.pkl')\n",
    "df.head()"
   ]
  },
  {
   "cell_type": "code",
   "execution_count": 183,
   "metadata": {},
   "outputs": [],
   "source": [
    "# Assuming df['name'] is your DataFrame column with names\n",
    "max_name_length = max(df['name'].apply(len))\n",
    "unique_chars = set(''.join(df['name']))  \n",
    "vocab_size = len(unique_chars) + 1  \n",
    "\n",
    "with open('saved_models/tokenizer.pkl', 'rb') as handle:\n",
    "    tokenizer = pickle.load(handle)\n",
    "\n",
    "sequences = tokenizer.texts_to_sequences(df['name'])\n",
    "padded_sequences = pad_sequences(sequences, maxlen=max_name_length)"
   ]
  },
  {
   "cell_type": "code",
   "execution_count": 184,
   "metadata": {},
   "outputs": [],
   "source": [
    "first_letter = df['name'].apply(lambda x: x[0])\n",
    "last_letter = df['name'].apply(lambda x: x[-1])\n",
    "\n",
    "first_letter_encoded = np.array([ord(char) for char in first_letter])\n",
    "last_letter_encoded = np.array([ord(char) for char in last_letter])\n",
    "\n",
    "max_unicode_value_first = np.max(first_letter_encoded)\n",
    "max_unicode_value_last = np.max(last_letter_encoded)\n",
    "max_unicode_value = max(max_unicode_value_first, max_unicode_value_last)"
   ]
  },
  {
   "cell_type": "code",
   "execution_count": 185,
   "metadata": {},
   "outputs": [],
   "source": [
    "# Load the scaler models\n",
    "scaler_first = joblib.load('saved_models/scaler_models/scaler_first_letter.pkl')\n",
    "scaler_last = joblib.load('saved_models/scaler_models/scaler_last_letter.pkl')\n",
    "\n",
    "# Transform the new data using the loaded scalers\n",
    "first_letter_encoded_scaled = scaler_first.transform(first_letter_encoded.reshape(-1, 1))\n",
    "last_letter_encoded_scaled = scaler_last.transform(last_letter_encoded.reshape(-1, 1))"
   ]
  },
  {
   "cell_type": "code",
   "execution_count": 186,
   "metadata": {},
   "outputs": [
    {
     "name": "stdout",
     "output_type": "stream",
     "text": [
      "Training set size: 6922, Labels: 6922\n",
      "Validation set size: 865, Labels: 865\n",
      "Test set size: 866, Labels: 866\n"
     ]
    }
   ],
   "source": [
    "y = df['sex'].values\n",
    "X = list(zip(padded_sequences, first_letter_encoded_scaled, last_letter_encoded_scaled))\n",
    "\n",
    "# Define the size for the test and validation sets as percentages\n",
    "test_size_percentage = 0.1\n",
    "validation_size_percentage = 0.1\n",
    "\n",
    "\n",
    "# Calculate the actual sizes for the test and validation sets\n",
    "total_size = test_size_percentage + validation_size_percentage\n",
    "test_size_actual = test_size_percentage / total_size\n",
    "validation_size_actual = validation_size_percentage / total_size\n",
    "\n",
    "train_size_percentage = 1 - total_size\n",
    "\n",
    "# First split: Separate out the training data and the remaining data\n",
    "X_train, X_remaining, y_train, y_remaining = train_test_split(X, y, test_size=total_size, random_state=11)\n",
    "\n",
    "# Second split: Separate the remaining data into validation and test sets\n",
    "X_val, X_test, y_val, y_test = train_test_split(X_remaining, y_remaining, test_size=test_size_actual, random_state=11)\n",
    "\n",
    "# Print the number of samples in the training, validation, and test sets\n",
    "print(f\"Training set size: {len(X_train)}, Labels: {len(y_train)}\")\n",
    "print(f\"Validation set size: {len(X_val)}, Labels: {len(y_val)}\")\n",
    "print(f\"Test set size: {len(X_test)}, Labels: {len(y_test)}\")\n",
    "\n",
    "# Unpack the training data into separate arrays for each input\n",
    "name_train, first_letter_train, last_letter_train = zip(*X_train)\n",
    "name_val, first_letter_val, last_letter_val = zip(*X_val)\n",
    "name_test, first_letter_test, last_letter_test = zip(*X_test)\n",
    "\n",
    "# Convert tuples to numpy arrays\n",
    "name_train = np.array(name_train)\n",
    "first_letter_train = np.array(first_letter_train)\n",
    "last_letter_train = np.array(last_letter_train)\n",
    "\n",
    "name_val = np.array(name_val)\n",
    "first_letter_val = np.array(first_letter_val)\n",
    "last_letter_val = np.array(last_letter_val)\n",
    "\n",
    "name_test = np.array(name_test)\n",
    "first_letter_test = np.array(first_letter_test)\n",
    "last_letter_test = np.array(last_letter_test)\n",
    "\n",
    "# Concatenate the features\n",
    "X_combined_train = np.concatenate([name_train, first_letter_train, last_letter_train], axis=1)\n",
    "X_combined_val = np.concatenate([name_val, first_letter_val, last_letter_val], axis=1)\n",
    "X_combined_test = np.concatenate([name_test, first_letter_test, last_letter_test], axis=1)"
   ]
  },
  {
   "cell_type": "code",
   "execution_count": 187,
   "metadata": {},
   "outputs": [],
   "source": [
    "# max name length is 17\n",
    "\n",
    "# Model parameters\n",
    "embedding_dim = 512\n",
    "letter_embedding_dim = embedding_dim\n",
    "\n",
    "lstm_units = 128\n",
    "total_features_shape = X_combined_train.shape[1]\n",
    "\n",
    "l2_lambda = 0.000\n",
    "dropout_rate = 0.25\n",
    "\n",
    "batch_size = 32\n",
    "epochs = 100\n",
    "patience_for_early_stopping = 5"
   ]
  },
  {
   "cell_type": "code",
   "execution_count": 188,
   "metadata": {},
   "outputs": [
    {
     "name": "stdout",
     "output_type": "stream",
     "text": [
      "Model: \"sequential_13\"\n",
      "_________________________________________________________________\n",
      " Layer (type)                Output Shape              Param #   \n",
      "=================================================================\n",
      " embedding_13 (Embedding)    (None, 19, 512)           18944     \n",
      "                                                                 \n",
      " bidirectional_29 (Bidirecti  (None, 19, 256)          656384    \n",
      " onal)                                                           \n",
      "                                                                 \n",
      " dropout_24 (Dropout)        (None, 19, 256)           0         \n",
      "                                                                 \n",
      " bidirectional_30 (Bidirecti  (None, 19, 128)          164352    \n",
      " onal)                                                           \n",
      "                                                                 \n",
      " dropout_25 (Dropout)        (None, 19, 128)           0         \n",
      "                                                                 \n",
      " lstm_41 (LSTM)              (None, 32)                20608     \n",
      "                                                                 \n",
      " dense_12 (Dense)            (None, 1)                 33        \n",
      "                                                                 \n",
      "=================================================================\n",
      "Total params: 860,321\n",
      "Trainable params: 860,321\n",
      "Non-trainable params: 0\n",
      "_________________________________________________________________\n"
     ]
    }
   ],
   "source": [
    "# Define the early stopping callback\n",
    "early_stopping = EarlyStopping(\n",
    "    monitor='val_loss',  # You can choose the metric to monitor (e.g., validation loss)\n",
    "    patience=patience_for_early_stopping,          # Number of epochs with no improvement before stopping\n",
    "    restore_best_weights=True  # Restore the best model weights when stopping\n",
    ")\n",
    "\n",
    "model = Sequential()\n",
    "\n",
    "model.add(Embedding(input_dim=vocab_size, output_dim=embedding_dim, input_length=total_features_shape))\n",
    "\n",
    "model.add(Bidirectional(LSTM(lstm_units,return_sequences=True)))\n",
    "\n",
    "model.add(Dropout(dropout_rate))\n",
    "\n",
    "model.add(Bidirectional(LSTM(lstm_units//2,return_sequences=True)))\n",
    "\n",
    "model.add(Dropout(dropout_rate))\n",
    "\n",
    "model.add(LSTM(lstm_units//4))\n",
    "\n",
    "model.add(Dense(1, activation='sigmoid'))\n",
    "\n",
    "# Compile the model\n",
    "model.compile(loss='binary_crossentropy', optimizer='adam', metrics=['accuracy'])\n",
    "\n",
    "# Model summary\n",
    "model.summary()"
   ]
  },
  {
   "cell_type": "code",
   "execution_count": 189,
   "metadata": {},
   "outputs": [],
   "source": [
    "def get_model_summary(model):\n",
    "    \"\"\"\n",
    "    Generates the summary of the given Keras model and returns it as a string.\n",
    "\n",
    "    Args:\n",
    "    model (keras.Model): The Keras model to summarize.\n",
    "\n",
    "    Returns:\n",
    "    str: The summary of the model.\n",
    "    \"\"\"\n",
    "    model_summary_list = []\n",
    "    model.summary(print_fn=lambda x: model_summary_list.append(x))\n",
    "    return '\\n'.join(model_summary_list)\n"
   ]
  },
  {
   "cell_type": "code",
   "execution_count": 190,
   "metadata": {},
   "outputs": [
    {
     "data": {
      "text/plain": [
       "<Experiment: artifact_location='mlflow-artifacts:/237850698007442871', creation_time=1704716553191, experiment_id='237850698007442871', last_update_time=1704716553191, lifecycle_stage='active', name='Gender Prediction Models Tracking', tags={}>"
      ]
     },
     "execution_count": 190,
     "metadata": {},
     "output_type": "execute_result"
    }
   ],
   "source": [
    "mlflow.set_tracking_uri(\"http://127.0.0.1:5000\")\n",
    "mlflow.set_experiment(\"Gender Prediction Models Tracking\")"
   ]
  },
  {
   "cell_type": "code",
   "execution_count": 191,
   "metadata": {},
   "outputs": [
    {
     "name": "stdout",
     "output_type": "stream",
     "text": [
      "Epoch 1/100\n",
      "217/217 [==============================] - 139s 616ms/step - loss: 0.4630 - accuracy: 0.7943 - val_loss: 0.3668 - val_accuracy: 0.8393\n",
      "Epoch 2/100\n",
      "217/217 [==============================] - 156s 720ms/step - loss: 0.3917 - accuracy: 0.8297 - val_loss: 0.3550 - val_accuracy: 0.8405\n",
      "Epoch 3/100\n",
      "217/217 [==============================] - 159s 730ms/step - loss: 0.3831 - accuracy: 0.8346 - val_loss: 0.3548 - val_accuracy: 0.8462\n",
      "Epoch 4/100\n",
      "217/217 [==============================] - 158s 729ms/step - loss: 0.3720 - accuracy: 0.8418 - val_loss: 0.3485 - val_accuracy: 0.8393\n",
      "Epoch 5/100\n",
      "217/217 [==============================] - 138s 635ms/step - loss: 0.3616 - accuracy: 0.8438 - val_loss: 0.3431 - val_accuracy: 0.8532\n",
      "Epoch 6/100\n",
      "217/217 [==============================] - 99s 456ms/step - loss: 0.3534 - accuracy: 0.8483 - val_loss: 0.3427 - val_accuracy: 0.8497\n",
      "Epoch 7/100\n",
      "217/217 [==============================] - 98s 452ms/step - loss: 0.3424 - accuracy: 0.8534 - val_loss: 0.3264 - val_accuracy: 0.8578\n",
      "Epoch 8/100\n",
      "217/217 [==============================] - 98s 452ms/step - loss: 0.3265 - accuracy: 0.8607 - val_loss: 0.3297 - val_accuracy: 0.8636\n",
      "Epoch 9/100\n",
      "217/217 [==============================] - 99s 458ms/step - loss: 0.3094 - accuracy: 0.8704 - val_loss: 0.3381 - val_accuracy: 0.8497\n",
      "Epoch 10/100\n",
      "217/217 [==============================] - 100s 459ms/step - loss: 0.2977 - accuracy: 0.8706 - val_loss: 0.3168 - val_accuracy: 0.8682\n",
      "Epoch 11/100\n",
      "217/217 [==============================] - 98s 452ms/step - loss: 0.2798 - accuracy: 0.8824 - val_loss: 0.3118 - val_accuracy: 0.8751\n",
      "Epoch 12/100\n",
      "217/217 [==============================] - 100s 461ms/step - loss: 0.2620 - accuracy: 0.8862 - val_loss: 0.3122 - val_accuracy: 0.8740\n",
      "Epoch 13/100\n",
      "217/217 [==============================] - 100s 463ms/step - loss: 0.2444 - accuracy: 0.8931 - val_loss: 0.3124 - val_accuracy: 0.8775\n",
      "Epoch 14/100\n",
      "217/217 [==============================] - 100s 460ms/step - loss: 0.2294 - accuracy: 0.9035 - val_loss: 0.3112 - val_accuracy: 0.8751\n",
      "Epoch 15/100\n",
      "217/217 [==============================] - 99s 458ms/step - loss: 0.2112 - accuracy: 0.9081 - val_loss: 0.3098 - val_accuracy: 0.8879\n",
      "Epoch 16/100\n",
      "217/217 [==============================] - 98s 453ms/step - loss: 0.2000 - accuracy: 0.9145 - val_loss: 0.3152 - val_accuracy: 0.8844\n",
      "Epoch 17/100\n",
      "217/217 [==============================] - 99s 456ms/step - loss: 0.1764 - accuracy: 0.9233 - val_loss: 0.3510 - val_accuracy: 0.8763\n",
      "Epoch 18/100\n",
      "217/217 [==============================] - 100s 460ms/step - loss: 0.1717 - accuracy: 0.9269 - val_loss: 0.3443 - val_accuracy: 0.8728\n",
      "Epoch 19/100\n",
      "217/217 [==============================] - 99s 456ms/step - loss: 0.1547 - accuracy: 0.9333 - val_loss: 0.3538 - val_accuracy: 0.8867\n",
      "Epoch 20/100\n",
      "217/217 [==============================] - 99s 457ms/step - loss: 0.1334 - accuracy: 0.9452 - val_loss: 0.3842 - val_accuracy: 0.8798\n",
      "28/28 [==============================] - 5s 168ms/step - loss: 0.3172 - accuracy: 0.8730\n",
      "28/28 [==============================] - 6s 160ms/step\n"
     ]
    },
    {
     "name": "stderr",
     "output_type": "stream",
     "text": [
      "WARNING:absl:Found untraced functions such as lstm_cell_103_layer_call_fn, lstm_cell_103_layer_call_and_return_conditional_losses, lstm_cell_98_layer_call_fn, lstm_cell_98_layer_call_and_return_conditional_losses, lstm_cell_99_layer_call_fn while saving (showing 5 of 10). These functions will not be directly callable after loading.\n"
     ]
    },
    {
     "name": "stdout",
     "output_type": "stream",
     "text": [
      "INFO:tensorflow:Assets written to: C:\\Users\\FARISA~1\\AppData\\Local\\Temp\\tmponlb4opz\\model\\data\\model\\assets\n"
     ]
    },
    {
     "name": "stderr",
     "output_type": "stream",
     "text": [
      "INFO:tensorflow:Assets written to: C:\\Users\\FARISA~1\\AppData\\Local\\Temp\\tmponlb4opz\\model\\data\\model\\assets\n"
     ]
    },
    {
     "name": "stdout",
     "output_type": "stream",
     "text": [
      "\n",
      "-----------------------------------------------------------\n",
      "Validation Accuracy: 0.873\n",
      "F1 Score: 0.915\n",
      "Precision: 0.898\n",
      "Recall: 0.932\n",
      "ROC AUC: 0.928\n",
      "-----------------------------------------------------------\n"
     ]
    }
   ],
   "source": [
    "# MLflow tracking\n",
    "with mlflow.start_run():\n",
    "    # Log model parameters\n",
    "    mlflow.log_params({\n",
    "        \"embedding_dim\": embedding_dim,\n",
    "        \"lstm_units\": lstm_units,\n",
    "        \"max_name_length\": max_name_length,\n",
    "        \"vocab_size\": vocab_size,\n",
    "        \"epochs\": epochs,\n",
    "        \"batch_size\": batch_size,\n",
    "        \"l2_reg\": l2_lambda,\n",
    "        \"dropout_rate\": dropout_rate,\n",
    "        \"train_size_percentage\": train_size_percentage,\n",
    "        \"test_size_percentage\": test_size_percentage,\n",
    "        \"validation_size_percentage\": validation_size_percentage,\n",
    "        \"patience_for_early_stopping\":patience_for_early_stopping\n",
    "    })\n",
    "\n",
    "    # Train the model\n",
    "    history = model.fit(\n",
    "        X_combined_train,\n",
    "        y_train,\n",
    "        validation_data=(X_combined_val, y_val),\n",
    "        callbacks=[early_stopping],\n",
    "        epochs=epochs\n",
    "    )\n",
    "    # Log training history\n",
    "    for epoch in range(len(history.history['accuracy'])):\n",
    "        mlflow.log_metric(\"train_accuracy\", history.history['accuracy'][epoch], step=epoch)\n",
    "        mlflow.log_metric(\"val_accuracy\", history.history['val_accuracy'][epoch], step=epoch)\n",
    "\n",
    "    # Evaluate the model\n",
    "    loss, accuracy = model.evaluate(X_combined_test, y_test)\n",
    "\n",
    "    # Predictions and additional metrics\n",
    "    y_pred = model.predict(X_combined_test)\n",
    "    y_pred_classes = np.where(y_pred > 0.5, 1, 0).reshape(-1)\n",
    "    f1 = f1_score(y_test, y_pred_classes)\n",
    "    precision = precision_score(y_test, y_pred_classes)\n",
    "    recall = recall_score(y_test, y_pred_classes)\n",
    "    \n",
    "    # Calculate ROC curve\n",
    "    fpr, tpr, thresholds = roc_curve(y_test, y_pred)\n",
    "    # Calculate AUC (Area Under the ROC Curve)\n",
    "    roc_auc = auc(fpr, tpr)\n",
    "\n",
    "    # Confusion matrix calculation\n",
    "    cm = confusion_matrix(y_test, y_pred_classes)\n",
    "    cm_dict = {f\"{i}-{j}\": cm[i, j] for i in range(cm.shape[0]) for j in range(cm.shape[1])}\n",
    "\n",
    "    # Log additional metrics\n",
    "    mlflow.log_metrics({\n",
    "    \"val_f1_score\": f1,\n",
    "    \"val_precision\": precision,\n",
    "    \"val_recall\": recall,\n",
    "    \"val_roc_auc\": roc_auc,\n",
    "    \"val_loss\": loss, \n",
    "    \"val_accuracy\": accuracy\n",
    "    })\n",
    "\n",
    "    # Infer the signature using the combined data and predictions\n",
    "    signature = infer_signature(X_combined_test, y_pred)\n",
    "\n",
    "    mlflow.keras.log_model(model, \"model\", signature=signature)\n",
    "\n",
    "    # Set additional tags\n",
    "    mlflow.set_tags({\n",
    "        \"Description\": \"Character-Level BiLSTM\",\n",
    "        \"Encoding\": \"Character-Level for name | other featuers Coverting them to thier ASCI value then norm\",\n",
    "        \"Features\": ', '.join(df.columns.tolist()),\n",
    "        'Number of Features':len(df.columns.tolist()),\n",
    "        \"Model Type\": \"BiLSTM\",\n",
    "        \"model_architecture\": get_model_summary(model),\n",
    "        'confusion_matrix':list(cm_dict.values())\n",
    "    })\n",
    "\n",
    "print()\n",
    "print('-----------------------------------------------------------')\n",
    "print(f\"Validation Accuracy: {round(accuracy, 3)}\")\n",
    "print(f\"F1 Score: {round(f1, 3)}\")\n",
    "print(f\"Precision: {round(precision, 3)}\")\n",
    "print(f\"Recall: {round(recall, 3)}\")\n",
    "print(f\"ROC AUC: {round(roc_auc, 3)}\")\n",
    "print('-----------------------------------------------------------')\n",
    "# End MLflow run"
   ]
  },
  {
   "cell_type": "code",
   "execution_count": 192,
   "metadata": {},
   "outputs": [
    {
     "data": {
      "image/png": "[encoded data removed]",
      "text/plain": [
       "<Figure size 800x400 with 1 Axes>"
      ]
     },
     "metadata": {},
     "output_type": "display_data"
    }
   ],
   "source": [
    "# Apply the seaborn style to make plots nicer\n",
    "sns.set(style=\"whitegrid\")\n",
    "\n",
    "# Create the figure with a specific size\n",
    "plt.figure(figsize=(8, 4))\n",
    "\n",
    "# Accuracy plot\n",
    "plt.subplot(1, 1, 1)\n",
    "plt.plot(history.history['accuracy'], label='Train Accuracy', linewidth=2, marker='o', markersize=5)\n",
    "plt.plot(history.history['val_accuracy'], label='Validation Accuracy', linewidth=2, marker='s', markersize=5)\n",
    "\n",
    "# Title and labels\n",
    "plt.title('Model Accuracy Over Epochs', fontsize=16)\n",
    "plt.ylabel('Accuracy', fontsize=14)\n",
    "plt.xlabel('Epoch', fontsize=14)\n",
    "\n",
    "# Legend\n",
    "plt.legend(loc='upper left', fontsize=12)\n",
    "\n",
    "# Set limits and ticks for readability\n",
    "plt.xlim(0, len(history.history['accuracy']) - 1)\n",
    "plt.ylim(0.7, max(max(history.history['accuracy']), max(history.history['val_accuracy'])) + 0.05)\n",
    "plt.xticks(fontsize=12)\n",
    "plt.yticks(fontsize=12);"
   ]
  },
  {
   "cell_type": "code",
   "execution_count": 193,
   "metadata": {},
   "outputs": [
    {
     "data": {
      "text/plain": [
       "[163, 67, 43, 593]"
      ]
     },
     "execution_count": 193,
     "metadata": {},
     "output_type": "execute_result"
    },
    {
     "data": {
      "image/png": "[encoded data removed]",
      "text/plain": [
       "<Figure size 400x400 with 1 Axes>"
      ]
     },
     "metadata": {},
     "output_type": "display_data"
    }
   ],
   "source": [
    "# Plotting the confusion matrix\n",
    "plt.figure(figsize=(4, 4))\n",
    "sns.heatmap(cm, annot=True, fmt='d', cmap='Blues', cbar=False)\n",
    "plt.title('Confusion Matrix')\n",
    "plt.xlabel('Predicted Label')\n",
    "plt.ylabel('True Label');\n",
    "list(cm_dict.values())"
   ]
  },
  {
   "cell_type": "code",
   "execution_count": 194,
   "metadata": {},
   "outputs": [
    {
     "data": {
      "image/png": "[encoded data removed]",
      "text/plain": [
       "<Figure size 800x400 with 1 Axes>"
      ]
     },
     "metadata": {},
     "output_type": "display_data"
    }
   ],
   "source": [
    "# Plot ROC curve\n",
    "plt.figure(figsize=(8, 4))\n",
    "plt.plot(fpr, tpr, color='darkorange', lw=2, label='ROC curve (area = %0.2f)' % roc_auc)\n",
    "plt.plot([0, 1], [0, 1], color='navy', lw=2, linestyle='--')\n",
    "plt.xlim([0.0, 1.0])\n",
    "plt.ylim([0.0, 1.05])\n",
    "plt.xlabel('False Positive Rate')\n",
    "plt.ylabel('True Positive Rate')\n",
    "plt.title('Receiver Operating Characteristic')\n",
    "plt.legend(loc='lower right');"
   ]
  },
  {
   "cell_type": "code",
   "execution_count": 196,
   "metadata": {},
   "outputs": [],
   "source": [
    "model.save(f\"saved_models/BiLSTM_Accuracy_{round(accuracy, 3)}_F1_{round(f1, 3)}_Roc_{round(roc_auc, 3)}.h5\")"
   ]
  },
  {
   "cell_type": "code",
   "execution_count": null,
   "metadata": {},
   "outputs": [],
   "source": []
  }
 ],
 "metadata": {
  "kernelspec": {
   "display_name": "ds",
   "language": "python",
   "name": "python3"
  },
  "language_info": {
   "codemirror_mode": {
    "name": "ipython",
    "version": 3
   },
   "file_extension": ".py",
   "mimetype": "text/x-python",
   "name": "python",
   "nbconvert_exporter": "python",
   "pygments_lexer": "ipython3",
   "version": "3.8.18"
  }
 },
 "nbformat": 4,
 "nbformat_minor": 2
}
