{
 "cells": [
  {
   "cell_type": "code",
   "execution_count": 1,
   "metadata": {},
   "outputs": [],
   "source": [
    "import pandas as pd"
   ]
  },
  {
   "cell_type": "code",
   "execution_count": 2,
   "metadata": {},
   "outputs": [],
   "source": [
    "# Loading the datasets\n",
    "arabic_names = pd.read_csv('data/pre_merge_data/Arabic_names.csv')\n",
    "arabic_names_with_gender = pd.read_csv('data/pre_merge_data/arabic_names_with_gender.csv')\n",
    "females_ar = pd.read_csv('data/pre_merge_data/females_ar.csv')\n",
    "males_ar = pd.read_csv('data/pre_merge_data/males_ar.csv')"
   ]
  },
  {
   "cell_type": "code",
   "execution_count": 3,
   "metadata": {},
   "outputs": [
    {
     "name": "stdout",
     "output_type": "stream",
     "text": [
      "Dataset: Arabic Names\n",
      "    names sex\n",
      "0  ابتسام   F\n",
      "1  ابتهاج   F\n",
      "2  ابتهال   F\n",
      "3  اجتهاد   F\n",
      "4  ازدهار   F\n",
      "\n",
      "\n",
      "Dataset: Arabic Names with Gender\n",
      "  gender    name\n",
      "0    ذكر  ابانوب\n",
      "1    ذكر   ميلاد\n",
      "2    ذكر    حنين\n",
      "3    ذكر    ناشد\n",
      "4    ذكر    احمد\n",
      "\n",
      "\n",
      "Dataset: Females Arabic\n",
      "     Name  Gender\n",
      "0    آداب  Female\n",
      "1    آسية  Female\n",
      "2    آلاء  Female\n",
      "3    آمال  Female\n",
      "4  الآيات  Female\n",
      "\n",
      "\n",
      "Dataset: Males Arabic\n",
      "   Name Gender\n",
      "0   آدم   Male\n",
      "1   آسر   Male\n",
      "2   أبد   Male\n",
      "3  أبدع   Male\n",
      "4  أبره   Male\n",
      "\n",
      "\n"
     ]
    }
   ],
   "source": [
    "# Displaying the first few rows of each dataset to understand their structure\n",
    "datasets = [arabic_names, arabic_names_with_gender, females_ar, males_ar]\n",
    "dataset_names = ['Arabic Names', 'Arabic Names with Gender', 'Females Arabic', 'Males Arabic']\n",
    "\n",
    "for name, dataset in zip(dataset_names, datasets):\n",
    "    print(f\"Dataset: {name}\")\n",
    "    print(dataset.head())\n",
    "    print(\"\\n\")"
   ]
  },
  {
   "cell_type": "code",
   "execution_count": 4,
   "metadata": {},
   "outputs": [
    {
     "data": {
      "text/html": [
       "<div>\n",
       "<style scoped>\n",
       "    .dataframe tbody tr th:only-of-type {\n",
       "        vertical-align: middle;\n",
       "    }\n",
       "\n",
       "    .dataframe tbody tr th {\n",
       "        vertical-align: top;\n",
       "    }\n",
       "\n",
       "    .dataframe thead th {\n",
       "        text-align: right;\n",
       "    }\n",
       "</style>\n",
       "<table border=\"1\" class=\"dataframe\">\n",
       "  <thead>\n",
       "    <tr style=\"text-align: right;\">\n",
       "      <th></th>\n",
       "      <th>name</th>\n",
       "      <th>sex</th>\n",
       "    </tr>\n",
       "  </thead>\n",
       "  <tbody>\n",
       "    <tr>\n",
       "      <th>0</th>\n",
       "      <td>ابتسام</td>\n",
       "      <td>F</td>\n",
       "    </tr>\n",
       "    <tr>\n",
       "      <th>1</th>\n",
       "      <td>ابتهاج</td>\n",
       "      <td>F</td>\n",
       "    </tr>\n",
       "    <tr>\n",
       "      <th>2</th>\n",
       "      <td>ابتهال</td>\n",
       "      <td>F</td>\n",
       "    </tr>\n",
       "    <tr>\n",
       "      <th>3</th>\n",
       "      <td>اجتهاد</td>\n",
       "      <td>F</td>\n",
       "    </tr>\n",
       "    <tr>\n",
       "      <th>4</th>\n",
       "      <td>ازدهار</td>\n",
       "      <td>F</td>\n",
       "    </tr>\n",
       "  </tbody>\n",
       "</table>\n",
       "</div>"
      ],
      "text/plain": [
       "     name sex\n",
       "0  ابتسام   F\n",
       "1  ابتهاج   F\n",
       "2  ابتهال   F\n",
       "3  اجتهاد   F\n",
       "4  ازدهار   F"
      ]
     },
     "execution_count": 4,
     "metadata": {},
     "output_type": "execute_result"
    }
   ],
   "source": [
    "# Standardizing column names and values\n",
    "\n",
    "# For Arabic Names\n",
    "arabic_names = arabic_names.rename(columns={'names': 'name'})\n",
    "\n",
    "# For Arabic Names with Gender\n",
    "arabic_names_with_gender = arabic_names_with_gender.rename(columns={'gender': 'sex'})\n",
    "arabic_names_with_gender['sex'] = arabic_names_with_gender['sex'].map({'ذكر': 'M', 'أنثى': 'F'})\n",
    "\n",
    "females_ar = females_ar.rename(columns={'Gender': 'sex','Name':'name'})\n",
    "females_ar['sex'] = females_ar['sex'].map({'Male': 'M', 'Female': 'F'})\n",
    "\n",
    "males_ar = males_ar.rename(columns={'Gender': 'sex','Name':'name'})\n",
    "males_ar['sex'] = males_ar['sex'].map({'Male': 'M', 'Female': 'F'})\n",
    "\n",
    "# Now we concatenate all the datasets\n",
    "merged_dataset = pd.concat([arabic_names, arabic_names_with_gender, females_ar, males_ar], ignore_index=True)\n",
    "\n",
    "# Display the first few rows of the merged dataset\n",
    "merged_dataset.head()\n"
   ]
  },
  {
   "cell_type": "code",
   "execution_count": 5,
   "metadata": {},
   "outputs": [
    {
     "data": {
      "text/plain": [
       "(18151, 2)"
      ]
     },
     "execution_count": 5,
     "metadata": {},
     "output_type": "execute_result"
    }
   ],
   "source": [
    "# Display the first few rows of the merged dataset\n",
    "merged_dataset.shape"
   ]
  },
  {
   "cell_type": "code",
   "execution_count": 6,
   "metadata": {},
   "outputs": [
    {
     "data": {
      "text/html": [
       "<div>\n",
       "<style scoped>\n",
       "    .dataframe tbody tr th:only-of-type {\n",
       "        vertical-align: middle;\n",
       "    }\n",
       "\n",
       "    .dataframe tbody tr th {\n",
       "        vertical-align: top;\n",
       "    }\n",
       "\n",
       "    .dataframe thead th {\n",
       "        text-align: right;\n",
       "    }\n",
       "</style>\n",
       "<table border=\"1\" class=\"dataframe\">\n",
       "  <thead>\n",
       "    <tr style=\"text-align: right;\">\n",
       "      <th></th>\n",
       "      <th>name</th>\n",
       "      <th>sex</th>\n",
       "    </tr>\n",
       "  </thead>\n",
       "  <tbody>\n",
       "    <tr>\n",
       "      <th>1372</th>\n",
       "      <td>هائل</td>\n",
       "      <td>M</td>\n",
       "    </tr>\n",
       "    <tr>\n",
       "      <th>2928</th>\n",
       "      <td>خاطر</td>\n",
       "      <td>M</td>\n",
       "    </tr>\n",
       "    <tr>\n",
       "      <th>10977</th>\n",
       "      <td>اخلاص</td>\n",
       "      <td>NaN</td>\n",
       "    </tr>\n",
       "    <tr>\n",
       "      <th>8578</th>\n",
       "      <td>البرنس</td>\n",
       "      <td>M</td>\n",
       "    </tr>\n",
       "    <tr>\n",
       "      <th>7991</th>\n",
       "      <td>ابومرز</td>\n",
       "      <td>M</td>\n",
       "    </tr>\n",
       "    <tr>\n",
       "      <th>12931</th>\n",
       "      <td>فت</td>\n",
       "      <td>M</td>\n",
       "    </tr>\n",
       "    <tr>\n",
       "      <th>6627</th>\n",
       "      <td>ندين</td>\n",
       "      <td>F</td>\n",
       "    </tr>\n",
       "    <tr>\n",
       "      <th>18088</th>\n",
       "      <td>نسيم</td>\n",
       "      <td>M</td>\n",
       "    </tr>\n",
       "    <tr>\n",
       "      <th>13360</th>\n",
       "      <td>فينى</td>\n",
       "      <td>M</td>\n",
       "    </tr>\n",
       "    <tr>\n",
       "      <th>7874</th>\n",
       "      <td>هاشيما</td>\n",
       "      <td>M</td>\n",
       "    </tr>\n",
       "  </tbody>\n",
       "</table>\n",
       "</div>"
      ],
      "text/plain": [
       "         name  sex\n",
       "1372     هائل    M\n",
       "2928     خاطر    M\n",
       "10977   اخلاص  NaN\n",
       "8578   البرنس    M\n",
       "7991   ابومرز    M\n",
       "12931      فت    M\n",
       "6627     ندين    F\n",
       "18088    نسيم    M\n",
       "13360    فينى    M\n",
       "7874   هاشيما    M"
      ]
     },
     "execution_count": 6,
     "metadata": {},
     "output_type": "execute_result"
    }
   ],
   "source": [
    "merged_dataset.sample(n=10)"
   ]
  },
  {
   "cell_type": "code",
   "execution_count": 7,
   "metadata": {},
   "outputs": [],
   "source": [
    "# Removing duplicated values from the merged dataset\n",
    "merged_dataset_no_duplicates = merged_dataset.drop_duplicates()"
   ]
  },
  {
   "cell_type": "code",
   "execution_count": 8,
   "metadata": {},
   "outputs": [
    {
     "data": {
      "text/plain": [
       "(10684, 2)"
      ]
     },
     "execution_count": 8,
     "metadata": {},
     "output_type": "execute_result"
    }
   ],
   "source": [
    "merged_dataset_no_duplicates.shape"
   ]
  },
  {
   "cell_type": "code",
   "execution_count": 9,
   "metadata": {},
   "outputs": [],
   "source": [
    "# Saving the updated dataset without duplicates as a CSV file\n",
    "no_duplicates_file_path = 'data/Arabic_names.csv'\n",
    "merged_dataset_no_duplicates.to_csv(no_duplicates_file_path, index=False)"
   ]
  },
  {
   "cell_type": "code",
   "execution_count": null,
   "metadata": {},
   "outputs": [],
   "source": []
  }
 ],
 "metadata": {
  "kernelspec": {
   "display_name": "gender_pred_env",
   "language": "python",
   "name": "python3"
  },
  "language_info": {
   "codemirror_mode": {
    "name": "ipython",
    "version": 3
   },
   "file_extension": ".py",
   "mimetype": "text/x-python",
   "name": "python",
   "nbconvert_exporter": "python",
   "pygments_lexer": "ipython3",
   "version": "3.8.18"
  }
 },
 "nbformat": 4,
 "nbformat_minor": 2
}
