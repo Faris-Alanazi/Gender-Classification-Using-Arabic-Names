{
 "cells": [
  {
   "cell_type": "code",
   "execution_count": 245,
   "metadata": {},
   "outputs": [],
   "source": [
    "# python=3.8\n",
    "# conda env name : gender_pred_env"
   ]
  },
  {
   "cell_type": "markdown",
   "metadata": {},
   "source": [
    "# Packges"
   ]
  },
  {
   "cell_type": "code",
   "execution_count": 246,
   "metadata": {},
   "outputs": [],
   "source": [
    "import numpy as np\n",
    "import pandas as pd\n",
    "import warnings\n",
    "import mlflow\n",
    "import mlflow.keras\n",
    "from mlflow.models.signature import infer_signature\n",
    "from keras.callbacks import EarlyStopping\n",
    "from tensorflow.keras.models import Sequential\n",
    "from tensorflow.keras.layers import Embedding, LSTM, Dense, Dropout, Bidirectional\n",
    "from tensorflow.keras.preprocessing.text import Tokenizer\n",
    "from tensorflow.keras.preprocessing.sequence import pad_sequences\n",
    "from tensorflow.keras.regularizers import l2\n",
    "from sklearn.model_selection import train_test_split\n",
    "from sklearn.metrics import accuracy_score, f1_score, confusion_matrix, precision_score, recall_score, roc_auc_score\n",
    "import matplotlib.pyplot as plt\n",
    "import seaborn as sns\n",
    "\n",
    "# Adjusting warnings\n",
    "warnings.filterwarnings('ignore')"
   ]
  },
  {
   "cell_type": "code",
   "execution_count": 247,
   "metadata": {},
   "outputs": [
    {
     "data": {
      "text/html": [
       "<div>\n",
       "<style scoped>\n",
       "    .dataframe tbody tr th:only-of-type {\n",
       "        vertical-align: middle;\n",
       "    }\n",
       "\n",
       "    .dataframe tbody tr th {\n",
       "        vertical-align: top;\n",
       "    }\n",
       "\n",
       "    .dataframe thead th {\n",
       "        text-align: right;\n",
       "    }\n",
       "</style>\n",
       "<table border=\"1\" class=\"dataframe\">\n",
       "  <thead>\n",
       "    <tr style=\"text-align: right;\">\n",
       "      <th></th>\n",
       "      <th>name</th>\n",
       "      <th>sex</th>\n",
       "      <th>last_letter_ء</th>\n",
       "      <th>last_letter_أ</th>\n",
       "      <th>last_letter_ؤ</th>\n",
       "      <th>last_letter_ئ</th>\n",
       "      <th>last_letter_ا</th>\n",
       "      <th>last_letter_ب</th>\n",
       "      <th>last_letter_ة</th>\n",
       "      <th>last_letter_ت</th>\n",
       "      <th>...</th>\n",
       "      <th>first_letter_غ</th>\n",
       "      <th>first_letter_ف</th>\n",
       "      <th>first_letter_ق</th>\n",
       "      <th>first_letter_ك</th>\n",
       "      <th>first_letter_ل</th>\n",
       "      <th>first_letter_م</th>\n",
       "      <th>first_letter_ن</th>\n",
       "      <th>first_letter_ه</th>\n",
       "      <th>first_letter_و</th>\n",
       "      <th>first_letter_ي</th>\n",
       "    </tr>\n",
       "  </thead>\n",
       "  <tbody>\n",
       "    <tr>\n",
       "      <th>0</th>\n",
       "      <td>ابتسام</td>\n",
       "      <td>0</td>\n",
       "      <td>0</td>\n",
       "      <td>0</td>\n",
       "      <td>0</td>\n",
       "      <td>0</td>\n",
       "      <td>0</td>\n",
       "      <td>0</td>\n",
       "      <td>0</td>\n",
       "      <td>0</td>\n",
       "      <td>...</td>\n",
       "      <td>0</td>\n",
       "      <td>0</td>\n",
       "      <td>0</td>\n",
       "      <td>0</td>\n",
       "      <td>0</td>\n",
       "      <td>0</td>\n",
       "      <td>0</td>\n",
       "      <td>0</td>\n",
       "      <td>0</td>\n",
       "      <td>0</td>\n",
       "    </tr>\n",
       "    <tr>\n",
       "      <th>1</th>\n",
       "      <td>ابتهاج</td>\n",
       "      <td>0</td>\n",
       "      <td>0</td>\n",
       "      <td>0</td>\n",
       "      <td>0</td>\n",
       "      <td>0</td>\n",
       "      <td>0</td>\n",
       "      <td>0</td>\n",
       "      <td>0</td>\n",
       "      <td>0</td>\n",
       "      <td>...</td>\n",
       "      <td>0</td>\n",
       "      <td>0</td>\n",
       "      <td>0</td>\n",
       "      <td>0</td>\n",
       "      <td>0</td>\n",
       "      <td>0</td>\n",
       "      <td>0</td>\n",
       "      <td>0</td>\n",
       "      <td>0</td>\n",
       "      <td>0</td>\n",
       "    </tr>\n",
       "    <tr>\n",
       "      <th>2</th>\n",
       "      <td>ابتهال</td>\n",
       "      <td>0</td>\n",
       "      <td>0</td>\n",
       "      <td>0</td>\n",
       "      <td>0</td>\n",
       "      <td>0</td>\n",
       "      <td>0</td>\n",
       "      <td>0</td>\n",
       "      <td>0</td>\n",
       "      <td>0</td>\n",
       "      <td>...</td>\n",
       "      <td>0</td>\n",
       "      <td>0</td>\n",
       "      <td>0</td>\n",
       "      <td>0</td>\n",
       "      <td>0</td>\n",
       "      <td>0</td>\n",
       "      <td>0</td>\n",
       "      <td>0</td>\n",
       "      <td>0</td>\n",
       "      <td>0</td>\n",
       "    </tr>\n",
       "    <tr>\n",
       "      <th>3</th>\n",
       "      <td>اجتهاد</td>\n",
       "      <td>0</td>\n",
       "      <td>0</td>\n",
       "      <td>0</td>\n",
       "      <td>0</td>\n",
       "      <td>0</td>\n",
       "      <td>0</td>\n",
       "      <td>0</td>\n",
       "      <td>0</td>\n",
       "      <td>0</td>\n",
       "      <td>...</td>\n",
       "      <td>0</td>\n",
       "      <td>0</td>\n",
       "      <td>0</td>\n",
       "      <td>0</td>\n",
       "      <td>0</td>\n",
       "      <td>0</td>\n",
       "      <td>0</td>\n",
       "      <td>0</td>\n",
       "      <td>0</td>\n",
       "      <td>0</td>\n",
       "    </tr>\n",
       "    <tr>\n",
       "      <th>4</th>\n",
       "      <td>ازدهار</td>\n",
       "      <td>0</td>\n",
       "      <td>0</td>\n",
       "      <td>0</td>\n",
       "      <td>0</td>\n",
       "      <td>0</td>\n",
       "      <td>0</td>\n",
       "      <td>0</td>\n",
       "      <td>0</td>\n",
       "      <td>0</td>\n",
       "      <td>...</td>\n",
       "      <td>0</td>\n",
       "      <td>0</td>\n",
       "      <td>0</td>\n",
       "      <td>0</td>\n",
       "      <td>0</td>\n",
       "      <td>0</td>\n",
       "      <td>0</td>\n",
       "      <td>0</td>\n",
       "      <td>0</td>\n",
       "      <td>0</td>\n",
       "    </tr>\n",
       "  </tbody>\n",
       "</table>\n",
       "<p>5 rows × 69 columns</p>\n",
       "</div>"
      ],
      "text/plain": [
       "     name  sex  last_letter_ء  last_letter_أ  last_letter_ؤ  last_letter_ئ  \\\n",
       "0  ابتسام    0              0              0              0              0   \n",
       "1  ابتهاج    0              0              0              0              0   \n",
       "2  ابتهال    0              0              0              0              0   \n",
       "3  اجتهاد    0              0              0              0              0   \n",
       "4  ازدهار    0              0              0              0              0   \n",
       "\n",
       "   last_letter_ا  last_letter_ب  last_letter_ة  last_letter_ت  ...  \\\n",
       "0              0              0              0              0  ...   \n",
       "1              0              0              0              0  ...   \n",
       "2              0              0              0              0  ...   \n",
       "3              0              0              0              0  ...   \n",
       "4              0              0              0              0  ...   \n",
       "\n",
       "   first_letter_غ  first_letter_ف  first_letter_ق  first_letter_ك  \\\n",
       "0               0               0               0               0   \n",
       "1               0               0               0               0   \n",
       "2               0               0               0               0   \n",
       "3               0               0               0               0   \n",
       "4               0               0               0               0   \n",
       "\n",
       "   first_letter_ل  first_letter_م  first_letter_ن  first_letter_ه  \\\n",
       "0               0               0               0               0   \n",
       "1               0               0               0               0   \n",
       "2               0               0               0               0   \n",
       "3               0               0               0               0   \n",
       "4               0               0               0               0   \n",
       "\n",
       "   first_letter_و  first_letter_ي  \n",
       "0               0               0  \n",
       "1               0               0  \n",
       "2               0               0  \n",
       "3               0               0  \n",
       "4               0               0  \n",
       "\n",
       "[5 rows x 69 columns]"
      ]
     },
     "execution_count": 247,
     "metadata": {},
     "output_type": "execute_result"
    }
   ],
   "source": [
    "# Load Data\n",
    "df = pd.read_pickle('data/dataset_after_preporcessing.pkl')\n",
    "df.head()"
   ]
  },
  {
   "cell_type": "code",
   "execution_count": 248,
   "metadata": {},
   "outputs": [],
   "source": [
    "max_name_length = max(df['name'].apply(len))\n",
    "unique_chars = set(''.join(df['name']))  \n",
    "vocab_size = len(unique_chars) + 1  \n",
    "\n",
    "# Tokenizing and padding the 'name' column for LSTM input\n",
    "tokenizer = Tokenizer(num_words=vocab_size, char_level=True)  # char_level=True for character tokenization\n",
    "tokenizer.fit_on_texts(df['name'])\n",
    "sequences = tokenizer.texts_to_sequences(df['name'])\n",
    "padded_sequences = pad_sequences(sequences, maxlen=max_name_length)"
   ]
  },
  {
   "cell_type": "code",
   "execution_count": 249,
   "metadata": {},
   "outputs": [],
   "source": [
    "# Preparing additional features\n",
    "additional_features = df.iloc[:,2:].values\n",
    "additional_features = additional_features.astype('float32')"
   ]
  },
  {
   "cell_type": "code",
   "execution_count": 250,
   "metadata": {},
   "outputs": [],
   "source": [
    "X = np.hstack((padded_sequences, additional_features))\n",
    "y = df.sex"
   ]
  },
  {
   "cell_type": "code",
   "execution_count": 251,
   "metadata": {},
   "outputs": [
    {
     "data": {
      "text/plain": [
       "((8653, 84), (8653,))"
      ]
     },
     "execution_count": 251,
     "metadata": {},
     "output_type": "execute_result"
    }
   ],
   "source": [
    "X.shape,y.shape"
   ]
  },
  {
   "cell_type": "code",
   "execution_count": 252,
   "metadata": {},
   "outputs": [
    {
     "name": "stdout",
     "output_type": "stream",
     "text": [
      "Training set shape: (6922, 84), (6922,)\n",
      "Validation set shape: (865, 84), (865,)\n",
      "Test set shape: (866, 84), (866,)\n"
     ]
    }
   ],
   "source": [
    "# Define the size for the test and validation sets as percentages\n",
    "test_size_percentage = 0.1\n",
    "validation_size_percentage = 0.1\n",
    "\n",
    "# Calculate the actual sizes for the test and validation sets\n",
    "total_size = test_size_percentage + validation_size_percentage\n",
    "test_size_actual = test_size_percentage / total_size\n",
    "validation_size_actual = validation_size_percentage / total_size\n",
    "\n",
    "# Calculate the training size percentage\n",
    "train_size_percentage = 1 - total_size\n",
    "\n",
    "# First split: Separate out the training data and the remaining data\n",
    "X_train, X_remaining, y_train, y_remaining = train_test_split(X, y, test_size=total_size, random_state=11)\n",
    "\n",
    "# Second split: Separate the remaining data into validation and test sets\n",
    "X_val, X_test, y_val, y_test = train_test_split(X_remaining, y_remaining, test_size=test_size_actual, random_state=11)\n",
    "\n",
    "# Print the shapes of the training, validation, and test sets\n",
    "print(f\"Training set shape: {X_train.shape}, {y_train.shape}\")\n",
    "print(f\"Validation set shape: {X_val.shape}, {y_val.shape}\")\n",
    "print(f\"Test set shape: {X_test.shape}, {y_test.shape}\")"
   ]
  },
  {
   "cell_type": "code",
   "execution_count": 253,
   "metadata": {},
   "outputs": [],
   "source": [
    "# Model parameters\n",
    "embedding_dim = 256\n",
    "lstm_units = 64\n",
    "max_name_length = 17  # Adjust based on your data\n",
    "total_features_shape = X.shape[1]  # Total features after combining name embeddings and additional features\n",
    "l2_lambda = 0.000\n",
    "dropout_rate = 0.0\n",
    "\n",
    "batch_size = 32\n",
    "epochs = 20"
   ]
  },
  {
   "cell_type": "code",
   "execution_count": 254,
   "metadata": {},
   "outputs": [
    {
     "name": "stdout",
     "output_type": "stream",
     "text": [
      "Model: \"sequential_21\"\n",
      "_________________________________________________________________\n",
      " Layer (type)                Output Shape              Param #   \n",
      "=================================================================\n",
      " embedding_21 (Embedding)    (None, 84, 256)           9472      \n",
      "                                                                 \n",
      " bidirectional_44 (Bidirecti  (None, 84, 128)          164352    \n",
      " onal)                                                           \n",
      "                                                                 \n",
      " dropout_21 (Dropout)        (None, 84, 128)           0         \n",
      "                                                                 \n",
      " bidirectional_45 (Bidirecti  (None, 64)               41216     \n",
      " onal)                                                           \n",
      "                                                                 \n",
      " dense_24 (Dense)            (None, 1)                 65        \n",
      "                                                                 \n",
      "=================================================================\n",
      "Total params: 215,105\n",
      "Trainable params: 215,105\n",
      "Non-trainable params: 0\n",
      "_________________________________________________________________\n"
     ]
    }
   ],
   "source": [
    "early_stopping = EarlyStopping(monitor='val_loss', patience=5)\n",
    "\n",
    "# Define the BiLSTM model adjusted for character-level input\n",
    "model = Sequential()\n",
    "\n",
    "model.add(Embedding(input_dim=len(tokenizer.word_index) + 1, output_dim=embedding_dim, input_length=total_features_shape))\n",
    "\n",
    "model.add(Bidirectional(LSTM(lstm_units, return_sequences=True)))\n",
    "\n",
    "model.add(Dropout(dropout_rate))\n",
    "\n",
    "model.add(Bidirectional(LSTM(lstm_units//2, kernel_regularizer=l2(l2_lambda))))\n",
    "\n",
    "model.add(Dense(1, activation='sigmoid'))\n",
    "\n",
    "# Compile the model\n",
    "model.compile(loss='binary_crossentropy', optimizer='adam', metrics=['accuracy'])\n",
    "\n",
    "model.summary()"
   ]
  },
  {
   "cell_type": "code",
   "execution_count": 255,
   "metadata": {},
   "outputs": [
    {
     "data": {
      "text/plain": [
       "<Experiment: artifact_location='mlflow-artifacts:/237850698007442871', creation_time=1704716553191, experiment_id='237850698007442871', last_update_time=1704716553191, lifecycle_stage='active', name='Gender Prediction Models Tracking', tags={}>"
      ]
     },
     "execution_count": 255,
     "metadata": {},
     "output_type": "execute_result"
    }
   ],
   "source": [
    "mlflow.set_tracking_uri(\"http://127.0.0.1:5000\")\n",
    "mlflow.set_experiment(\"Gender Prediction Models Tracking\")"
   ]
  },
  {
   "cell_type": "code",
   "execution_count": 256,
   "metadata": {},
   "outputs": [
    {
     "name": "stdout",
     "output_type": "stream",
     "text": [
      "Epoch 1/20\n",
      "217/217 [==============================] - 32s 128ms/step - loss: 0.4841 - accuracy: 0.7834 - val_loss: 0.3861 - val_accuracy: 0.8358\n",
      "Epoch 2/20\n",
      "217/217 [==============================] - 27s 126ms/step - loss: 0.4043 - accuracy: 0.8242 - val_loss: 0.3708 - val_accuracy: 0.8393\n",
      "Epoch 3/20\n",
      "217/217 [==============================] - 28s 128ms/step - loss: 0.3951 - accuracy: 0.8294 - val_loss: 0.3738 - val_accuracy: 0.8416\n",
      "Epoch 4/20\n",
      "217/217 [==============================] - 30s 140ms/step - loss: 0.3834 - accuracy: 0.8360 - val_loss: 0.3583 - val_accuracy: 0.8497\n",
      "Epoch 5/20\n",
      "217/217 [==============================] - 29s 132ms/step - loss: 0.3768 - accuracy: 0.8375 - val_loss: 0.3617 - val_accuracy: 0.8439\n",
      "Epoch 6/20\n",
      "217/217 [==============================] - 29s 131ms/step - loss: 0.3715 - accuracy: 0.8415 - val_loss: 0.3546 - val_accuracy: 0.8486\n",
      "Epoch 7/20\n",
      "217/217 [==============================] - 31s 141ms/step - loss: 0.3665 - accuracy: 0.8438 - val_loss: 0.3646 - val_accuracy: 0.8439\n",
      "Epoch 8/20\n",
      "217/217 [==============================] - 29s 133ms/step - loss: 0.3618 - accuracy: 0.8463 - val_loss: 0.3499 - val_accuracy: 0.8486\n",
      "Epoch 9/20\n",
      "217/217 [==============================] - 29s 136ms/step - loss: 0.3547 - accuracy: 0.8485 - val_loss: 0.3398 - val_accuracy: 0.8555\n",
      "Epoch 10/20\n",
      "217/217 [==============================] - 30s 140ms/step - loss: 0.3474 - accuracy: 0.8544 - val_loss: 0.3515 - val_accuracy: 0.8520\n",
      "Epoch 11/20\n",
      "217/217 [==============================] - 32s 146ms/step - loss: 0.3453 - accuracy: 0.8538 - val_loss: 0.3510 - val_accuracy: 0.8601\n",
      "Epoch 12/20\n",
      "217/217 [==============================] - 32s 147ms/step - loss: 0.3415 - accuracy: 0.8577 - val_loss: 0.3368 - val_accuracy: 0.8578\n",
      "Epoch 13/20\n",
      "217/217 [==============================] - 29s 132ms/step - loss: 0.3333 - accuracy: 0.8583 - val_loss: 0.3367 - val_accuracy: 0.8613\n",
      "Epoch 14/20\n",
      "217/217 [==============================] - 30s 137ms/step - loss: 0.3255 - accuracy: 0.8620 - val_loss: 0.3386 - val_accuracy: 0.8532\n",
      "Epoch 15/20\n",
      "217/217 [==============================] - 29s 133ms/step - loss: 0.3158 - accuracy: 0.8681 - val_loss: 0.3349 - val_accuracy: 0.8705\n",
      "Epoch 16/20\n",
      "217/217 [==============================] - 28s 129ms/step - loss: 0.3059 - accuracy: 0.8694 - val_loss: 0.3335 - val_accuracy: 0.8613\n",
      "Epoch 17/20\n",
      "217/217 [==============================] - 30s 137ms/step - loss: 0.2989 - accuracy: 0.8727 - val_loss: 0.3476 - val_accuracy: 0.8613\n",
      "Epoch 18/20\n",
      "217/217 [==============================] - 30s 139ms/step - loss: 0.2851 - accuracy: 0.8759 - val_loss: 0.3296 - val_accuracy: 0.8566\n",
      "Epoch 19/20\n",
      "217/217 [==============================] - 31s 142ms/step - loss: 0.2732 - accuracy: 0.8837 - val_loss: 0.3310 - val_accuracy: 0.8520\n",
      "Epoch 20/20\n",
      "217/217 [==============================] - 31s 143ms/step - loss: 0.2646 - accuracy: 0.8837 - val_loss: 0.3123 - val_accuracy: 0.8705\n",
      "28/28 [==============================] - 1s 52ms/step - loss: 0.3285 - accuracy: 0.8533\n",
      "28/28 [==============================] - 3s 44ms/step\n"
     ]
    },
    {
     "name": "stderr",
     "output_type": "stream",
     "text": [
      "WARNING:absl:Found untraced functions such as lstm_cell_134_layer_call_fn, lstm_cell_134_layer_call_and_return_conditional_losses, lstm_cell_135_layer_call_fn, lstm_cell_135_layer_call_and_return_conditional_losses, lstm_cell_137_layer_call_fn while saving (showing 5 of 8). These functions will not be directly callable after loading.\n"
     ]
    },
    {
     "name": "stdout",
     "output_type": "stream",
     "text": [
      "INFO:tensorflow:Assets written to: C:\\Users\\FARISA~1\\AppData\\Local\\Temp\\tmp3xl0fmfi\\model\\data\\model\\assets\n"
     ]
    },
    {
     "name": "stderr",
     "output_type": "stream",
     "text": [
      "INFO:tensorflow:Assets written to: C:\\Users\\FARISA~1\\AppData\\Local\\Temp\\tmp3xl0fmfi\\model\\data\\model\\assets\n",
      "2024/01/15 15:30:04 WARNING mlflow.utils.environment: Encountered an unexpected error while inferring pip requirements (model URI: C:\\Users\\FARISA~1\\AppData\\Local\\Temp\\tmp3xl0fmfi\\model, flavor: tensorflow), fall back to return ['tensorflow==2.9.0']. Set logging level to DEBUG to see the full traceback.\n"
     ]
    },
    {
     "name": "stdout",
     "output_type": "stream",
     "text": [
      "\n",
      "-----------------------------------------------------------\n",
      "Validation Accuracy: 0.853\n",
      "F1 Score: 0.902\n",
      "Precision: 0.885\n",
      "Recall: 0.92\n",
      "ROC AUC: 0.915\n",
      "-----------------------------------------------------------\n"
     ]
    }
   ],
   "source": [
    "# MLflow tracking\n",
    "with mlflow.start_run():\n",
    "    # Log model parameters\n",
    "    mlflow.log_params({\n",
    "        \"embedding_dim\": embedding_dim,\n",
    "        \"lstm_units\": lstm_units,\n",
    "        \"max_name_length\": max_name_length,\n",
    "        \"vocab_size\": vocab_size,\n",
    "        \"epochs\": epochs,\n",
    "        \"batch_size\": batch_size,\n",
    "        \"l2_reg\": l2_lambda,\n",
    "        \"dropout_rate\": dropout_rate,\n",
    "        \"train_size_percentage\": train_size_percentage,\n",
    "        \"test_size_percentage\": test_size_percentage,\n",
    "        \"validation_size_percentage\": validation_size_percentage,\n",
    "    })\n",
    "\n",
    "    # Train the model\n",
    "    history = model.fit(X_train, y_train, validation_data=(X_val, y_val), epochs=epochs, batch_size=batch_size, callbacks=[early_stopping])\n",
    "\n",
    "    # Log training history\n",
    "    for epoch in range(len(history.history['accuracy'])):\n",
    "        mlflow.log_metric(\"train_accuracy\", history.history['accuracy'][epoch], step=epoch)\n",
    "        mlflow.log_metric(\"val_accuracy\", history.history['val_accuracy'][epoch], step=epoch)\n",
    "\n",
    "    # Evaluate the model\n",
    "    loss, accuracy = model.evaluate(X_test, y_test)\n",
    "    mlflow.log_metrics({\"val_loss\": loss, \"val_accuracy\": accuracy})\n",
    "\n",
    "    # Predictions and additional metrics\n",
    "    y_pred = model.predict(X_test)\n",
    "    y_pred_classes = np.where(y_pred > 0.5, 1, 0).reshape(-1)\n",
    "    f1 = f1_score(y_test, y_pred_classes)\n",
    "    precision = precision_score(y_test, y_pred_classes)\n",
    "    recall = recall_score(y_test, y_pred_classes)\n",
    "    roc_auc = roc_auc_score(y_test, y_pred)\n",
    "\n",
    "    # Log additional metrics\n",
    "    mlflow.log_metrics({\"val_f1_score\": f1, \"val_precision\": precision, \"val_recall\": recall, \"val_roc_auc\": roc_auc})\n",
    "\n",
    "    # Log model architecture\n",
    "    model_architecture_str = []\n",
    "\n",
    "    # Define a function to append each line of the model summary to the list\n",
    "    def append_model_summary(line):\n",
    "        model_architecture_str.append(line)\n",
    "\n",
    "    # Generate model summary\n",
    "    model.summary(print_fn=append_model_summary)\n",
    "\n",
    "    # Convert list to string\n",
    "    model_architecture_str = '\\n'.join(model_architecture_str)\n",
    "\n",
    "    # Infer the signature using the combined data and predictions\n",
    "    signature = infer_signature(X, y_pred)\n",
    "\n",
    "    mlflow.keras.log_model(model, \"model\", signature=signature)\n",
    "\n",
    "    # Set additional tags\n",
    "    mlflow.set_tags({\n",
    "        \"Description\": \"Character-Level BiLSTM with One-Hot Encoded Features\",\n",
    "        \"Encoding\": \"One-Hot Encoding for Categorical Features\",\n",
    "        \"Features\": ', '.join(df.columns.tolist()),\n",
    "        'Number of Features':len(df.columns.tolist()),\n",
    "        \"Model Type\": \"BiLSTM\",\n",
    "        \"model_architecture\": model_architecture_str\n",
    "    })\n",
    "\n",
    "print()\n",
    "print('-----------------------------------------------------------')\n",
    "print(f\"Validation Accuracy: {round(accuracy, 3)}\")\n",
    "print(f\"F1 Score: {round(f1, 3)}\")\n",
    "print(f\"Precision: {round(precision, 3)}\")\n",
    "print(f\"Recall: {round(recall, 3)}\")\n",
    "print(f\"ROC AUC: {round(roc_auc, 3)}\")\n",
    "print('-----------------------------------------------------------')\n",
    "# End MLflow run"
   ]
  },
  {
   "cell_type": "code",
   "execution_count": 257,
   "metadata": {},
   "outputs": [
    {
     "data": {
      "image/png": "[encoded data removed]",
      "text/plain": [
       "<Figure size 1200x500 with 1 Axes>"
      ]
     },
     "metadata": {},
     "output_type": "display_data"
    }
   ],
   "source": [
    "# Apply the seaborn style to make plots nicer\n",
    "sns.set(style=\"whitegrid\")\n",
    "\n",
    "# Create the figure with a specific size\n",
    "plt.figure(figsize=(12, 5))\n",
    "\n",
    "# Accuracy plot\n",
    "plt.subplot(1, 1, 1)\n",
    "plt.plot(history.history['accuracy'], label='Train Accuracy', linewidth=2, marker='o', markersize=5)\n",
    "plt.plot(history.history['val_accuracy'], label='Validation Accuracy', linewidth=2, marker='s', markersize=5)\n",
    "\n",
    "# Title and labels\n",
    "plt.title('Model Accuracy Over Epochs', fontsize=16)\n",
    "plt.ylabel('Accuracy', fontsize=14)\n",
    "plt.xlabel('Epoch', fontsize=14)\n",
    "\n",
    "# Legend\n",
    "plt.legend(loc='upper left', fontsize=12)\n",
    "\n",
    "# Set limits and ticks for readability\n",
    "plt.xlim(0, len(history.history['accuracy']) - 1)\n",
    "plt.ylim(0.7, max(max(history.history['accuracy']), max(history.history['val_accuracy'])) + 0.05)\n",
    "plt.xticks(fontsize=12)\n",
    "plt.yticks(fontsize=12);"
   ]
  },
  {
   "cell_type": "code",
   "execution_count": 259,
   "metadata": {},
   "outputs": [
    {
     "data": {
      "text/plain": [
       "Text(92.25, 0.5, 'True Label')"
      ]
     },
     "execution_count": 259,
     "metadata": {},
     "output_type": "execute_result"
    },
    {
     "data": {
      "image/png": "[encoded data removed]",
      "text/plain": [
       "<Figure size 1000x700 with 1 Axes>"
      ]
     },
     "metadata": {},
     "output_type": "display_data"
    }
   ],
   "source": [
    "# Confusion matrix calculation\n",
    "cm = confusion_matrix(y_test, y_pred_classes)\n",
    "\n",
    "# Plotting the confusion matrix\n",
    "plt.figure(figsize=(10, 7))\n",
    "sns.heatmap(cm, annot=True, fmt='d', cmap='Blues', cbar=False)\n",
    "plt.title('Confusion Matrix')\n",
    "plt.xlabel('Predicted Label')\n",
    "plt.ylabel('True Label')"
   ]
  },
  {
   "cell_type": "code",
   "execution_count": 258,
   "metadata": {},
   "outputs": [],
   "source": [
    "# model.save(\"BiLSTM-87_val_acc-91_f_sc.h5\")"
   ]
  },
  {
   "cell_type": "code",
   "execution_count": null,
   "metadata": {},
   "outputs": [],
   "source": []
  }
 ],
 "metadata": {
  "kernelspec": {
   "display_name": "ds",
   "language": "python",
   "name": "python3"
  },
  "language_info": {
   "codemirror_mode": {
    "name": "ipython",
    "version": 3
   },
   "file_extension": ".py",
   "mimetype": "text/x-python",
   "name": "python",
   "nbconvert_exporter": "python",
   "pygments_lexer": "ipython3",
   "version": "3.8.18"
  }
 },
 "nbformat": 4,
 "nbformat_minor": 2
}
