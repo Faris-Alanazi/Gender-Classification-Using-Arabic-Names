{
 "cells": [
  {
   "cell_type": "code",
   "execution_count": 97,
   "metadata": {},
   "outputs": [],
   "source": [
    "# python=3.8\n",
    "# conda env name : gender_pred_env"
   ]
  },
  {
   "cell_type": "markdown",
   "metadata": {},
   "source": [
    "# Packges"
   ]
  },
  {
   "cell_type": "code",
   "execution_count": 137,
   "metadata": {},
   "outputs": [],
   "source": [
    "import joblib\n",
    "import numpy as np\n",
    "import pandas as pd\n",
    "import warnings\n",
    "import mlflow\n",
    "import mlflow.keras\n",
    "from mlflow.models.signature import infer_signature\n",
    "from keras.callbacks import EarlyStopping\n",
    "from tensorflow.keras.models import Sequential, Model\n",
    "from tensorflow.keras.layers import Embedding, LSTM, Dense, Dropout, Bidirectional, Input, Flatten, concatenate\n",
    "from tensorflow.keras.preprocessing.text import Tokenizer\n",
    "from tensorflow.keras.preprocessing.sequence import pad_sequences\n",
    "from tensorflow.keras.regularizers import l2\n",
    "from tensorflow.keras.utils import to_categorical\n",
    "from sklearn.preprocessing import MinMaxScaler\n",
    "from sklearn.model_selection import train_test_split\n",
    "from sklearn.metrics import accuracy_score, f1_score, confusion_matrix, precision_score, recall_score, roc_auc_score\n",
    "import matplotlib.pyplot as plt\n",
    "import seaborn as sns\n",
    "\n",
    "# Adjusting warnings\n",
    "warnings.filterwarnings('ignore')"
   ]
  },
  {
   "cell_type": "code",
   "execution_count": 105,
   "metadata": {},
   "outputs": [
    {
     "data": {
      "text/html": [
       "<div>\n",
       "<style scoped>\n",
       "    .dataframe tbody tr th:only-of-type {\n",
       "        vertical-align: middle;\n",
       "    }\n",
       "\n",
       "    .dataframe tbody tr th {\n",
       "        vertical-align: top;\n",
       "    }\n",
       "\n",
       "    .dataframe thead th {\n",
       "        text-align: right;\n",
       "    }\n",
       "</style>\n",
       "<table border=\"1\" class=\"dataframe\">\n",
       "  <thead>\n",
       "    <tr style=\"text-align: right;\">\n",
       "      <th></th>\n",
       "      <th>name</th>\n",
       "      <th>sex</th>\n",
       "      <th>name_length</th>\n",
       "      <th>last_letter</th>\n",
       "      <th>last_two_letters</th>\n",
       "      <th>first_letter</th>\n",
       "      <th>first_two_letters</th>\n",
       "    </tr>\n",
       "  </thead>\n",
       "  <tbody>\n",
       "    <tr>\n",
       "      <th>0</th>\n",
       "      <td>ابتسام</td>\n",
       "      <td>0</td>\n",
       "      <td>6</td>\n",
       "      <td>م</td>\n",
       "      <td>ام</td>\n",
       "      <td>ا</td>\n",
       "      <td>اب</td>\n",
       "    </tr>\n",
       "    <tr>\n",
       "      <th>1</th>\n",
       "      <td>ابتهاج</td>\n",
       "      <td>0</td>\n",
       "      <td>6</td>\n",
       "      <td>ج</td>\n",
       "      <td>اج</td>\n",
       "      <td>ا</td>\n",
       "      <td>اب</td>\n",
       "    </tr>\n",
       "    <tr>\n",
       "      <th>2</th>\n",
       "      <td>ابتهال</td>\n",
       "      <td>0</td>\n",
       "      <td>6</td>\n",
       "      <td>ل</td>\n",
       "      <td>ال</td>\n",
       "      <td>ا</td>\n",
       "      <td>اب</td>\n",
       "    </tr>\n",
       "    <tr>\n",
       "      <th>3</th>\n",
       "      <td>اجتهاد</td>\n",
       "      <td>0</td>\n",
       "      <td>6</td>\n",
       "      <td>د</td>\n",
       "      <td>اد</td>\n",
       "      <td>ا</td>\n",
       "      <td>اج</td>\n",
       "    </tr>\n",
       "    <tr>\n",
       "      <th>4</th>\n",
       "      <td>ازدهار</td>\n",
       "      <td>0</td>\n",
       "      <td>6</td>\n",
       "      <td>ر</td>\n",
       "      <td>ار</td>\n",
       "      <td>ا</td>\n",
       "      <td>از</td>\n",
       "    </tr>\n",
       "  </tbody>\n",
       "</table>\n",
       "</div>"
      ],
      "text/plain": [
       "     name  sex  name_length last_letter last_two_letters first_letter  \\\n",
       "0  ابتسام    0            6           م               ام            ا   \n",
       "1  ابتهاج    0            6           ج               اج            ا   \n",
       "2  ابتهال    0            6           ل               ال            ا   \n",
       "3  اجتهاد    0            6           د               اد            ا   \n",
       "4  ازدهار    0            6           ر               ار            ا   \n",
       "\n",
       "  first_two_letters  \n",
       "0                اب  \n",
       "1                اب  \n",
       "2                اب  \n",
       "3                اج  \n",
       "4                از  "
      ]
     },
     "execution_count": 105,
     "metadata": {},
     "output_type": "execute_result"
    }
   ],
   "source": [
    "# Load Data\n",
    "df = pd.read_pickle('data/dataset_after_preporcessing.pkl')\n",
    "df.head()"
   ]
  },
  {
   "cell_type": "code",
   "execution_count": 106,
   "metadata": {},
   "outputs": [],
   "source": [
    "max_name_length = max(df['name'].apply(len))\n",
    "unique_chars = set(''.join(df['name']))  \n",
    "vocab_size = len(unique_chars) + 1  \n",
    "\n",
    "# Tokenizing and padding the 'name' column for LSTM input\n",
    "tokenizer = Tokenizer(num_words=vocab_size, char_level=True)  # char_level=True for character tokenization\n",
    "tokenizer.fit_on_texts(df['name'])\n",
    "sequences = tokenizer.texts_to_sequences(df['name'])\n",
    "padded_sequences = pad_sequences(sequences, maxlen=max_name_length)"
   ]
  },
  {
   "cell_type": "code",
   "execution_count": 127,
   "metadata": {},
   "outputs": [],
   "source": [
    "first_letter = df['name'].apply(lambda x: x[0])\n",
    "last_letter = df['name'].apply(lambda x: x[-1])\n",
    "\n",
    "first_letter_encoded = np.array([ord(char) for char in first_letter])\n",
    "last_letter_encoded = np.array([ord(char) for char in last_letter])\n",
    "\n",
    "max_unicode_value_first = np.max(first_letter_encoded)\n",
    "max_unicode_value_last = np.max(last_letter_encoded)\n",
    "max_unicode_value = max(max_unicode_value_first, max_unicode_value_last)"
   ]
  },
  {
   "cell_type": "code",
   "execution_count": 129,
   "metadata": {},
   "outputs": [],
   "source": [
    "scaler = MinMaxScaler()\n",
    "\n",
    "first_letter_encoded_scaled = scaler.fit_transform(first_letter_encoded.reshape(-1, 1))\n",
    "last_letter_encoded_scaled = scaler.fit_transform(last_letter_encoded.reshape(-1, 1))\n",
    "\n",
    "\n",
    "scaler_first = scaler.fit(first_letter_encoded.reshape(-1, 1))\n",
    "scaler_last = scaler.fit(last_letter_encoded.reshape(-1, 1))\n",
    "\n",
    "# Save the scaler models to disk\n",
    "joblib.dump(scaler_first, 'data/scaler_first.pkl')\n",
    "joblib.dump(scaler_last, 'data/scaler_last.pkl');"
   ]
  },
  {
   "cell_type": "code",
   "execution_count": 130,
   "metadata": {},
   "outputs": [],
   "source": [
    "# # # Preparing additional features\n",
    "# # additional_features = df.iloc[:,2:].values\n",
    "# # additional_features = additional_features.astype('float32')\n",
    "# X = np.hstack((padded_sequences, [first_letter_encoded_scaled,last_letter_encoded_scaled]))\n",
    "# y = df.sex"
   ]
  },
  {
   "cell_type": "code",
   "execution_count": 74,
   "metadata": {},
   "outputs": [],
   "source": [
    "X = padded_sequences.copy()\n",
    "y = df.sex"
   ]
  },
  {
   "cell_type": "code",
   "execution_count": 75,
   "metadata": {},
   "outputs": [
    {
     "data": {
      "text/plain": [
       "(array([ 0,  0,  0,  0,  0,  0,  0,  0,  0,  0,  0,  0,  0, 28, 11,  2,  3]),\n",
       " 'أسيل')"
      ]
     },
     "execution_count": 75,
     "metadata": {},
     "output_type": "execute_result"
    }
   ],
   "source": [
    "padded_sequences[43] , df['name'][43]"
   ]
  },
  {
   "cell_type": "code",
   "execution_count": 76,
   "metadata": {},
   "outputs": [
    {
     "data": {
      "text/plain": [
       "((8653, 17), (8653,))"
      ]
     },
     "execution_count": 76,
     "metadata": {},
     "output_type": "execute_result"
    }
   ],
   "source": [
    "X.shape,y.shape"
   ]
  },
  {
   "cell_type": "code",
   "execution_count": 77,
   "metadata": {},
   "outputs": [
    {
     "name": "stdout",
     "output_type": "stream",
     "text": [
      "Training set shape: (6922, 17), (6922,)\n",
      "Validation set shape: (865, 17), (865,)\n",
      "Test set shape: (866, 17), (866,)\n"
     ]
    }
   ],
   "source": [
    "# Define the size for the test and validation sets as percentages\n",
    "test_size_percentage = 0.1\n",
    "validation_size_percentage = 0.1\n",
    "\n",
    "# Calculate the actual sizes for the test and validation sets\n",
    "total_size = test_size_percentage + validation_size_percentage\n",
    "test_size_actual = test_size_percentage / total_size\n",
    "validation_size_actual = validation_size_percentage / total_size\n",
    "\n",
    "# Calculate the training size percentage\n",
    "train_size_percentage = 1 - total_size\n",
    "\n",
    "# First split: Separate out the training data and the remaining data\n",
    "X_train, X_remaining, y_train, y_remaining = train_test_split(X, y, test_size=total_size, random_state=11)\n",
    "\n",
    "# Second split: Separate the remaining data into validation and test sets\n",
    "X_val, X_test, y_val, y_test = train_test_split(X_remaining, y_remaining, test_size=test_size_actual, random_state=11)\n",
    "\n",
    "# Print the shapes of the training, validation, and test sets\n",
    "print(f\"Training set shape: {X_train.shape}, {y_train.shape}\")\n",
    "print(f\"Validation set shape: {X_val.shape}, {y_val.shape}\")\n",
    "print(f\"Test set shape: {X_test.shape}, {y_test.shape}\")"
   ]
  },
  {
   "cell_type": "code",
   "execution_count": 132,
   "metadata": {},
   "outputs": [],
   "source": [
    "# max name length is 17\n",
    "\n",
    "# Model parameters\n",
    "embedding_dim = 512\n",
    "letter_embedding_dim = 128\n",
    "\n",
    "lstm_units = 64\n",
    "\n",
    "total_features_shape = X.shape[1]  \n",
    "l2_lambda = 0.001\n",
    "dropout_rate = 0.2\n",
    "\n",
    "batch_size = 32\n",
    "epochs = 100"
   ]
  },
  {
   "cell_type": "code",
   "execution_count": 138,
   "metadata": {},
   "outputs": [
    {
     "name": "stdout",
     "output_type": "stream",
     "text": [
      "Model: \"model\"\n",
      "__________________________________________________________________________________________________\n",
      " Layer (type)                   Output Shape         Param #     Connected to                     \n",
      "==================================================================================================\n",
      " name_input (InputLayer)        [(None, 17)]         0           []                               \n",
      "                                                                                                  \n",
      " embedding_19 (Embedding)       (None, 17, 512)      18944       ['name_input[0][0]']             \n",
      "                                                                                                  \n",
      " bidirectional_31 (Bidirectiona  (None, 17, 128)     295424      ['embedding_19[0][0]']           \n",
      " l)                                                                                               \n",
      "                                                                                                  \n",
      " dropout_24 (Dropout)           (None, 17, 128)      0           ['bidirectional_31[0][0]']       \n",
      "                                                                                                  \n",
      " bidirectional_32 (Bidirectiona  (None, 17, 64)      41216       ['dropout_24[0][0]']             \n",
      " l)                                                                                               \n",
      "                                                                                                  \n",
      " first_letter_input (InputLayer  [(None, 1)]         0           []                               \n",
      " )                                                                                                \n",
      "                                                                                                  \n",
      " last_letter_input (InputLayer)  [(None, 1)]         0           []                               \n",
      "                                                                                                  \n",
      " dropout_25 (Dropout)           (None, 17, 64)       0           ['bidirectional_32[0][0]']       \n",
      "                                                                                                  \n",
      " embedding_20 (Embedding)       (None, 1, 128)       206208      ['first_letter_input[0][0]']     \n",
      "                                                                                                  \n",
      " embedding_21 (Embedding)       (None, 1, 128)       206208      ['last_letter_input[0][0]']      \n",
      "                                                                                                  \n",
      " lstm_42 (LSTM)                 (None, 16)           5184        ['dropout_25[0][0]']             \n",
      "                                                                                                  \n",
      " flatten_4 (Flatten)            (None, 128)          0           ['embedding_20[0][0]']           \n",
      "                                                                                                  \n",
      " flatten_5 (Flatten)            (None, 128)          0           ['embedding_21[0][0]']           \n",
      "                                                                                                  \n",
      " concatenate_1 (Concatenate)    (None, 272)          0           ['lstm_42[0][0]',                \n",
      "                                                                  'flatten_4[0][0]',              \n",
      "                                                                  'flatten_5[0][0]']              \n",
      "                                                                                                  \n",
      " dense_9 (Dense)                (None, 1)            273         ['concatenate_1[0][0]']          \n",
      "                                                                                                  \n",
      "==================================================================================================\n",
      "Total params: 773,457\n",
      "Trainable params: 773,457\n",
      "Non-trainable params: 0\n",
      "__________________________________________________________________________________________________\n"
     ]
    }
   ],
   "source": [
    "# Name input and embedding\n",
    "name_input = Input(shape=(total_features_shape,), dtype='int32', name='name_input')\n",
    "name_embedding = Embedding(input_dim=vocab_size, output_dim=embedding_dim, input_length=total_features_shape)(name_input)\n",
    "\n",
    "# BiLSTM layers\n",
    "bi_lstm_1 = Bidirectional(LSTM(lstm_units, return_sequences=True))(name_embedding)\n",
    "bi_lstm_1 = Dropout(dropout_rate)(bi_lstm_1)\n",
    "bi_lstm_2 = Bidirectional(LSTM(lstm_units//2, kernel_regularizer=l2(l2_lambda), return_sequences=True))(bi_lstm_1)\n",
    "bi_lstm_2 = Dropout(dropout_rate)(bi_lstm_2)\n",
    "lstm_final = LSTM(lstm_units//4, kernel_regularizer=l2(l2_lambda))(bi_lstm_2)\n",
    "\n",
    "# Inputs for the first and last letter\n",
    "first_letter_input = Input(shape=(1,), dtype='int32', name='first_letter_input')\n",
    "last_letter_input = Input(shape=(1,), dtype='int32', name='last_letter_input')\n",
    "\n",
    "# Now use max_unicode_value in your embedding layer\n",
    "first_letter_embedding = Embedding(input_dim=max_unicode_value + 1, output_dim=letter_embedding_dim, input_length=1)(first_letter_input)\n",
    "last_letter_embedding = Embedding(input_dim=max_unicode_value + 1, output_dim=letter_embedding_dim, input_length=1)(last_letter_input)\n",
    "\n",
    "# Flatten the embeddings of the first and last letters\n",
    "first_letter_flat = Flatten()(first_letter_embedding)\n",
    "last_letter_flat = Flatten()(last_letter_embedding)\n",
    "\n",
    "# Concatenate the LSTM output with the first and last letter embeddings\n",
    "concatenated = concatenate([lstm_final, first_letter_flat, last_letter_flat])\n",
    "\n",
    "# Output layer for binary classification\n",
    "output = Dense(1, activation='sigmoid')(concatenated)\n",
    "\n",
    "# Define the model with multiple inputs\n",
    "model = Model(inputs=[name_input, first_letter_input, last_letter_input], outputs=output)\n",
    "\n",
    "# Compile the model\n",
    "model.compile(loss='binary_crossentropy', optimizer='adam', metrics=['accuracy'])\n",
    "\n",
    "# Add EarlyStopping\n",
    "early_stopping = EarlyStopping(monitor='val_loss', patience=3)\n",
    "\n",
    "# Model summary to verify architecture\n",
    "model.summary()"
   ]
  },
  {
   "cell_type": "code",
   "execution_count": 139,
   "metadata": {},
   "outputs": [],
   "source": [
    "# early_stopping = EarlyStopping(monitor='val_loss', patience=3)\n",
    "\n",
    "# # Define the BiLSTM model adjusted for character-level input\n",
    "# model = Sequential()\n",
    "\n",
    "# model.add(Embedding(input_dim=vocab_size ,output_dim=embedding_dim, input_length=total_features_shape))\n",
    "\n",
    "# model.add(Bidirectional(LSTM(lstm_units, return_sequences=True)))\n",
    "\n",
    "# model.add(Dropout(dropout_rate))\n",
    "\n",
    "# model.add(Bidirectional(LSTM(lstm_units//2, kernel_regularizer=l2(l2_lambda) ,return_sequences=True)))\n",
    "\n",
    "# model.add(Dropout(dropout_rate))\n",
    "\n",
    "# model.add(LSTM(lstm_units//4, kernel_regularizer=l2(l2_lambda)))\n",
    "\n",
    "# model.add(Dense(1, activation='sigmoid'))\n",
    "\n",
    "# # Compile the model\n",
    "# model.compile(loss='binary_crossentropy', optimizer='adam', metrics=['accuracy'])\n",
    "\n",
    "# model.summary()"
   ]
  },
  {
   "cell_type": "code",
   "execution_count": 80,
   "metadata": {},
   "outputs": [
    {
     "data": {
      "text/plain": [
       "<Experiment: artifact_location='mlflow-artifacts:/237850698007442871', creation_time=1704716553191, experiment_id='237850698007442871', last_update_time=1704716553191, lifecycle_stage='active', name='Gender Prediction Models Tracking', tags={}>"
      ]
     },
     "execution_count": 80,
     "metadata": {},
     "output_type": "execute_result"
    }
   ],
   "source": [
    "mlflow.set_tracking_uri(\"http://127.0.0.1:5000\")\n",
    "mlflow.set_experiment(\"Gender Prediction Models Tracking\")"
   ]
  },
  {
   "cell_type": "code",
   "execution_count": 81,
   "metadata": {},
   "outputs": [
    {
     "name": "stdout",
     "output_type": "stream",
     "text": [
      "Epoch 1/100\n",
      "217/217 [==============================] - 26s 93ms/step - loss: 0.5541 - accuracy: 0.7962 - val_loss: 0.4004 - val_accuracy: 0.8428\n",
      "Epoch 2/100\n",
      "217/217 [==============================] - 19s 87ms/step - loss: 0.4134 - accuracy: 0.8305 - val_loss: 0.3873 - val_accuracy: 0.8497\n",
      "Epoch 3/100\n",
      "217/217 [==============================] - 20s 90ms/step - loss: 0.3948 - accuracy: 0.8370 - val_loss: 0.3648 - val_accuracy: 0.8509\n",
      "Epoch 4/100\n",
      "217/217 [==============================] - 19s 86ms/step - loss: 0.3823 - accuracy: 0.8376 - val_loss: 0.3767 - val_accuracy: 0.8451\n",
      "Epoch 5/100\n",
      "217/217 [==============================] - 18s 85ms/step - loss: 0.3765 - accuracy: 0.8435 - val_loss: 0.3507 - val_accuracy: 0.8624\n",
      "Epoch 6/100\n",
      "217/217 [==============================] - 18s 83ms/step - loss: 0.3649 - accuracy: 0.8476 - val_loss: 0.3609 - val_accuracy: 0.8509\n",
      "Epoch 7/100\n",
      "217/217 [==============================] - 19s 86ms/step - loss: 0.3614 - accuracy: 0.8472 - val_loss: 0.3436 - val_accuracy: 0.8532\n",
      "Epoch 8/100\n",
      "217/217 [==============================] - 20s 93ms/step - loss: 0.3515 - accuracy: 0.8535 - val_loss: 0.3410 - val_accuracy: 0.8566\n",
      "Epoch 9/100\n",
      "217/217 [==============================] - 21s 96ms/step - loss: 0.3449 - accuracy: 0.8548 - val_loss: 0.3376 - val_accuracy: 0.8659\n",
      "Epoch 10/100\n",
      "217/217 [==============================] - 20s 90ms/step - loss: 0.3343 - accuracy: 0.8616 - val_loss: 0.3344 - val_accuracy: 0.8728\n",
      "Epoch 11/100\n",
      "217/217 [==============================] - 19s 87ms/step - loss: 0.3259 - accuracy: 0.8628 - val_loss: 0.3377 - val_accuracy: 0.8671\n",
      "Epoch 12/100\n",
      "217/217 [==============================] - 18s 82ms/step - loss: 0.3199 - accuracy: 0.8655 - val_loss: 0.3350 - val_accuracy: 0.8717\n",
      "Epoch 13/100\n",
      "217/217 [==============================] - 17s 81ms/step - loss: 0.3081 - accuracy: 0.8714 - val_loss: 0.3454 - val_accuracy: 0.8613\n",
      "28/28 [==============================] - 1s 31ms/step - loss: 0.3559 - accuracy: 0.8453\n",
      "28/28 [==============================] - 2s 32ms/step\n"
     ]
    },
    {
     "name": "stderr",
     "output_type": "stream",
     "text": [
      "WARNING:absl:Found untraced functions such as lstm_cell_80_layer_call_fn, lstm_cell_80_layer_call_and_return_conditional_losses, lstm_cell_75_layer_call_fn, lstm_cell_75_layer_call_and_return_conditional_losses, lstm_cell_76_layer_call_fn while saving (showing 5 of 10). These functions will not be directly callable after loading.\n"
     ]
    },
    {
     "name": "stdout",
     "output_type": "stream",
     "text": [
      "INFO:tensorflow:Assets written to: C:\\Users\\FARISA~1\\AppData\\Local\\Temp\\tmp53lqbffm\\model\\data\\model\\assets\n"
     ]
    },
    {
     "name": "stderr",
     "output_type": "stream",
     "text": [
      "INFO:tensorflow:Assets written to: C:\\Users\\FARISA~1\\AppData\\Local\\Temp\\tmp53lqbffm\\model\\data\\model\\assets\n"
     ]
    },
    {
     "name": "stdout",
     "output_type": "stream",
     "text": [
      "\n",
      "-----------------------------------------------------------\n",
      "Validation Accuracy: 0.845\n",
      "F1 Score: 0.896\n",
      "Precision: 0.885\n",
      "Recall: 0.907\n",
      "ROC AUC: 0.899\n",
      "-----------------------------------------------------------\n"
     ]
    }
   ],
   "source": [
    "# MLflow tracking\n",
    "with mlflow.start_run():\n",
    "    # Log model parameters\n",
    "    mlflow.log_params({\n",
    "        \"embedding_dim\": embedding_dim,\n",
    "        \"lstm_units\": lstm_units,\n",
    "        \"max_name_length\": max_name_length,\n",
    "        \"vocab_size\": vocab_size,\n",
    "        \"epochs\": epochs,\n",
    "        \"batch_size\": batch_size,\n",
    "        \"l2_reg\": l2_lambda,\n",
    "        \"dropout_rate\": dropout_rate,\n",
    "        \"train_size_percentage\": train_size_percentage,\n",
    "        \"test_size_percentage\": test_size_percentage,\n",
    "        \"validation_size_percentage\": validation_size_percentage,\n",
    "    })\n",
    "\n",
    "    # Train the model\n",
    "    history = model.fit(X_train, y_train, validation_data=(X_val, y_val), epochs=epochs, batch_size=batch_size, callbacks=[early_stopping])\n",
    "\n",
    "    # Log training history\n",
    "    for epoch in range(len(history.history['accuracy'])):\n",
    "        mlflow.log_metric(\"train_accuracy\", history.history['accuracy'][epoch], step=epoch)\n",
    "        mlflow.log_metric(\"val_accuracy\", history.history['val_accuracy'][epoch], step=epoch)\n",
    "\n",
    "    # Evaluate the model\n",
    "    loss, accuracy = model.evaluate(X_test, y_test)\n",
    "    mlflow.log_metrics({\"val_loss\": loss, \"val_accuracy\": accuracy})\n",
    "\n",
    "    # Predictions and additional metrics\n",
    "    y_pred = model.predict(X_test)\n",
    "    y_pred_classes = np.where(y_pred > 0.5, 1, 0).reshape(-1)\n",
    "    f1 = f1_score(y_test, y_pred_classes)\n",
    "    precision = precision_score(y_test, y_pred_classes)\n",
    "    recall = recall_score(y_test, y_pred_classes)\n",
    "    roc_auc = roc_auc_score(y_test, y_pred)\n",
    "\n",
    "    # Confusion matrix calculation\n",
    "    cm = confusion_matrix(y_test, y_pred_classes)\n",
    "\n",
    "    # Log additional metrics\n",
    "    mlflow.log_metrics({\"val_f1_score\": f1,\n",
    "     \"val_precision\": precision,\n",
    "      \"val_recall\": recall,\n",
    "     \"val_roc_auc\": roc_auc\n",
    "     })\n",
    "\n",
    "    # Log model architecture\n",
    "    model_architecture_str = []\n",
    "\n",
    "    # Define a function to append each line of the model summary to the list\n",
    "    def append_model_summary(line):\n",
    "        model_architecture_str.append(line)\n",
    "\n",
    "    # Generate model summary\n",
    "    model.summary(print_fn=append_model_summary)\n",
    "\n",
    "    # Convert list to string\n",
    "    model_architecture_str = '\\n'.join(model_architecture_str)\n",
    "\n",
    "    # Infer the signature using the combined data and predictions\n",
    "    signature = infer_signature(X, y_pred)\n",
    "\n",
    "    mlflow.keras.log_model(model, \"model\", signature=signature)\n",
    "\n",
    "    # Set additional tags\n",
    "    mlflow.set_tags({\n",
    "        \"Description\": \"Character-Level BiLSTM\",\n",
    "        \"Encoding\": \"Character-Level with embedings\",\n",
    "        \"Features\": ', '.join(df.columns.tolist()),\n",
    "        'Number of Features':len(df.columns.tolist()),\n",
    "        \"Model Type\": \"BiLSTM\",\n",
    "        \"model_architecture\": model_architecture_str,\n",
    "        \"confusion_matrix\":cm\n",
    "    })\n",
    "\n",
    "print()\n",
    "print('-----------------------------------------------------------')\n",
    "print(f\"Validation Accuracy: {round(accuracy, 3)}\")\n",
    "print(f\"F1 Score: {round(f1, 3)}\")\n",
    "print(f\"Precision: {round(precision, 3)}\")\n",
    "print(f\"Recall: {round(recall, 3)}\")\n",
    "print(f\"ROC AUC: {round(roc_auc, 3)}\")\n",
    "print('-----------------------------------------------------------')\n",
    "# End MLflow run"
   ]
  },
  {
   "cell_type": "code",
   "execution_count": 82,
   "metadata": {},
   "outputs": [
    {
     "data": {
      "image/png": "[encoded data removed]",
      "text/plain": [
       "<Figure size 1200x500 with 1 Axes>"
      ]
     },
     "metadata": {},
     "output_type": "display_data"
    }
   ],
   "source": [
    "# Apply the seaborn style to make plots nicer\n",
    "sns.set(style=\"whitegrid\")\n",
    "\n",
    "# Create the figure with a specific size\n",
    "plt.figure(figsize=(12, 5))\n",
    "\n",
    "# Accuracy plot\n",
    "plt.subplot(1, 1, 1)\n",
    "plt.plot(history.history['accuracy'], label='Train Accuracy', linewidth=2, marker='o', markersize=5)\n",
    "plt.plot(history.history['val_accuracy'], label='Validation Accuracy', linewidth=2, marker='s', markersize=5)\n",
    "\n",
    "# Title and labels\n",
    "plt.title('Model Accuracy Over Epochs', fontsize=16)\n",
    "plt.ylabel('Accuracy', fontsize=14)\n",
    "plt.xlabel('Epoch', fontsize=14)\n",
    "\n",
    "# Legend\n",
    "plt.legend(loc='upper left', fontsize=12)\n",
    "\n",
    "# Set limits and ticks for readability\n",
    "plt.xlim(0, len(history.history['accuracy']) - 1)\n",
    "plt.ylim(0.7, max(max(history.history['accuracy']), max(history.history['val_accuracy'])) + 0.05)\n",
    "plt.xticks(fontsize=12)\n",
    "plt.yticks(fontsize=12);"
   ]
  },
  {
   "cell_type": "code",
   "execution_count": 83,
   "metadata": {},
   "outputs": [
    {
     "data": {
      "text/plain": [
       "Text(92.25, 0.5, 'True Label')"
      ]
     },
     "execution_count": 83,
     "metadata": {},
     "output_type": "execute_result"
    },
    {
     "data": {
      "image/png": "[encoded data removed]",
      "text/plain": [
       "<Figure size 1000x700 with 1 Axes>"
      ]
     },
     "metadata": {},
     "output_type": "display_data"
    }
   ],
   "source": [
    "# Plotting the confusion matrix\n",
    "plt.figure(figsize=(10, 7))\n",
    "sns.heatmap(cm, annot=True, fmt='d', cmap='Blues', cbar=False)\n",
    "plt.title('Confusion Matrix')\n",
    "plt.xlabel('Predicted Label')\n",
    "plt.ylabel('True Label')"
   ]
  },
  {
   "cell_type": "code",
   "execution_count": 84,
   "metadata": {},
   "outputs": [],
   "source": [
    "# model.save(\"BiLSTM-87_val_acc-91_f_sc.h5\")"
   ]
  },
  {
   "cell_type": "code",
   "execution_count": null,
   "metadata": {},
   "outputs": [],
   "source": []
  }
 ],
 "metadata": {
  "kernelspec": {
   "display_name": "ds",
   "language": "python",
   "name": "python3"
  },
  "language_info": {
   "codemirror_mode": {
    "name": "ipython",
    "version": 3
   },
   "file_extension": ".py",
   "mimetype": "text/x-python",
   "name": "python",
   "nbconvert_exporter": "python",
   "pygments_lexer": "ipython3",
   "version": "3.8.18"
  }
 },
 "nbformat": 4,
 "nbformat_minor": 2
}
